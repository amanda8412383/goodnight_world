{
 "cells": [
  {
   "cell_type": "code",
   "execution_count": 7,
   "metadata": {},
   "outputs": [
    {
     "name": "stdout",
     "output_type": "stream",
     "text": [
      "Requirement already satisfied: imageio in c:\\users\\amand\\appdata\\local\\programs\\python\\python37\\lib\\site-packages (2.1.2)\n",
      "Requirement already satisfied: pillow in c:\\users\\amand\\appdata\\local\\programs\\python\\python37\\lib\\site-packages (from imageio) (7.0.0)\n",
      "Requirement already satisfied: numpy in c:\\users\\amand\\appdata\\local\\programs\\python\\python37\\lib\\site-packages (from imageio) (1.17.3)\n"
     ]
    }
   ],
   "source": [
    "import sys\n",
    "\n",
    "!{sys.executable} -m pip install imageio\n"
   ]
  },
  {
   "cell_type": "code",
   "execution_count": 15,
   "metadata": {
    "scrolled": true
   },
   "outputs": [
    {
     "name": "stdout",
     "output_type": "stream",
     "text": [
      "Request return 429 error!\n",
      "{'message': 'Please wait a few minutes before you try again.', 'status': 'fail'}\n",
      "Request return 405 error!\n",
      "{'message': '', 'status': 'fail'}\n",
      "Request return 404 error!\n",
      "Login success!\n",
      "\n"
     ]
    },
    {
     "data": {
      "text/plain": [
       "True"
      ]
     },
     "execution_count": 15,
     "metadata": {},
     "output_type": "execute_result"
    }
   ],
   "source": [
    "import imageio\n",
    "#imageio.plugins.ffmpeg.download()\n",
    "from InstagramAPI import InstagramAPI\n",
    "username=\"amanda8412383yahoo\"\n",
    "InstagramAPI = InstagramAPI(username, \"a22a26a28\")\n",
    "InstagramAPI.login()"
   ]
  },
  {
   "cell_type": "code",
   "execution_count": 18,
   "metadata": {},
   "outputs": [
    {
     "name": "stdout",
     "output_type": "stream",
     "text": [
      "Request return 405 error!\n",
      "{'message': '', 'status': 'fail'}\n"
     ]
    },
    {
     "data": {
      "text/plain": [
       "{'message': '', 'status': 'fail'}"
      ]
     },
     "execution_count": 18,
     "metadata": {},
     "output_type": "execute_result"
    }
   ],
   "source": [
    "InstagramAPI.timelineFeed()\n",
    "result = InstagramAPI.LastJson\n",
    "result"
   ]
  },
  {
   "cell_type": "code",
   "execution_count": null,
   "metadata": {},
   "outputs": [],
   "source": []
  },
  {
   "cell_type": "code",
   "execution_count": 32,
   "metadata": {
    "scrolled": true
   },
   "outputs": [
    {
     "ename": "TypeError",
     "evalue": "__init__() got an unexpected keyword argument 'auth'",
     "output_type": "error",
     "traceback": [
      "\u001b[1;31m---------------------------------------------------------------------------\u001b[0m",
      "\u001b[1;31mTypeError\u001b[0m                                 Traceback (most recent call last)",
      "\u001b[1;32m<ipython-input-32-f9e271521a44>\u001b[0m in \u001b[0;36m<module>\u001b[1;34m\u001b[0m\n\u001b[0;32m     68\u001b[0m         \u001b[1;32mexcept\u001b[0m \u001b[0mException\u001b[0m \u001b[1;32mas\u001b[0m \u001b[0me\u001b[0m\u001b[1;33m:\u001b[0m\u001b[1;33m\u001b[0m\u001b[1;33m\u001b[0m\u001b[0m\n\u001b[0;32m     69\u001b[0m             \u001b[1;32mraise\u001b[0m \u001b[0mself\u001b[0m\u001b[1;33m.\u001b[0m\u001b[0mError\u001b[0m\u001b[1;33m(\u001b[0m\u001b[0me\u001b[0m\u001b[1;33m)\u001b[0m\u001b[1;33m\u001b[0m\u001b[1;33m\u001b[0m\u001b[0m\n\u001b[1;32m---> 70\u001b[1;33m \u001b[0mAPIClient\u001b[0m\u001b[1;33m(\u001b[0m\u001b[1;34m\"https://www.instagram.com/trivago/?hl=en\"\u001b[0m\u001b[1;33m,\u001b[0m \u001b[0mauth\u001b[0m\u001b[1;33m=\u001b[0m\u001b[1;33m(\u001b[0m\u001b[1;34m'amanda8412383yahoo'\u001b[0m\u001b[1;33m,\u001b[0m \u001b[1;34m'a22a26a28'\u001b[0m\u001b[1;33m)\u001b[0m\u001b[1;33m)\u001b[0m\u001b[1;33m\u001b[0m\u001b[1;33m\u001b[0m\u001b[0m\n\u001b[0m",
      "\u001b[1;31mTypeError\u001b[0m: __init__() got an unexpected keyword argument 'auth'"
     ]
    }
   ],
   "source": [
    "import requests\n",
    "\n",
    "\n",
    "class RateLimitError(Exception):\n",
    "    pass\n",
    "\n",
    "class ClientError(Exception):\n",
    "    pass\n",
    "\n",
    "class APIClient(object):\n",
    "    \"\"\"\n",
    "    A generic API client to handle interaction using the\n",
    "    requests module; throw specific errors based on various responses\n",
    "    \"\"\"\n",
    "\n",
    "    # Should be overwritten by implementations, i.e. HTTPError=FacebookHTTPError\n",
    "    HTTPError = requests.exceptions.HTTPError\n",
    "    ConnectionError = requests.exceptions.ConnectionError\n",
    "    Error = ClientError\n",
    "    RateLimitError = RateLimitError\n",
    "\n",
    "    def __init__(self):\n",
    "        \"\"\" Throw exceptions if BASE_URI or BASE_PARAMS are not set \"\"\"\n",
    "        if not hasattr(self, 'BASE_URI'):\n",
    "            raise NotImplementedError('Must specify a base uri')\n",
    "        if not hasattr(self, 'BASE_PARAMS'):\n",
    "            raise NotImplementedError('Must specify base params')\n",
    "\n",
    "    def _validate_response(self, response):\n",
    "        \"\"\" Optional response validation \"\"\"\n",
    "        pass\n",
    "\n",
    "    def _validate_error(self, response):\n",
    "        \"\"\"\n",
    "        Optional error validation, for when you want to raise a specific\n",
    "        exception, for example rate limit exceptions.\n",
    "        \"\"\"\n",
    "        pass\n",
    "\n",
    "    def _get(self, url, params={}, timeout=10, retries=3):\n",
    "        \"\"\"\n",
    "        Gets a response based on the url and params passed to it; \n",
    "        will retry 3 times if there is a connection error\n",
    "        \"\"\"\n",
    "        full_url = '{}/{}'.format(self.BASE_URI, url)\n",
    "        while retries > 0:\n",
    "            try:\n",
    "                if hasattr(self, 'BASE_PARAMS'):\n",
    "                    params.update(self.BASE_PARAMS)\n",
    "                response = requests.get(full_url, params=params)\n",
    "                try:\n",
    "                    response.raise_for_status()\n",
    "                    self._validate_response(response)\n",
    "                    return response\n",
    "                except requests.exceptions.HTTPError as e:\n",
    "                    self._validate_error(response)\n",
    "                    raise self.HTTPError(e)\n",
    "            except (requests.exceptions.ConnectionError,\n",
    "                    requests.exceptions.Timeout) as e:\n",
    "                retries -= 1\n",
    "                if not retries:\n",
    "                    raise self.ConnectionError(e)\n",
    "\n",
    "    def _json(self, response):\n",
    "        \"\"\" Try to convert the response to JSON \"\"\"\n",
    "        try:\n",
    "            return response.json()\n",
    "        except Exception as e:\n",
    "            raise self.Error(e)\n",
    "APIClient(\"https://www.instagram.com/trivago/?hl=en\", auth=('amanda8412383yahoo', 'a22a26a28'))\n"
   ]
  },
  {
   "cell_type": "code",
   "execution_count": 37,
   "metadata": {},
   "outputs": [
    {
     "data": {
      "image/jpeg": "[encoded data removed]",
      "text/plain": [
       "<IPython.core.display.Image object>"
      ]
     },
     "execution_count": 37,
     "metadata": {},
     "output_type": "execute_result"
    }
   ],
   "source": [
    "\n",
    "from IPython.display import Image\n",
    "from IPython.core.display import HTML \n",
    "Image(filename = \"img/employee.jpg\")\n",
    "\n",
    "Image(filename = \"img/market cap.jpg\")\n",
    "Image(filename = \"img/twitter followers.jpg\")\n"
   ]
  },
  {
   "cell_type": "markdown",
   "metadata": {},
   "source": [
    "![title](img/employee.jpg)"
   ]
  }
 ],
 "metadata": {
  "kernelspec": {
   "display_name": "Python 3",
   "language": "python",
   "name": "python3"
  },
  "language_info": {
   "codemirror_mode": {
    "name": "ipython",
    "version": 3
   },
   "file_extension": ".py",
   "mimetype": "text/x-python",
   "name": "python",
   "nbconvert_exporter": "python",
   "pygments_lexer": "ipython3",
   "version": "3.7.5"
  }
 },
 "nbformat": 4,
 "nbformat_minor": 2
}
