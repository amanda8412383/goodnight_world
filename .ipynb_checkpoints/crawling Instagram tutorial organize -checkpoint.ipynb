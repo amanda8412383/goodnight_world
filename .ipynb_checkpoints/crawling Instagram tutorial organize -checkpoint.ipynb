{
 "cells": [
  {
   "cell_type": "markdown",
   "metadata": {},
   "source": [
    " (scrolling down to see my modifying code)\n",
    "<br/><br/>\n",
    "\n",
    "\n",
    "most problem should be resulted from compatability(or maybe just me misusing it)\n",
    "\n",
    "it's undoubt all of these coder are way better than me"
   ]
  },
  {
   "cell_type": "markdown",
   "metadata": {},
   "source": [
    "### MAIN REFERENCE\n",
    "chinese\n",
    "\n",
    "2019/ 09 \n",
    "\n",
    "https://cloud.tencent.com/developer/article/1339809\n",
    "\n",
    "her code is the only one work well since it's most recent one, but it's mainly about scraping photo so I adapte a little for collecting data"
   ]
  },
  {
   "cell_type": "markdown",
   "metadata": {},
   "source": [
    "### Chinese\n",
    "1\n",
    "\n",
    "2018/ 09\n",
    "\n",
    "https://github.com/hilqiqi0/crawler/blob/master/simple/instagram/instagram.py\n",
    "\n",
    "X-Instagram-GIS is no longer applicable\n",
    "\n",
    "I took the structure of data cleaning from here\n",
    "\n",
    "2\n",
    "\n",
    "2018/10\n",
    "\n",
    "https://github.com/Mrrrrr10/Instagram_Spider\n",
    "\n",
    "X-Instagram-GIS is no longer applicable\n",
    "\n",
    "instruction is very confusing to ppl knows nothing about crawling like me\n",
    "\n",
    "3\n",
    "\n",
    "2019/01\n",
    "\n",
    "http://anddymao.com/2019/01/29/2019-1-29-python%E7%88%AC%E8%99%AB%E6%8A%93%E5%8F%96instagram%E4%BF%A1%E6%81%AF/\n",
    "\n",
    "I can't reach firefox selenium.webdriver might be path issue, but the code's not easy to comprehend in the first place\n",
    "\n",
    "4\n",
    "\n",
    "2019/06\n",
    "\n",
    "https://github.com/luengwaiban/instagram-python-scraper\n",
    "\n",
    "limited field \n",
    "\n",
    "### English\n",
    "5\n",
    "\n",
    "2018/05\n",
    "\n",
    "https://github.com/LevPasha/Instagram-API-python\n",
    "\n",
    "for personal account management\n",
    "\n",
    "6\n",
    "\n",
    "2019/09\n",
    "\n",
    "https://github.com/huaying/instagram-crawler\n",
    "\n",
    "Taiwanese fellow here but there are a lot of field in the function can't be fetched as it should, and posts_full simply doesn't work\n",
    "\n",
    "\n",
    "7\n",
    "\n",
    "2019/11\n",
    "\n",
    "https://github.com/timgrossmann/instagram-profilecrawl\n",
    "\n",
    "path problem with webdriver and after one successful attemp the code crashed, limited field\n",
    "\n",
    "\n"
   ]
  },
  {
   "cell_type": "code",
   "execution_count": null,
   "metadata": {},
   "outputs": [],
   "source": []
  }
 ],
 "metadata": {
  "kernelspec": {
   "display_name": "Python 3",
   "language": "python",
   "name": "python3"
  },
  "language_info": {
   "codemirror_mode": {
    "name": "ipython",
    "version": 3
   },
   "file_extension": ".py",
   "mimetype": "text/x-python",
   "name": "python",
   "nbconvert_exporter": "python",
   "pygments_lexer": "ipython3",
   "version": "3.7.5"
  }
 },
 "nbformat": 4,
 "nbformat_minor": 2
}
