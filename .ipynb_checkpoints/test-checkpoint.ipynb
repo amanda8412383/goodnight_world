{
 "cells": [
  {
   "cell_type": "code",
   "execution_count": 4,
   "metadata": {},
   "outputs": [
    {
     "name": "stdout",
     "output_type": "stream",
     "text": [
      "0\n",
      "2\n",
      "4\n",
      "6\n"
     ]
    }
   ],
   "source": [
    "def NextPowTwo(max_ele):\n",
    "    n = 0\n",
    "    while n < max_ele:\n",
    "        yield 2 * n\n",
    "        n += 1\n",
    "    raise StopIteration\n",
    "            \n",
    "obj = NextPowTwo(20)\n",
    "print (next(obj))\n",
    "print (next(obj))\n",
    "print (next(obj))\n",
    "print (next(obj))\n",
    "# print (obj.next())\n",
    "# print (obj.next())\n",
    "# print (obj.next())"
   ]
  },
  {
   "cell_type": "code",
   "execution_count": 2,
   "metadata": {},
   "outputs": [
    {
     "name": "stdout",
     "output_type": "stream",
     "text": [
      "1\n",
      "4\n",
      "27\n"
     ]
    }
   ],
   "source": [
    "def func():\n",
    "  n = 1\n",
    "  while n < 25:\n",
    "    yield n**n\n",
    "    n += 1\n",
    "    \n",
    "if __name__ == '__main__':\n",
    "  it = func()\n",
    "  print (next(it))\n",
    "  print (next(it))\n",
    "  print (next(it))"
   ]
  }
 ],
 "metadata": {
  "kernelspec": {
   "display_name": "Python 3",
   "language": "python",
   "name": "python3"
  },
  "language_info": {
   "codemirror_mode": {
    "name": "ipython",
    "version": 3
   },
   "file_extension": ".py",
   "mimetype": "text/x-python",
   "name": "python",
   "nbconvert_exporter": "python",
   "pygments_lexer": "ipython3",
   "version": "3.6.8"
  }
 },
 "nbformat": 4,
 "nbformat_minor": 2
}
