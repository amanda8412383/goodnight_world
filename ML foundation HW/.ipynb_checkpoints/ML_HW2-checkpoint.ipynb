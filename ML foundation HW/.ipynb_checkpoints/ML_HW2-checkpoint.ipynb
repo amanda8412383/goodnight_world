{
 "cells": [
  {
   "cell_type": "markdown",
   "metadata": {},
   "source": [
    "### REFERENCE:\n",
    "https://github.com/Doraemonzzz/ML-Foundation-and-ML-Techniques/blob/master/hw2/%E5%8F%B0%E5%A4%A7%E6%9C%BA%E5%99%A8%E5%AD%A6%E4%B9%A0%E4%BD%9C%E4%B8%9A%E4%BA%8C.pdf\n"
   ]
  },
  {
   "cell_type": "code",
   "execution_count": 2,
   "metadata": {},
   "outputs": [],
   "source": [
    "import numpy as np\n",
    "import matplotlib.pyplot as plt"
   ]
  },
  {
   "cell_type": "code",
   "execution_count": 32,
   "metadata": {},
   "outputs": [
    {
     "data": {
      "image/png": "[encoded data removed]",
      "text/plain": [
       "<Figure size 432x288 with 1 Axes>"
      ]
     },
     "metadata": {
      "needs_background": "light"
     },
     "output_type": "display_data"
    },
    {
     "name": "stdout",
     "output_type": "stream",
     "text": [
      "0.15\n"
     ]
    },
    {
     "data": {
      "image/png": "[encoded data removed]",
      "text/plain": [
       "<Figure size 432x288 with 1 Axes>"
      ]
     },
     "metadata": {
      "needs_background": "light"
     },
     "output_type": "display_data"
    },
    {
     "name": "stdout",
     "output_type": "stream",
     "text": [
      "0.22180234369938254\n"
     ]
    }
   ],
   "source": [
    "def data(n, p=0.2):\n",
    "    #产生20个随机数\n",
    "    np.random.seed(0)\n",
    "    X = np.random.uniform(-1, 1, size=(n))\n",
    "    #产生(X, y)，注意有p的误差\n",
    "    y = np.sign(X)\n",
    "    np.random.seed(0)\n",
    "    prob = np.random.uniform(0, 1, n)\n",
    "    y[prob < p] *= -1\n",
    "    #choose out value < p and change sign\n",
    "    return X, y\n",
    "\n",
    "#产生theta，注意这里只要取n个点相邻两点间的点n-1个点以及两侧的两个点即可\n",
    "def Theta(X):\n",
    "    theta = (X[1:] + X[:-1]) / 2\n",
    "    theta = np.r_[[X[0] - 1], theta]\n",
    "    #row merge to add back first and last point\n",
    "    theta = np.r_[theta, [X[-1] + 1]]\n",
    "    \n",
    "    #修改维度后范围\n",
    "    #reshape it to make sure it's a column\n",
    "    return theta.reshape(-1, 1)\n",
    "\n",
    "def decision_stump(X, y):\n",
    "    #排序\n",
    "    X1 = np.sort(X)\n",
    "    #计算theta\n",
    "    theta = Theta(X1)\n",
    "    #向量化执行计算\n",
    "    n = theta.shape[0]\n",
    "    m = X.shape[0]\n",
    "    #将X复制按横轴n份\n",
    "    X = np.tile(X, (n, 1))\n",
    "    #s=1\n",
    "    y1 = np.sign(X - theta)\n",
    "    #s=-1\n",
    "    y2 = np.sign(X - theta) * (-1)\n",
    "    #统计错误\n",
    "    error1 = np.sum(y1!=y, axis = 1)\n",
    "    error2 = np.sum(y2!=y, axis = 1)\n",
    "    #计算最小错误对应的下标\n",
    "    i1 = np.argmin(error1)\n",
    "    i2 = np.argmin(error2)\n",
    "    #判断哪个误差更小\n",
    "    if error1[i1] < error2[i2]:\n",
    "        s = 1\n",
    "        t = theta[i1][0]\n",
    "        error = error1[i1] / m\n",
    "    else:\n",
    "        s = -1\n",
    "        t = theta[i2][0]\n",
    "        error = error2[i2] / m\n",
    "    return s, t, error\n",
    "\n",
    "Ein = []\n",
    "Eout = []\n",
    "n = 20\n",
    "m = 5000\n",
    "for i in range(m):\n",
    "    X, y = data(n)\n",
    "    s, t, ein = decision_stump(X, y)\n",
    "    #计算eout\n",
    "    eout = 0.5 + 0.3 * s * (np.abs(t) - 1)\n",
    "    Ein.append(ein)\n",
    "    Eout.append(eout)\n",
    "\n",
    "#Problem 17\n",
    "plt.hist(Ein)\n",
    "plt.title('Ein')\n",
    "plt.show()\n",
    "\n",
    "print(np.mean(Ein))\n",
    "\n",
    "#Problem 18\n",
    "plt.hist(Eout)\n",
    "plt.title('Eout')\n",
    "plt.show()\n",
    "\n",
    "print(np.mean(Eout))"
   ]
  },
  {
   "cell_type": "code",
   "execution_count": 33,
   "metadata": {},
   "outputs": [
    {
     "name": "stdout",
     "output_type": "stream",
     "text": [
      "-1 1.6175000000000002 3 0.25\n",
      "0.355\n"
     ]
    }
   ],
   "source": [
    "def decision_stump(X, y):\n",
    "    #排序\n",
    "    X1 = np.sort(X)\n",
    "    #计算theta\n",
    "    theta = Theta(X1)\n",
    "    #向量化执行计算\n",
    "    n = theta.shape[0]\n",
    "    #将X复制按横轴n份\n",
    "    X = np.tile(X, (n, 1))\n",
    "    #s=1\n",
    "    y1 = np.sign(X - theta)\n",
    "    #s=-1\n",
    "    y2 = np.sign(X - theta) * (-1)\n",
    "    #统计错误\n",
    "    error1 = np.sum(y1!=y, axis = 1)\n",
    "    error2 = np.sum(y2!=y, axis = 1)\n",
    "    #计算最小错误对应的下标\n",
    "    i1 = np.argmin(error1)\n",
    "    i2 = np.argmin(error2)\n",
    "    #判断哪个误差更小\n",
    "    if error1[i1] < error2[i2]:\n",
    "        s = 1\n",
    "        t = theta[i1][0]\n",
    "        error = error1[i1] / n\n",
    "        #difference   error = error1[i1] / m\n",
    "    else:\n",
    "        s = -1\n",
    "        t = theta[i2][0]\n",
    "        error = error2[i2] / n\n",
    "        #difference   error = error1[i2] / m\n",
    "\n",
    "    return s, t, error\n",
    "\n",
    "def multi_decision_stump(X, y):\n",
    "    \"\"\"\n",
    "    对每个维度使用decision_stump\n",
    "    \"\"\"\n",
    "    n, m = X.shape\n",
    "    #初始化s, theta, d，最小错误为error\n",
    "    s = 1\n",
    "    t = 0\n",
    "    d = 0\n",
    "    error = 1\n",
    "    for i in range(m):\n",
    "        X1 = X[:, i]\n",
    "        s0, t0, error0 = decision_stump(X1, y)\n",
    "        if error0 < error:\n",
    "            error = error0\n",
    "            d = i\n",
    "            t = t0\n",
    "            s = s0\n",
    "    return s, t, d, error\n",
    "\n",
    "def preprocess(data):\n",
    "    X = data[:, :-1]\n",
    "    #DELETE LAST VALUE IN ALL METRIX IT CONTAINS\n",
    "    y = data[:, -1]\n",
    "    #RETRIVE ONLY LAST ONE\n",
    "    \n",
    "    return X, y \n",
    "\n",
    "#读取数据\n",
    "data_train = np.genfromtxt(\"hw2_train.dat\")\n",
    "data_test = np.genfromtxt(\"hw2_test.dat\")\n",
    "\n",
    "#预处理数据\n",
    "X_train, y_train = preprocess(data_train)\n",
    "X_test, y_test = preprocess(data_test)\n",
    "\n",
    "#Problem 19\n",
    "s, theta, d, Ein = multi_decision_stump(X_train, y_train)\n",
    "print(s, theta, d, Ein)\n",
    "\n",
    "#Problem 20\n",
    "n = X_test.shape[0]\n",
    "Eout = np.sum(s * np.sign(X_test[:, d] - theta) != y_test) / n\n",
    "print(Eout)"
   ]
  },
  {
   "cell_type": "markdown",
   "metadata": {},
   "source": [
    "# tile\n",
    "NumPy arrays is that they consist of two parts, a data buffer which is just a block of raw elements, and a view which describes how to interpret the data buffer.shape(n, ) means the array is indexed by a single index. If we reshape an array, this doesn't change the data buffer. Instead, it creates a new view that describes a different way to interpret the data. \n",
    "\n",
    "numpy.tile(A, reps)\n",
    "the result will have dimension of max(d = len(rep), A.ndim)\n",
    "e.g. len((n, 1)) = 2\n",
    "X.ndim = 1\n",
    "If A.ndim < d, A is promoted to be d-dimensional by prepending new axes. So a shape (3,) array is promoted to (1, 3) for 2-D replication, or shape (1, 1, 3) for 3-D replication. If this is not the desired behavior, promote A to d-dimensions manually before calling this function.\n",
    "\n",
    "If A.ndim > d, reps is promoted to A.ndim by pre-pending 1’s to it. Thus for an A of shape (2, 3, 4, 5), a reps of (2, 2) is treated as (1, 1, 2, 2).\n",
    "\n",
    "referennce:\n",
    "\n",
    "difference between shape(n, ) and shape(n, 1)\n",
    "\n",
    "https://stackoverflow.com/questions/22053050/difference-between-numpy-array-shape-r-1-and-r\n",
    "\n",
    "numpy tile\n",
    "\n",
    "https://docs.scipy.org/doc/numpy/reference/generated/numpy.tile.html"
   ]
  }
 ],
 "metadata": {
  "kernelspec": {
   "display_name": "Python 3",
   "language": "python",
   "name": "python3"
  },
  "language_info": {
   "codemirror_mode": {
    "name": "ipython",
    "version": 3
   },
   "file_extension": ".py",
   "mimetype": "text/x-python",
   "name": "python",
   "nbconvert_exporter": "python",
   "pygments_lexer": "ipython3",
   "version": "3.7.5"
  }
 },
 "nbformat": 4,
 "nbformat_minor": 2
}
