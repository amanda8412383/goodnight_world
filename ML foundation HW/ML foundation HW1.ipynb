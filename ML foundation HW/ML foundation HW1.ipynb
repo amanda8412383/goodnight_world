{
 "cells": [
  {
   "cell_type": "code",
   "execution_count": null,
   "metadata": {},
   "outputs": [],
   "source": [
    "#credit https://github.com/Doraemonzzz/ML-Foundation-and-ML-Techniques/tree/master/hw1"
   ]
  },
  {
   "cell_type": "code",
   "execution_count": 2,
   "metadata": {
    "jupyter": {
     "source_hidden": true
    }
   },
   "outputs": [],
   "source": [
    "import numpy as np\n",
    "import matplotlib.pyplot as plt\n",
    "plt.rcParams['font.sans-serif']=['SimHei'] #用来正常显示中文标签\n",
    "plt.rcParams['axes.unicode_minus']=False #用来正常显示负号"
   ]
  },
  {
   "cell_type": "code",
   "execution_count": 73,
   "metadata": {},
   "outputs": [
    {
     "data": {
      "text/plain": [
       "[[0, 1, 2], [6, 7, 8], [3, 4, 5]]"
      ]
     },
     "execution_count": 73,
     "metadata": {},
     "output_type": "execute_result"
    }
   ],
   "source": [
    "np.sign(0.3)\n",
    "\n",
    "np.random.seed(0)\n",
    "x = np.random.rand(3,3)\n",
    "w = np.ones(3)\n",
    "z = [[3, 4, 5],\n",
    "       [6, 7, 8],\n",
    "       [0, 1, 2]]\n",
    "np.random.shuffle(z)\n",
    "z\n"
   ]
  },
  {
   "cell_type": "code",
   "execution_count": 46,
   "metadata": {},
   "outputs": [],
   "source": [
    "def Judge(X, y, w):\n",
    "    \"\"\"\n",
    "    v判别函数，判断所有数据是否分类完成\n",
    "    \"\"\"\n",
    "    n = X.shape[0]\n",
    "    #判断是否分类完成\n",
    "    num = np.sum(X.dot(w) * y > 0)\n",
    "    #x 400*5 w 5*1 y 400*1 \n",
    "    #x.dot * w is element times element\n",
    "    return num == n\n",
    "\n",
    "def preprocess(data):\n",
    "    \"\"\"\n",
    "    v数据预处理\n",
    "    \"\"\"\n",
    "    #获取维度\n",
    "    n, d = data.shape\n",
    "    #retrive all but last column\n",
    "    X = data[:, :-1]\n",
    "    ##add 1 at first col\n",
    "    X = np.c_[np.ones(n), X]\n",
    "    #rerive last column\n",
    "    y = data[:, -1]\n",
    "    \n",
    "    return X, y\n",
    "\n",
    "\n",
    "def count(X, y, w):\n",
    "    \"\"\"\n",
    "    v统计错误数量\n",
    "    \"\"\"\n",
    "    num = np.sum(X.dot(w) * y <= 0)\n",
    "    return np.sum(num)\n",
    "\n",
    "def PLA(X, y, eta=1, max_step=np.inf):\n",
    "    \"\"\"\n",
    "    vPLA算法，X，y为输入数据，eta为步长，默认为1，max_step为最多迭代次数，默认为无穷\n",
    "    \"\"\"\n",
    "    #获取维度\n",
    "    n, d = X.shape\n",
    "    #初始化\n",
    "    w = np.zeros(d)\n",
    "    #记录迭代次数\n",
    "    t = 0\n",
    "    #记录元素的下标\n",
    "    i = 0\n",
    "    #记录最后一个错误的下标\n",
    "    last = 0\n",
    "    while not(Judge(X, y, w)) and t < max_step:\n",
    "        if np.sign(X[i, :].dot(w) * y[i]) <= 0:\n",
    "            #xi w inner product smaller * y smaller than zero == wrong line\n",
    "            #迭代次数增加\n",
    "            t += 1\n",
    "            w += eta * y[i] * X[i, :]\n",
    "            #更新最后一个错误\n",
    "            last = i\n",
    "        \n",
    "        #移动到下一个元素\n",
    "        i += 1\n",
    "        #如果达到n，则重置为0\n",
    "        if i == n:\n",
    "            i = 0\n",
    "    \n",
    "    return t, last, w\n",
    "\n",
    "def Pocket_PLA(X, y, eta=1, max_step=np.inf):\n",
    "    \"\"\"\n",
    "    vPocket_PLA算法，X，y为输入数据，eta为步长，默认为1，max_step为最多迭代次数，默认为无穷\n",
    "    \"\"\"\n",
    "    #获得数据维度\n",
    "    n, d = X.shape\n",
    "    #初始化\n",
    "    w = np.zeros(d)\n",
    "    #记录最优向量\n",
    "    w0 = np.zeros(d)\n",
    "    #记录次数\n",
    "    t = 0\n",
    "    #记录最少错误数量\n",
    "    error = count(X, y, w0)\n",
    "    #记录元素的下标\n",
    "    i = 0\n",
    "    while (error != 0 and t < max_step):\n",
    "        if np.sign(X[i, :].dot(w) * y[i]) <= 0:\n",
    "            w += eta * y[i] * X[i, :]\n",
    "            #迭代次数增加\n",
    "            t += 1\n",
    "            #记录当前错误\n",
    "            error_now = count(X, y, w)\n",
    "            if error_now < error:\n",
    "                error = error_now\n",
    "                w0 = np.copy(w)\n",
    "                #so w0 won't be affected by change in w\n",
    "\n",
    "\n",
    "        #移动到下一个元素\n",
    "        i += 1\n",
    "        #如果达到n，则重置为0\n",
    "        if i == n:\n",
    "            i = 0\n",
    "    return error, w0\n",
    "\n",
    "def f1(g, X, y, n, eta=1, max_step=np.inf):\n",
    "    \"\"\"\n",
    "    v运行g算法n次，统计平均迭代次数，eta为步长，默认为1，max_step为最多迭代次数，默认为无穷\n",
    "    \"\"\"\n",
    "    result = []\n",
    "    data = np.c_[X, y]\n",
    "    for i in range(n):\n",
    "        np.random.shuffle(data)\n",
    "        #row interchange\n",
    "        X = data[:, :-1]\n",
    "        y = data[:, -1]\n",
    "        result.append(g(X, y, eta=eta, max_step=max_step)[0])\n",
    "        \n",
    "    plt.hist(result, normed=True)\n",
    "    plt.xlabel(\"迭代次数\")\n",
    "    plt.title(\"平均运行次数为\"+str(np.mean(result)))\n",
    "    plt.show()\n",
    "    \n",
    "def f2(g, X1, y1, X2, y2, n, eta=1, max_step=np.inf):\n",
    "    \"\"\"\n",
    "    训练n次，每次在(X1, y1)上利用g算法训练，在(X2, y2)上评估结果，\n",
    "    eta为步长，默认为1，max_step为最多迭代次数，默认为无穷\n",
    "    \"\"\"\n",
    "    result = []\n",
    "    data = np.c_[X1, y1]\n",
    "    m = X2.shape[0]\n",
    "    for i in range(n):\n",
    "        np.random.shuffle(data)\n",
    "        #row interchange\n",
    "        X = data[:, :-1]\n",
    "        y = data[:, -1]\n",
    "        w = g(X, y, eta=eta, max_step=max_step)[-1]\n",
    "        result.append(count(X2, y2, w) / m)\n",
    "\n",
    "    plt.hist(result, normed=True)\n",
    "    plt.xlabel(\"错误率\")\n",
    "    plt.title(\"平均错误率为\"+str(np.mean(result)))\n",
    "    plt.show()"
   ]
  },
  {
   "cell_type": "code",
   "execution_count": 47,
   "metadata": {},
   "outputs": [
    {
     "name": "stdout",
     "output_type": "stream",
     "text": [
      "(45, 135, array([-3.       ,  3.0841436, -1.583081 ,  2.391305 ,  4.5287635]))\n"
     ]
    }
   ],
   "source": [
    "#读取数据\n",
    "data = np.genfromtxt(\"data.txt\")\n",
    "#获取维度\n",
    "n, d = data.shape\n",
    "#分离X\n",
    "X = data[:, :-1]\n",
    "#添加偏置项1\n",
    "X = np.c_[np.ones(n), X]\n",
    "#分离y\n",
    "y = data[:, -1]\n",
    "\n",
    "#problem 15    \n",
    "print(PLA(X, y))"
   ]
  },
  {
   "cell_type": "code",
   "execution_count": 48,
   "metadata": {},
   "outputs": [
    {
     "name": "stderr",
     "output_type": "stream",
     "text": [
      "c:\\users\\amand\\appdata\\local\\programs\\python\\python37\\lib\\site-packages\\ipykernel_launcher.py:113: MatplotlibDeprecationWarning: \n",
      "The 'normed' kwarg was deprecated in Matplotlib 2.1 and will be removed in 3.1. Use 'density' instead.\n",
      "findfont: Font family ['sans-serif'] not found. Falling back to DejaVu Sans.\n",
      "c:\\users\\amand\\appdata\\local\\programs\\python\\python37\\lib\\site-packages\\matplotlib\\backends\\backend_agg.py:211: RuntimeWarning: Glyph 24179 missing from current font.\n",
      "  font.set_text(s, 0.0, flags=flags)\n",
      "c:\\users\\amand\\appdata\\local\\programs\\python\\python37\\lib\\site-packages\\matplotlib\\backends\\backend_agg.py:211: RuntimeWarning: Glyph 22343 missing from current font.\n",
      "  font.set_text(s, 0.0, flags=flags)\n",
      "c:\\users\\amand\\appdata\\local\\programs\\python\\python37\\lib\\site-packages\\matplotlib\\backends\\backend_agg.py:211: RuntimeWarning: Glyph 36816 missing from current font.\n",
      "  font.set_text(s, 0.0, flags=flags)\n",
      "c:\\users\\amand\\appdata\\local\\programs\\python\\python37\\lib\\site-packages\\matplotlib\\backends\\backend_agg.py:211: RuntimeWarning: Glyph 34892 missing from current font.\n",
      "  font.set_text(s, 0.0, flags=flags)\n",
      "c:\\users\\amand\\appdata\\local\\programs\\python\\python37\\lib\\site-packages\\matplotlib\\backends\\backend_agg.py:211: RuntimeWarning: Glyph 27425 missing from current font.\n",
      "  font.set_text(s, 0.0, flags=flags)\n",
      "c:\\users\\amand\\appdata\\local\\programs\\python\\python37\\lib\\site-packages\\matplotlib\\backends\\backend_agg.py:211: RuntimeWarning: Glyph 25968 missing from current font.\n",
      "  font.set_text(s, 0.0, flags=flags)\n",
      "c:\\users\\amand\\appdata\\local\\programs\\python\\python37\\lib\\site-packages\\matplotlib\\backends\\backend_agg.py:211: RuntimeWarning: Glyph 20026 missing from current font.\n",
      "  font.set_text(s, 0.0, flags=flags)\n",
      "findfont: Font family ['sans-serif'] not found. Falling back to DejaVu Sans.\n",
      "c:\\users\\amand\\appdata\\local\\programs\\python\\python37\\lib\\site-packages\\matplotlib\\backends\\backend_agg.py:211: RuntimeWarning: Glyph 36845 missing from current font.\n",
      "  font.set_text(s, 0.0, flags=flags)\n",
      "c:\\users\\amand\\appdata\\local\\programs\\python\\python37\\lib\\site-packages\\matplotlib\\backends\\backend_agg.py:211: RuntimeWarning: Glyph 20195 missing from current font.\n",
      "  font.set_text(s, 0.0, flags=flags)\n",
      "c:\\users\\amand\\appdata\\local\\programs\\python\\python37\\lib\\site-packages\\matplotlib\\backends\\backend_agg.py:180: RuntimeWarning: Glyph 36845 missing from current font.\n",
      "  font.set_text(s, 0, flags=flags)\n",
      "c:\\users\\amand\\appdata\\local\\programs\\python\\python37\\lib\\site-packages\\matplotlib\\backends\\backend_agg.py:180: RuntimeWarning: Glyph 20195 missing from current font.\n",
      "  font.set_text(s, 0, flags=flags)\n",
      "c:\\users\\amand\\appdata\\local\\programs\\python\\python37\\lib\\site-packages\\matplotlib\\backends\\backend_agg.py:180: RuntimeWarning: Glyph 27425 missing from current font.\n",
      "  font.set_text(s, 0, flags=flags)\n",
      "c:\\users\\amand\\appdata\\local\\programs\\python\\python37\\lib\\site-packages\\matplotlib\\backends\\backend_agg.py:180: RuntimeWarning: Glyph 25968 missing from current font.\n",
      "  font.set_text(s, 0, flags=flags)\n",
      "c:\\users\\amand\\appdata\\local\\programs\\python\\python37\\lib\\site-packages\\matplotlib\\backends\\backend_agg.py:180: RuntimeWarning: Glyph 24179 missing from current font.\n",
      "  font.set_text(s, 0, flags=flags)\n",
      "c:\\users\\amand\\appdata\\local\\programs\\python\\python37\\lib\\site-packages\\matplotlib\\backends\\backend_agg.py:180: RuntimeWarning: Glyph 22343 missing from current font.\n",
      "  font.set_text(s, 0, flags=flags)\n",
      "c:\\users\\amand\\appdata\\local\\programs\\python\\python37\\lib\\site-packages\\matplotlib\\backends\\backend_agg.py:180: RuntimeWarning: Glyph 36816 missing from current font.\n",
      "  font.set_text(s, 0, flags=flags)\n",
      "c:\\users\\amand\\appdata\\local\\programs\\python\\python37\\lib\\site-packages\\matplotlib\\backends\\backend_agg.py:180: RuntimeWarning: Glyph 34892 missing from current font.\n",
      "  font.set_text(s, 0, flags=flags)\n",
      "c:\\users\\amand\\appdata\\local\\programs\\python\\python37\\lib\\site-packages\\matplotlib\\backends\\backend_agg.py:180: RuntimeWarning: Glyph 20026 missing from current font.\n",
      "  font.set_text(s, 0, flags=flags)\n"
     ]
    },
    {
     "data": {
      "image/png": "[encoded data removed]",
      "text/plain": [
       "<Figure size 432x288 with 1 Axes>"
      ]
     },
     "metadata": {
      "needs_background": "light"
     },
     "output_type": "display_data"
    }
   ],
   "source": [
    "#problem 16\n",
    "f1(PLA, X, y, 2000, 1)"
   ]
  },
  {
   "cell_type": "code",
   "execution_count": 6,
   "metadata": {},
   "outputs": [
    {
     "data": {
      "image/png": "[encoded data removed]",
      "text/plain": [
       "<Figure size 432x288 with 1 Axes>"
      ]
     },
     "metadata": {
      "needs_background": "light"
     },
     "output_type": "display_data"
    }
   ],
   "source": [
    "#problem 17\n",
    "f1(PLA, X, y, 2000, 0.5)"
   ]
  },
  {
   "cell_type": "code",
   "execution_count": 7,
   "metadata": {},
   "outputs": [
    {
     "data": {
      "image/png": "[encoded data removed]",
      "text/plain": [
       "<Figure size 432x288 with 1 Axes>"
      ]
     },
     "metadata": {
      "needs_background": "light"
     },
     "output_type": "display_data"
    }
   ],
   "source": [
    "data_train = np.genfromtxt(\"hw1_18_train.txt\")\n",
    "data_test = np.genfromtxt(\"hw1_18_test.txt\")\n",
    "#Load data from a text file, with missing values handled as specified.\n",
    "#Each line past the first skip_header lines is split at the delimiter character, \n",
    "#and characters following the comments character are discarded.\n",
    "\n",
    "X_train, y_train = preprocess(data_train)\n",
    "X_test, y_test = preprocess(data_test)\n",
    "\n",
    "#problem 18\n",
    "f2(Pocket_PLA, X_train, y_train, X_test, y_test, 2000, max_step=50)"
   ]
  },
  {
   "cell_type": "code",
   "execution_count": 10,
   "metadata": {},
   "outputs": [
    {
     "data": {
      "image/png": "[encoded data removed]",
      "text/plain": [
       "<Figure size 432x288 with 1 Axes>"
      ]
     },
     "metadata": {
      "needs_background": "light"
     },
     "output_type": "display_data"
    }
   ],
   "source": [
    "#problem 19\n",
    "result = f2(PLA, X_train, y_train, X_test, y_test, 2000, 1, max_step=50)"
   ]
  },
  {
   "cell_type": "code",
   "execution_count": 11,
   "metadata": {},
   "outputs": [
    {
     "data": {
      "image/png": "[encoded data removed]",
      "text/plain": [
       "<Figure size 432x288 with 1 Axes>"
      ]
     },
     "metadata": {
      "needs_background": "light"
     },
     "output_type": "display_data"
    }
   ],
   "source": [
    "#problem 20\n",
    "f2(Pocket_PLA, X_train, y_train, X_test, y_test, 2000, max_step=100)"
   ]
  }
 ],
 "metadata": {
  "kernelspec": {
   "display_name": "Python 3",
   "language": "python",
   "name": "python3"
  },
  "language_info": {
   "codemirror_mode": {
    "name": "ipython",
    "version": 3
   },
   "file_extension": ".py",
   "mimetype": "text/x-python",
   "name": "python",
   "nbconvert_exporter": "python",
   "pygments_lexer": "ipython3",
   "version": "3.7.9"
  }
 },
 "nbformat": 4,
 "nbformat_minor": 4
}
