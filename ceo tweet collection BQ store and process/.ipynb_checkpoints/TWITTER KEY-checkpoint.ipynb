{
 "cells": [
  {
   "cell_type": "code",
   "execution_count": null,
   "metadata": {},
   "outputs": [],
   "source": [
    "consumer_key = '3H70QQ9AzguYY5KWXmHPO9Qzi'\n",
    "consumer_secret = 'J7Pr45oEcpHHosdnQyOytHf8Sn30cZowc5bUyIBhwZTboQeh8W'\n",
    "access_token = '991551756889870341-VtFhYuXuggtMNRAg26bVykdoy7Xi6mV'\n",
    "access_secret = 'hbtF96dFDxQcNATEtnBOkT5iVNfUK7BcWnGKHktd6W9gZ'"
   ]
  }
 ],
 "metadata": {
  "kernelspec": {
   "display_name": "Python 3",
   "language": "python",
   "name": "python3"
  },
  "language_info": {
   "codemirror_mode": {
    "name": "ipython",
    "version": 3
   },
   "file_extension": ".py",
   "mimetype": "text/x-python",
   "name": "python",
   "nbconvert_exporter": "python",
   "pygments_lexer": "ipython3",
   "version": "3.6.8"
  }
 },
 "nbformat": 4,
 "nbformat_minor": 2
}
