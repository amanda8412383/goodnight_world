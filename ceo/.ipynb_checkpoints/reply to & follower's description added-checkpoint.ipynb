{
 "cells": [
  {
   "cell_type": "code",
   "execution_count": 11,
   "metadata": {},
   "outputs": [
    {
     "name": "stdout",
     "output_type": "stream",
     "text": [
      "The google.cloud.bigquery extension is already loaded. To reload it, use:\n",
      "  %reload_ext google.cloud.bigquery\n"
     ]
    }
   ],
   "source": [
    "from google.cloud import bigquery\n",
    "client = bigquery.Client.from_service_account_json(r'C:\\Users\\amand\\project\\RA_WORK_CONTENT_BQ.json')\n",
    "%load_ext google.cloud.bigquery\n",
    "import os\n",
    "os.environ[\"GOOGLE_APPLICATION_CREDENTIALS\"]=r'C:\\Users\\amand\\project\\RA_WORK_CONTENT_BQ.json'\n",
    "\n",
    "import pandas as pd\n",
    "table = '[ra-work-content.ceo_tweet_streaming.search_2017_14_backup]'\n",
    "import pandas_gbq\n",
    "import logging"
   ]
  },
  {
   "cell_type": "code",
   "execution_count": 12,
   "metadata": {},
   "outputs": [],
   "source": [
    "import tweepy\n",
    "from tweepy import OAuthHandler\n",
    "import sys\n",
    "sys.path.append(r'C:\\Users\\amand\\project')\n",
    "import twitterkey\n",
    "auth = OAuthHandler( twitterkey.consumer_key, twitterkey.consumer_secret)\n",
    "auth.set_access_token(twitterkey.access_token, twitterkey.access_secret)\n",
    "api = tweepy.API(auth, wait_on_rate_limit=True)"
   ]
  },
  {
   "cell_type": "markdown",
   "metadata": {},
   "source": [
    "## getting description of whom ceo reply to"
   ]
  },
  {
   "cell_type": "code",
   "execution_count": 13,
   "metadata": {},
   "outputs": [
    {
     "data": {
      "text/html": [
       "<div>\n",
       "<style scoped>\n",
       "    .dataframe tbody tr th:only-of-type {\n",
       "        vertical-align: middle;\n",
       "    }\n",
       "\n",
       "    .dataframe tbody tr th {\n",
       "        vertical-align: top;\n",
       "    }\n",
       "\n",
       "    .dataframe thead th {\n",
       "        text-align: right;\n",
       "    }\n",
       "</style>\n",
       "<table border=\"1\" class=\"dataframe\">\n",
       "  <thead>\n",
       "    <tr style=\"text-align: right;\">\n",
       "      <th></th>\n",
       "      <th>reply_to_user_id</th>\n",
       "    </tr>\n",
       "  </thead>\n",
       "  <tbody>\n",
       "    <tr>\n",
       "      <th>0</th>\n",
       "      <td>525058171</td>\n",
       "    </tr>\n",
       "    <tr>\n",
       "      <th>1</th>\n",
       "      <td>69575718</td>\n",
       "    </tr>\n",
       "    <tr>\n",
       "      <th>2</th>\n",
       "      <td>2537353346</td>\n",
       "    </tr>\n",
       "    <tr>\n",
       "      <th>3</th>\n",
       "      <td>2504708178</td>\n",
       "    </tr>\n",
       "    <tr>\n",
       "      <th>4</th>\n",
       "      <td>14861876</td>\n",
       "    </tr>\n",
       "    <tr>\n",
       "      <th>5</th>\n",
       "      <td>15842301</td>\n",
       "    </tr>\n",
       "    <tr>\n",
       "      <th>6</th>\n",
       "      <td>10865992</td>\n",
       "    </tr>\n",
       "    <tr>\n",
       "      <th>7</th>\n",
       "      <td>896152072701308928</td>\n",
       "    </tr>\n",
       "    <tr>\n",
       "      <th>8</th>\n",
       "      <td>14904260</td>\n",
       "    </tr>\n",
       "    <tr>\n",
       "      <th>9</th>\n",
       "      <td>18695891</td>\n",
       "    </tr>\n",
       "  </tbody>\n",
       "</table>\n",
       "</div>"
      ],
      "text/plain": [
       "     reply_to_user_id\n",
       "0           525058171\n",
       "1            69575718\n",
       "2          2537353346\n",
       "3          2504708178\n",
       "4            14861876\n",
       "5            15842301\n",
       "6            10865992\n",
       "7  896152072701308928\n",
       "8            14904260\n",
       "9            18695891"
      ]
     },
     "execution_count": 13,
     "metadata": {},
     "output_type": "execute_result"
    }
   ],
   "source": [
    "sql_query=\"\"\"\n",
    "select string(reply_to_user_id) as reply_to_user_id\n",
    "from(\n",
    "select reply_to_user_id\n",
    "from %s\n",
    "where  reply_to_user_id  is not null\n",
    "group by reply_to_user_id)\n",
    "\"\"\"%(table)\n",
    "\n",
    "query_config = bigquery.QueryJobConfig(use_legacy_sql=True)\n",
    "ceo_reply = client.query(sql_query, job_config=query_config).to_dataframe()\n",
    "ceo_reply.head(10)"
   ]
  },
  {
   "cell_type": "code",
   "execution_count": 24,
   "metadata": {},
   "outputs": [],
   "source": [
    "tweetCount = 1\n",
    "reply_cnt = 0\n",
    "result_cnt = 0\n",
    "no_twitter_cnt = 0\n",
    "fail = 0\n",
    "reply_to_id = []\n",
    "reply_to_description = []\n",
    "for index, row in ceo_reply.iterrows():\n",
    "    if reply_cnt == 3:\n",
    "        break\n",
    "    id = row['reply_to_user_id']\n",
    "    reply_cnt += 1\n",
    "\n",
    "    try:\n",
    "        tweet = api.user_timeline(user_id=id, count=tweetCount, wait_on_rate_limit_notify=True, wait_on_rate_limit=True)\n",
    "        if tweet == []:\n",
    "            no_twitter_cnt += 1\n",
    "            continue\n",
    "        else: \n",
    "            result_cnt += 1\n",
    "            for line in tweet:\n",
    "                reply_to_id.append(id)\n",
    "                reply_to_description.append(line.user.description)\n",
    "    except tweepy.TweepError:\n",
    "        fail += 1"
   ]
  },
  {
   "cell_type": "code",
   "execution_count": 29,
   "metadata": {},
   "outputs": [
    {
     "data": {
      "text/html": [
       "<div>\n",
       "<style scoped>\n",
       "    .dataframe tbody tr th:only-of-type {\n",
       "        vertical-align: middle;\n",
       "    }\n",
       "\n",
       "    .dataframe tbody tr th {\n",
       "        vertical-align: top;\n",
       "    }\n",
       "\n",
       "    .dataframe thead th {\n",
       "        text-align: right;\n",
       "    }\n",
       "</style>\n",
       "<table border=\"1\" class=\"dataframe\">\n",
       "  <thead>\n",
       "    <tr style=\"text-align: right;\">\n",
       "      <th></th>\n",
       "      <th>reply_to_user_id</th>\n",
       "      <th>reply_to_user_description</th>\n",
       "    </tr>\n",
       "  </thead>\n",
       "  <tbody>\n",
       "    <tr>\n",
       "      <th>0</th>\n",
       "      <td>525058171</td>\n",
       "      <td>Follow me as I witness the #ImagingofThings possible by #DigitalPrint &amp; workflow software, through visits w/customers, partners, EFI colleagues, industry events</td>\n",
       "    </tr>\n",
       "    <tr>\n",
       "      <th>1</th>\n",
       "      <td>69575718</td>\n",
       "      <td>Software Development Manager @Ubisoft</td>\n",
       "    </tr>\n",
       "    <tr>\n",
       "      <th>2</th>\n",
       "      <td>2537353346</td>\n",
       "      <td>Technology YouTuber, F1 Fan and a Scotsman...living in Sweden.  -----  Business inquiries to jim.parker@adoredtv.com</td>\n",
       "    </tr>\n",
       "  </tbody>\n",
       "</table>\n",
       "</div>"
      ],
      "text/plain": [
       "  reply_to_user_id  \\\n",
       "0  525058171         \n",
       "1  69575718          \n",
       "2  2537353346        \n",
       "\n",
       "                                                                                                                                          reply_to_user_description  \n",
       "0  Follow me as I witness the #ImagingofThings possible by #DigitalPrint & workflow software, through visits w/customers, partners, EFI colleagues, industry events  \n",
       "1  Software Development Manager @Ubisoft                                                                                                                             \n",
       "2  Technology YouTuber, F1 Fan and a Scotsman...living in Sweden.  -----  Business inquiries to jim.parker@adoredtv.com                                              "
      ]
     },
     "execution_count": 29,
     "metadata": {},
     "output_type": "execute_result"
    }
   ],
   "source": [
    "    \n",
    "rid = pd.Series(reply_to_id)   \n",
    "des = pd.Series(reply_to_description)\n",
    "reply_description = pd.concat([rid, des, ], axis=1)\n",
    "reply_description.columns =['reply_to_user_id', 'reply_to_user_description']\n",
    "pd.set_option('display.max_colwidth', -1)\n",
    "reply_description.head(10)\n"
   ]
  },
  {
   "cell_type": "code",
   "execution_count": null,
   "metadata": {},
   "outputs": [],
   "source": [
    "\n",
    "logger = logging.getLogger('pandas_gbq')\n",
    "logger.setLevel(logging.DEBUG)\n",
    "logger.addHandler(logging.StreamHandler())\n",
    "ceo_reply.to_gbq('ceo_tweet_streaming.reply_to_description', 'ra-work-content')"
   ]
  },
  {
   "cell_type": "markdown",
   "metadata": {},
   "source": [
    "## getting description of ceo's follower"
   ]
  },
  {
   "cell_type": "code",
   "execution_count": null,
   "metadata": {},
   "outputs": [],
   "source": [
    "table = '[ra-work-content.ceo_tweet_streaming.account_2017_14]'\n",
    "\n",
    "sql_query=\"\"\"\n",
    "select LTRIM(id_str, \"'\" ) as id \n",
    "from(\n",
    "select  id_str \n",
    "from %s\n",
    "group by id_str) \n",
    "\"\"\"%(table)\n",
    "\n",
    "query_config = bigquery.QueryJobConfig(use_legacy_sql=True)\n",
    "ceo = client.query(sql_query, job_config=query_config).to_dataframe()\n",
    "ceo.head(10)"
   ]
  },
  {
   "cell_type": "code",
   "execution_count": null,
   "metadata": {},
   "outputs": [],
   "source": [
    "c_id = []\n",
    "f_id = []\n",
    "f_description = []\n",
    "f_name = []\n",
    "fail = 0\n",
    "\n",
    "for index, row in ceo.iterrows():\n",
    "    id = row['id']   \n",
    "    try:\n",
    "        tweet = tweepy.Cursor(api.followers_list, user_id=id,  wait_on_rate_limit =True, wait_on_rate_limit_notify=True).items()\n",
    "\n",
    "        if tweet == []:\n",
    "            continue\n",
    "            \n",
    "        else: \n",
    "            for line in tweet:\n",
    "                c_id.append(id)\n",
    "                f_id.append(line.user.id)\n",
    "                f_name.append(line.user.name)\n",
    "                f_description.append(line.user.description) \n",
    "    except tweepy.TweepError:\n",
    "        fail += 1\n",
    "    break\n",
    "    \n",
    "        "
   ]
  },
  {
   "cell_type": "code",
   "execution_count": null,
   "metadata": {},
   "outputs": [],
   "source": [
    "c_id = pd.Series(c_id)\n",
    "f_id = pd.Series(f_id)\n",
    "f_name = pd.Series(f_name)\n",
    "f_description = pd.Series(f_description)\n",
    "follower = pd.concat([c_id, f_id, f_name, f_description], axis=1)\n",
    "follower.columns =['ceo_id', 'f_id', 'f_name', 'f_description']\n",
    "\n",
    "pd.set_option('display.max_colwidth', -1)\n",
    "follower.head(10)"
   ]
  },
  {
   "cell_type": "code",
   "execution_count": null,
   "metadata": {},
   "outputs": [],
   "source": [
    "\n",
    "# logger = logging.getLogger('pandas_gbq')\n",
    "# logger.setLevel(logging.DEBUG)\n",
    "# logger.addHandler(logging.StreamHandler())\n",
    "# ceo_reply.to_gbq('ceo_tweet_streaming.follower_description', 'ra-work-content')"
   ]
  }
 ],
 "metadata": {
  "kernelspec": {
   "display_name": "Python 3",
   "language": "python",
   "name": "python3"
  },
  "language_info": {
   "codemirror_mode": {
    "name": "ipython",
    "version": 3
   },
   "file_extension": ".py",
   "mimetype": "text/x-python",
   "name": "python",
   "nbconvert_exporter": "python",
   "pygments_lexer": "ipython3",
   "version": "3.6.8"
  }
 },
 "nbformat": 4,
 "nbformat_minor": 2
}
