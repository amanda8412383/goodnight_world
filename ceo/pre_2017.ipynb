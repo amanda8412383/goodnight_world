{
 "cells": [
  {
   "cell_type": "code",
   "execution_count": 2,
   "metadata": {},
   "outputs": [],
   "source": [
    "import pandas as pd\n",
    "import numpy as np\n",
    "import csv"
   ]
  },
  {
   "cell_type": "code",
   "execution_count": 54,
   "metadata": {},
   "outputs": [],
   "source": [
    "ceo = pd.read_csv('CEO name.csv', engine = \"python\", index_col=False, skiprows = 1, \n",
    "    encoding ='utf-8', header=None, na_values = '-')\n",
    "ceo.columns  = ceo.columns  = ['CO_PER_ROL', 'YEAR', 'CUSIP', 'CONAME', 'EXEC_FNAME', 'EXEC_FULLNAME', 'EXEC_LNAME', 'EXEC_MNAME',\t'CEOANN']\n",
    "ceo = ceo.drop_duplicates()\n",
    "ceo = ceo[ceo.YEAR == 2017]\n",
    "ceo = ceo.filter(items=['CO_PER_ROL',  'YEAR', 'EXEC_FULLNAME'])\n",
    "\n"
   ]
  },
  {
   "cell_type": "code",
   "execution_count": 55,
   "metadata": {},
   "outputs": [
    {
     "data": {
      "text/plain": [
       "(1586, 3)"
      ]
     },
     "execution_count": 55,
     "metadata": {},
     "output_type": "execute_result"
    }
   ],
   "source": [
    "ceo_2017 = pd.read_csv('CEO_2017_pre.csv', engine = \"python\", index_col=False, skiprows = 1, \n",
    "    encoding =\"ISO-8859-1\", header=None, na_values = '-')\n",
    "ceo_2017.columns  = ['CO_PER_ROL', 'YEAR', 'CUSIP', 'CONAME', 'EXEC_FNAME', 'EXEC_LNAME', 'TWITTER', 'T_NAME', 'Search Date', 'company related', 'personal related', 'Note', 'Note2']\n",
    "ceo_tweet_2017 = ceo_2017.filter(items=['CO_PER_ROL', 'YEAR', 'T_NAME'])\n",
    "ceo_tweet_2017.loc[ceo_tweet_2017.T_NAME.isna()]\n",
    "\n",
    "ceo_tweet_2017.shape\n",
    "\n"
   ]
  },
  {
   "cell_type": "code",
   "execution_count": 59,
   "metadata": {},
   "outputs": [
    {
     "data": {
      "text/html": [
       "<div>\n",
       "<style scoped>\n",
       "    .dataframe tbody tr th:only-of-type {\n",
       "        vertical-align: middle;\n",
       "    }\n",
       "\n",
       "    .dataframe tbody tr th {\n",
       "        vertical-align: top;\n",
       "    }\n",
       "\n",
       "    .dataframe thead th {\n",
       "        text-align: right;\n",
       "    }\n",
       "</style>\n",
       "<table border=\"1\" class=\"dataframe\">\n",
       "  <thead>\n",
       "    <tr style=\"text-align: right;\">\n",
       "      <th></th>\n",
       "      <th>CO_PER_ROL</th>\n",
       "      <th>YEAR</th>\n",
       "      <th>EXEC_FULLNAME</th>\n",
       "      <th>T_NAME</th>\n",
       "    </tr>\n",
       "  </thead>\n",
       "  <tbody>\n",
       "  </tbody>\n",
       "</table>\n",
       "</div>"
      ],
      "text/plain": [
       "Empty DataFrame\n",
       "Columns: [CO_PER_ROL, YEAR, EXEC_FULLNAME, T_NAME]\n",
       "Index: []"
      ]
     },
     "execution_count": 59,
     "metadata": {},
     "output_type": "execute_result"
    }
   ],
   "source": [
    "result = pd.merge(ceo, ceo_tweet_2017,on=['CO_PER_ROL',  'YEAR'], how='outer')\n",
    "result.loc[result.T_NAME.isna()]\n",
    "\n"
   ]
  },
  {
   "cell_type": "code",
   "execution_count": 60,
   "metadata": {},
   "outputs": [],
   "source": [
    "result.to_csv(r'CEO_2017.csv', sep=',', encoding='utf-8', index=False)"
   ]
  },
  {
   "cell_type": "code",
   "execution_count": null,
   "metadata": {},
   "outputs": [],
   "source": []
  }
 ],
 "metadata": {
  "kernelspec": {
   "display_name": "Python 3",
   "language": "python",
   "name": "python3"
  },
  "language_info": {
   "codemirror_mode": {
    "name": "ipython",
    "version": 3
   },
   "file_extension": ".py",
   "mimetype": "text/x-python",
   "name": "python",
   "nbconvert_exporter": "python",
   "pygments_lexer": "ipython3",
   "version": "3.6.8"
  }
 },
 "nbformat": 4,
 "nbformat_minor": 2
}
