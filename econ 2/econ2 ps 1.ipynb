{
 "cells": [
  {
   "cell_type": "markdown",
   "metadata": {},
   "source": [
    "# Answers for each question are highlighted and labled\n",
    "# search for ans 1 if the stata display looks annoying\n",
    "# Q1"
   ]
  },
  {
   "cell_type": "code",
   "execution_count": 1,
   "metadata": {},
   "outputs": [
    {
     "data": {
      "text/plain": [
       "<COMObject stata.StataOLEApp>"
      ]
     },
     "execution_count": 1,
     "metadata": {},
     "output_type": "execute_result"
    }
   ],
   "source": [
    "import pandas as pd\n",
    "import ipystata\n",
    "import win32com.client\n",
    "win32com.client.Dispatch (\"stata.StataOLEApp\")"
   ]
  },
  {
   "cell_type": "code",
   "execution_count": 2,
   "metadata": {},
   "outputs": [],
   "source": [
    "df = pd.read_excel(\"data.xlsx\")"
   ]
  },
  {
   "cell_type": "code",
   "execution_count": 3,
   "metadata": {},
   "outputs": [
    {
     "name": "stdout",
     "output_type": "stream",
     "text": [
      "Index(['workedm', 'weeksm1', 'hourswm', 'incomem', 'famincl', 'agem1',\n",
      "       'agefstm', 'boy1st', 'boy2nd', 'blackm', 'hispm', 'othracem',\n",
      "       'morekids', 'samesex'],\n",
      "      dtype='object')\n",
      "             workedm        weeksm1        hourswm        incomem  \\\n",
      "count  394840.000000  394840.000000  394840.000000  394840.000000   \n",
      "mean        0.565487      20.834189      18.797670    7160.812844   \n",
      "std         0.495693      22.286013      18.915735   10804.126539   \n",
      "min         0.000000       0.000000       0.000000       0.000000   \n",
      "25%         0.000000       0.000000       0.000000       0.000000   \n",
      "50%         1.000000      12.000000      16.000000    1353.966800   \n",
      "75%         1.000000      49.000000      40.000000   12395.617000   \n",
      "max         1.000000      52.000000      99.000000  260308.000000   \n",
      "\n",
      "             famincl          agem1        agefstm         boy1st  \\\n",
      "count  394840.000000  394840.000000  394840.000000  394840.000000   \n",
      "mean       10.317752      30.124805      20.139560       0.511088   \n",
      "std         1.350307       3.509685       2.949069       0.499878   \n",
      "min         0.000000      21.000000      15.000000       0.000000   \n",
      "25%        10.099442      28.000000      18.000000       0.000000   \n",
      "50%        10.594264      31.000000      20.000000       1.000000   \n",
      "75%        10.910468      33.000000      22.000000       1.000000   \n",
      "max        11.966787      35.000000      33.000000       1.000000   \n",
      "\n",
      "              boy2nd         blackm          hispm       othracem  \\\n",
      "count  394840.000000  394840.000000  394840.000000  394840.000000   \n",
      "mean        0.510961       0.118934       0.030040       0.028685   \n",
      "std         0.499880       0.323712       0.170698       0.166920   \n",
      "min         0.000000       0.000000       0.000000       0.000000   \n",
      "25%         0.000000       0.000000       0.000000       0.000000   \n",
      "50%         1.000000       0.000000       0.000000       0.000000   \n",
      "75%         1.000000       0.000000       0.000000       0.000000   \n",
      "max         1.000000       1.000000       1.000000       1.000000   \n",
      "\n",
      "            morekids        samesex  \n",
      "count  394840.000000  394840.000000  \n",
      "mean        0.402064       0.505390  \n",
      "std         0.490315       0.499972  \n",
      "min         0.000000       0.000000  \n",
      "25%         0.000000       0.000000  \n",
      "50%         0.000000       1.000000  \n",
      "75%         1.000000       1.000000  \n",
      "max         1.000000       1.000000  \n"
     ]
    },
    {
     "data": {
      "text/html": [
       "<div>\n",
       "<style scoped>\n",
       "    .dataframe tbody tr th:only-of-type {\n",
       "        vertical-align: middle;\n",
       "    }\n",
       "\n",
       "    .dataframe tbody tr th {\n",
       "        vertical-align: top;\n",
       "    }\n",
       "\n",
       "    .dataframe thead th {\n",
       "        text-align: right;\n",
       "    }\n",
       "</style>\n",
       "<table border=\"1\" class=\"dataframe\">\n",
       "  <thead>\n",
       "    <tr style=\"text-align: right;\">\n",
       "      <th></th>\n",
       "      <th>workedm</th>\n",
       "      <th>weeksm1</th>\n",
       "      <th>hourswm</th>\n",
       "      <th>incomem</th>\n",
       "      <th>famincl</th>\n",
       "      <th>agem1</th>\n",
       "      <th>agefstm</th>\n",
       "      <th>boy1st</th>\n",
       "      <th>boy2nd</th>\n",
       "      <th>blackm</th>\n",
       "      <th>hispm</th>\n",
       "      <th>othracem</th>\n",
       "      <th>morekids</th>\n",
       "      <th>samesex</th>\n",
       "    </tr>\n",
       "  </thead>\n",
       "  <tbody>\n",
       "    <tr>\n",
       "      <th>97999</th>\n",
       "      <td>1</td>\n",
       "      <td>5</td>\n",
       "      <td>72</td>\n",
       "      <td>2109.66800</td>\n",
       "      <td>10.215017</td>\n",
       "      <td>30</td>\n",
       "      <td>19</td>\n",
       "      <td>1</td>\n",
       "      <td>0</td>\n",
       "      <td>0</td>\n",
       "      <td>0</td>\n",
       "      <td>0</td>\n",
       "      <td>1</td>\n",
       "      <td>0</td>\n",
       "    </tr>\n",
       "    <tr>\n",
       "      <th>299775</th>\n",
       "      <td>0</td>\n",
       "      <td>0</td>\n",
       "      <td>0</td>\n",
       "      <td>0.00000</td>\n",
       "      <td>9.764349</td>\n",
       "      <td>24</td>\n",
       "      <td>16</td>\n",
       "      <td>1</td>\n",
       "      <td>0</td>\n",
       "      <td>0</td>\n",
       "      <td>0</td>\n",
       "      <td>0</td>\n",
       "      <td>1</td>\n",
       "      <td>0</td>\n",
       "    </tr>\n",
       "    <tr>\n",
       "      <th>138963</th>\n",
       "      <td>0</td>\n",
       "      <td>0</td>\n",
       "      <td>0</td>\n",
       "      <td>0.00000</td>\n",
       "      <td>8.449056</td>\n",
       "      <td>27</td>\n",
       "      <td>19</td>\n",
       "      <td>1</td>\n",
       "      <td>1</td>\n",
       "      <td>1</td>\n",
       "      <td>0</td>\n",
       "      <td>0</td>\n",
       "      <td>0</td>\n",
       "      <td>1</td>\n",
       "    </tr>\n",
       "    <tr>\n",
       "      <th>176505</th>\n",
       "      <td>0</td>\n",
       "      <td>0</td>\n",
       "      <td>0</td>\n",
       "      <td>0.00000</td>\n",
       "      <td>10.497691</td>\n",
       "      <td>29</td>\n",
       "      <td>20</td>\n",
       "      <td>0</td>\n",
       "      <td>0</td>\n",
       "      <td>0</td>\n",
       "      <td>0</td>\n",
       "      <td>0</td>\n",
       "      <td>1</td>\n",
       "      <td>1</td>\n",
       "    </tr>\n",
       "    <tr>\n",
       "      <th>358215</th>\n",
       "      <td>1</td>\n",
       "      <td>36</td>\n",
       "      <td>16</td>\n",
       "      <td>766.19824</td>\n",
       "      <td>11.275638</td>\n",
       "      <td>34</td>\n",
       "      <td>19</td>\n",
       "      <td>0</td>\n",
       "      <td>0</td>\n",
       "      <td>1</td>\n",
       "      <td>0</td>\n",
       "      <td>0</td>\n",
       "      <td>0</td>\n",
       "      <td>1</td>\n",
       "    </tr>\n",
       "  </tbody>\n",
       "</table>\n",
       "</div>"
      ],
      "text/plain": [
       "        workedm  weeksm1  hourswm     incomem    famincl  agem1  agefstm  \\\n",
       "97999         1        5       72  2109.66800  10.215017     30       19   \n",
       "299775        0        0        0     0.00000   9.764349     24       16   \n",
       "138963        0        0        0     0.00000   8.449056     27       19   \n",
       "176505        0        0        0     0.00000  10.497691     29       20   \n",
       "358215        1       36       16   766.19824  11.275638     34       19   \n",
       "\n",
       "        boy1st  boy2nd  blackm  hispm  othracem  morekids  samesex  \n",
       "97999        1       0       0      0         0         1        0  \n",
       "299775       1       0       0      0         0         1        0  \n",
       "138963       1       1       1      0         0         0        1  \n",
       "176505       0       0       0      0         0         1        1  \n",
       "358215       0       0       1      0         0         0        1  "
      ]
     },
     "execution_count": 3,
     "metadata": {},
     "output_type": "execute_result"
    }
   ],
   "source": [
    "print(df.columns)\n",
    "print(df.describe())\n",
    "df.sample(5)"
   ]
  },
  {
   "cell_type": "code",
   "execution_count": 4,
   "metadata": {},
   "outputs": [
    {
     "name": "stdout",
     "output_type": "stream",
     "text": [
      "\n",
      "C:\\Users\\amand\\Desktop\n",
      "\n",
      "      Source |       SS           df       MS      Number of obs   =   394,840\n",
      "-------------+----------------------------------   F(8, 394831)    =   2798.11\n",
      "       Model |   5205.2351         8  650.654388   Prob > F        =    0.0000\n",
      "    Residual |  91811.4601   394,831  .232533565   R-squared       =    0.0537\n",
      "-------------+----------------------------------   Adj R-squared   =    0.0536\n",
      "       Total |  97016.6952   394,839  .245712038   Root MSE        =    .48222\n",
      "\n",
      "------------------------------------------------------------------------------\n",
      "     workedm |      Coef.   Std. Err.      t    P>|t|     [95% Conf. Interval]\n",
      "-------------+----------------------------------------------------------------\n",
      "    morekids |  -.1764489   .0016319  -108.12   0.000    -.1796473   -.1732504\n",
      "       agem1 |   .0241995   .0002449    98.82   0.000     .0237195    .0246794\n",
      "     agefstm |  -.0291002   .0002991   -97.31   0.000    -.0296863   -.0285141\n",
      "      blackm |   .1060263   .0024313    43.61   0.000      .101261    .1107916\n",
      "       hispm |  -.0309759   .0045267    -6.84   0.000     -.039848   -.0221037\n",
      "    othracem |   .0420805   .0046145     9.12   0.000     .0330363    .0511248\n",
      "      boy1st |  -.0005312   .0015354    -0.35   0.729    -.0035404    .0024781\n",
      "      boy2nd |  -.0040863   .0015354    -2.66   0.008    -.0070956    -.001077\n",
      "       _cons |   .4829654   .0074729    64.63   0.000     .4683188     .497612\n",
      "------------------------------------------------------------------------------\n",
      "\n",
      "dir : seeout\n",
      "\n",
      "      Source |       SS           df       MS      Number of obs   =   394,840\n",
      "-------------+----------------------------------   F(8, 394831)    =   4161.77\n",
      "       Model |  15250419.8         8  1906302.48   Prob > F        =    0.0000\n",
      "    Residual |   180852844   394,831  458.051277   R-squared       =    0.0778\n",
      "-------------+----------------------------------   Adj R-squared   =    0.0777\n",
      "       Total |   196103263   394,839  496.666397   Root MSE        =    21.402\n",
      "\n",
      "------------------------------------------------------------------------------\n",
      "     weeksm1 |      Coef.   Std. Err.      t    P>|t|     [95% Conf. Interval]\n",
      "-------------+----------------------------------------------------------------\n",
      "    morekids |  -8.978191   .0724282  -123.96   0.000    -9.120148   -8.836234\n",
      "       agem1 |   1.466036   .0108691   134.88   0.000     1.444732    1.487339\n",
      "     agefstm |  -1.423913   .0132728  -107.28   0.000    -1.449928   -1.397899\n",
      "      blackm |   6.451669   .1079086    59.79   0.000     6.240171    6.663166\n",
      "       hispm |  -.7810209   .2009055    -3.89   0.000     -1.17479   -.3872521\n",
      "    othracem |   2.860371   .2048039    13.97   0.000     2.458961     3.26178\n",
      "      boy1st |  -.1153498   .0681431    -1.69   0.091    -.2489083    .0182087\n",
      "      boy2nd |  -.1773649   .0681446    -2.60   0.009    -.3109263   -.0438036\n",
      "       _cons |   8.280615   .3316669    24.97   0.000     7.630558    8.930672\n",
      "------------------------------------------------------------------------------\n",
      "\n",
      "dir : seeout\n",
      "\n",
      "      Source |       SS           df       MS      Number of obs   =   394,840\n",
      "-------------+----------------------------------   F(8, 394831)    =   3471.74\n",
      "       Model |  9284734.35         8  1160591.79   Prob > F        =    0.0000\n",
      "    Residual |   131990640   394,831  334.296547   R-squared       =    0.0657\n",
      "-------------+----------------------------------   Adj R-squared   =    0.0657\n",
      "       Total |   141275374   394,839  357.805015   Root MSE        =    18.284\n",
      "\n",
      "------------------------------------------------------------------------------\n",
      "     hourswm |      Coef.   Std. Err.      t    P>|t|     [95% Conf. Interval]\n",
      "-------------+----------------------------------------------------------------\n",
      "    morekids |  -6.646724   .0618752  -107.42   0.000    -6.767998   -6.525451\n",
      "       agem1 |   .8986444   .0092855    96.78   0.000     .8804452    .9168437\n",
      "     agefstm |  -1.367101    .011339  -120.57   0.000    -1.389325   -1.344877\n",
      "      blackm |   5.652372    .092186    61.31   0.000      5.47169    5.833054\n",
      "       hispm |   .6747887    .171633     3.93   0.000     .3383933    1.011184\n",
      "    othracem |   3.920399   .1749633    22.41   0.000     3.577476    4.263322\n",
      "      boy1st |  -.0493376   .0582145    -0.85   0.397    -.1634362    .0647611\n",
      "      boy2nd |  -.1377486   .0582157    -2.37   0.018    -.2518497   -.0236476\n",
      "       _cons |   21.22202   .2833421    74.90   0.000     20.66668    21.77736\n",
      "------------------------------------------------------------------------------\n",
      "\n",
      "dir : seeout\n",
      "\n",
      "      Source |       SS           df       MS      Number of obs   =   394,840\n",
      "-------------+----------------------------------   F(8, 394831)    =   3355.08\n",
      "       Model |  2.9337e+12         8  3.6671e+11   Prob > F        =    0.0000\n",
      "    Residual |  4.3156e+13   394,831   109301206   R-squared       =    0.0637\n",
      "-------------+----------------------------------   Adj R-squared   =    0.0636\n",
      "       Total |  4.6089e+13   394,839   116729150   Root MSE        =     10455\n",
      "\n",
      "------------------------------------------------------------------------------\n",
      "     incomem |      Coef.   Std. Err.      t    P>|t|     [95% Conf. Interval]\n",
      "-------------+----------------------------------------------------------------\n",
      "    morekids |  -3762.383   35.38043  -106.34   0.000    -3831.727   -3693.038\n",
      "       agem1 |   642.7202   5.309466   121.05   0.000     632.3138    653.1266\n",
      "     agefstm |   -437.397   6.483649   -67.46   0.000    -450.1048   -424.6893\n",
      "      blackm |   3921.037   52.71227    74.39   0.000     3817.722    4024.351\n",
      "       hispm |   249.3414   98.14027     2.54   0.011     56.98939    441.6934\n",
      "    othracem |   2541.941   100.0446    25.41   0.000     2345.857    2738.026\n",
      "      boy1st |  -35.15329   33.28722    -1.06   0.291    -100.3953    30.08866\n",
      "      boy2nd |  -59.88027   33.28793    -1.80   0.072    -125.1236    5.363075\n",
      "       _cons |  -2377.492   162.0159   -14.67   0.000    -2695.038   -2059.946\n",
      "------------------------------------------------------------------------------\n",
      "\n",
      "dir : seeout\n",
      "\n",
      "      Source |       SS           df       MS      Number of obs   =   394,840\n",
      "-------------+----------------------------------   F(8, 394831)    =   3078.32\n",
      "       Model |  42266.8979         8  5283.36224   Prob > F        =    0.0000\n",
      "    Residual |  677654.623   394,831  1.71631565   R-squared       =    0.0587\n",
      "-------------+----------------------------------   Adj R-squared   =    0.0587\n",
      "       Total |   719921.52   394,839  1.82332931   Root MSE        =    1.3101\n",
      "\n",
      "------------------------------------------------------------------------------\n",
      "     famincl |      Coef.   Std. Err.      t    P>|t|     [95% Conf. Interval]\n",
      "-------------+----------------------------------------------------------------\n",
      "    morekids |  -.1378693   .0044335   -31.10   0.000    -.1465589   -.1291797\n",
      "       agem1 |     .04633   .0006653    69.63   0.000      .045026     .047634\n",
      "     agefstm |   .0304625   .0008125    37.49   0.000     .0288701    .0320549\n",
      "      blackm |  -.5719656   .0066054   -86.59   0.000    -.5849119   -.5590192\n",
      "       hispm |  -.4800559    .012298   -39.04   0.000    -.5041596   -.4559523\n",
      "    othracem |  -.2121596   .0125366   -16.92   0.000    -.2367309   -.1875882\n",
      "      boy1st |   .0047488   .0041712     1.14   0.255    -.0034267    .0129243\n",
      "      boy2nd |   .0035116   .0041713     0.84   0.400     -.004664    .0116873\n",
      "       _cons |   8.448312   .0203022   416.13   0.000     8.408521    8.488104\n",
      "------------------------------------------------------------------------------\n",
      "\n",
      "dir : seeout\n",
      "\n",
      "Instrumental variables (2SLS) regression\n",
      "\n",
      "      Source |       SS           df       MS      Number of obs   =   394,840\n",
      "-------------+----------------------------------   F(7, 394832)    =   1525.52\n",
      "       Model |  4911.66387         7  701.666268   Prob > F        =    0.0000\n",
      "    Residual |  92105.0314   394,832  .233276511   R-squared       =    0.0506\n",
      "-------------+----------------------------------   Adj R-squared   =    0.0506\n",
      "       Total |  97016.6952   394,839  .245712038   Root MSE        =    .48299\n",
      "\n",
      "------------------------------------------------------------------------------\n",
      "     workedm |      Coef.   Std. Err.      t    P>|t|     [95% Conf. Interval]\n",
      "-------------+----------------------------------------------------------------\n",
      "    morekids |  -.1185956   .0252257    -4.70   0.000    -.1680373   -.0691539\n",
      "       agem1 |   .0224545   .0007981    28.13   0.000     .0208902    .0240188\n",
      "     agefstm |  -.0264945   .0011738   -22.57   0.000    -.0287952   -.0241938\n",
      "      blackm |   .1019251   .0030295    33.64   0.000     .0959873    .1078628\n",
      "       hispm |   -.040014   .0060016    -6.67   0.000    -.0517769   -.0282511\n",
      "    othracem |    .037945   .0049628     7.65   0.000      .028218     .047672\n",
      "      boy1st |  -.0001858   .0015469    -0.12   0.904    -.0032178    .0028461\n",
      "       _cons |   .4584067   .0123087    37.24   0.000     .4342821    .4825314\n",
      "------------------------------------------------------------------------------\n",
      "Instrumented:  morekids\n",
      "Instruments:   agem1 agefstm blackm hispm othracem boy1st samesex\n",
      "------------------------------------------------------------------------------\n",
      "\n",
      "dir : seeout\n",
      "\n",
      "Instrumental variables (2SLS) regression\n",
      "\n",
      "      Source |       SS           df       MS      Number of obs   =   394,840\n",
      "-------------+----------------------------------   F(7, 394832)    =   2550.41\n",
      "       Model |  14259294.7         7   2037042.1   Prob > F        =    0.0000\n",
      "    Residual |   181843969   394,832  460.560362   R-squared       =    0.0727\n",
      "-------------+----------------------------------   Adj R-squared   =    0.0727\n",
      "       Total |   196103263   394,839  496.666397   Root MSE        =    21.461\n",
      "\n",
      "------------------------------------------------------------------------------\n",
      "     weeksm1 |      Coef.   Std. Err.      t    P>|t|     [95% Conf. Interval]\n",
      "-------------+----------------------------------------------------------------\n",
      "    morekids |  -5.612989   1.120861    -5.01   0.000    -7.809843   -3.416136\n",
      "       agem1 |   1.364528   .0354627    38.48   0.000     1.295022    1.434034\n",
      "     agefstm |  -1.272305   .0521579   -24.39   0.000    -1.374533   -1.170077\n",
      "      blackm |   6.212509   .1346103    46.15   0.000     5.948677    6.476341\n",
      "       hispm |  -1.306739   .2666688    -4.90   0.000    -1.829402   -.7840762\n",
      "    othracem |   2.619533   .2205138    11.88   0.000     2.187333    3.051734\n",
      "      boy1st |  -.0946418    .068735    -1.38   0.169    -.2293605    .0400768\n",
      "       _cons |   6.882086    .546914    12.58   0.000     5.810151    7.954021\n",
      "------------------------------------------------------------------------------\n",
      "Instrumented:  morekids\n",
      "Instruments:   agem1 agefstm blackm hispm othracem boy1st samesex\n",
      "------------------------------------------------------------------------------\n",
      "\n",
      "dir : seeout\n",
      "\n",
      "Instrumental variables (2SLS) regression\n",
      "\n",
      "      Source |       SS           df       MS      Number of obs   =   394,840\n",
      "-------------+----------------------------------   F(7, 394832)    =   2315.70\n",
      "       Model |  8914017.08         7  1273431.01   Prob > F        =    0.0000\n",
      "    Residual |   132361357   394,832  335.234624   R-squared       =    0.0631\n",
      "-------------+----------------------------------   Adj R-squared   =    0.0631\n",
      "       Total |   141275374   394,839  357.805015   Root MSE        =    18.309\n",
      "\n",
      "------------------------------------------------------------------------------\n",
      "     hourswm |      Coef.   Std. Err.      t    P>|t|     [95% Conf. Interval]\n",
      "-------------+----------------------------------------------------------------\n",
      "    morekids |  -4.590352    .956275    -4.80   0.000    -6.464623   -2.716082\n",
      "       agem1 |   .8366204   .0302554    27.65   0.000     .7773206    .8959201\n",
      "     agefstm |  -1.274478   .0444991   -28.64   0.000    -1.361695   -1.187261\n",
      "      blackm |   5.506521   .1148443    47.95   0.000      5.28143    5.731612\n",
      "       hispm |   .3535325   .2275115     1.55   0.120    -.0923833    .7994482\n",
      "    othracem |   3.773368   .1881339    20.06   0.000     3.404631    4.142105\n",
      "      boy1st |   -.036985   .0586421    -0.63   0.528    -.1519217    .0779517\n",
      "       _cons |   20.35282   .4666059    43.62   0.000     19.43829    21.26736\n",
      "------------------------------------------------------------------------------\n",
      "Instrumented:  morekids\n",
      "Instruments:   agem1 agefstm blackm hispm othracem boy1st samesex\n",
      "------------------------------------------------------------------------------\n",
      "\n",
      "dir : seeout\n",
      "\n",
      "Instrumental variables (2SLS) regression\n",
      "\n",
      "      Source |       SS           df       MS      Number of obs   =   394,840\n",
      "-------------+----------------------------------   F(7, 394832)    =   2205.37\n",
      "       Model |  2.6369e+12         7  3.7670e+11   Prob > F        =    0.0000\n",
      "    Residual |  4.3452e+13   394,832   110052612   R-squared       =    0.0572\n",
      "-------------+----------------------------------   Adj R-squared   =    0.0572\n",
      "       Total |  4.6089e+13   394,839   116729150   Root MSE        =     10491\n",
      "\n",
      "------------------------------------------------------------------------------\n",
      "     incomem |      Coef.   Std. Err.      t    P>|t|     [95% Conf. Interval]\n",
      "-------------+----------------------------------------------------------------\n",
      "    morekids |  -1919.409   547.9091    -3.50   0.000    -2993.294   -845.5233\n",
      "       agem1 |    587.124    17.3352    33.87   0.000     553.1475    621.1004\n",
      "     agefstm |  -354.3421   25.49629   -13.90   0.000    -404.3141   -304.3701\n",
      "      blackm |   3789.689   65.80141    57.59   0.000      3660.72    3918.658\n",
      "       hispm |  -38.56391   130.3554    -0.30   0.767    -294.0567    216.9288\n",
      "    othracem |   2409.871   107.7935    22.36   0.000     2198.598    2621.143\n",
      "      boy1st |  -23.43003   33.59968    -0.70   0.486    -89.28439    42.42432\n",
      "       _cons |   -3124.88   267.3474   -11.69   0.000    -3648.873   -2600.887\n",
      "------------------------------------------------------------------------------\n",
      "Instrumented:  morekids\n",
      "Instruments:   agem1 agefstm blackm hispm othracem boy1st samesex\n",
      "------------------------------------------------------------------------------\n",
      "\n",
      "dir : seeout\n",
      "\n",
      "Instrumental variables (2SLS) regression\n",
      "\n",
      "      Source |       SS           df       MS      Number of obs   =   394,840\n",
      "-------------+----------------------------------   F(7, 394832)    =   3374.12\n",
      "       Model |  41128.1771         7  5875.45387   Prob > F        =    0.0000\n",
      "    Residual |  678793.343   394,832  1.71919536   R-squared       =    0.0571\n",
      "-------------+----------------------------------   Adj R-squared   =    0.0571\n",
      "       Total |   719921.52   394,839  1.82332931   Root MSE        =    1.3112\n",
      "\n",
      "------------------------------------------------------------------------------\n",
      "     famincl |      Coef.   Std. Err.      t    P>|t|     [95% Conf. Interval]\n",
      "-------------+----------------------------------------------------------------\n",
      "    morekids |  -.0237648   .0684811    -0.35   0.729    -.1579858    .1104562\n",
      "       agem1 |   .0428869   .0021667    19.79   0.000     .0386403    .0471335\n",
      "     agefstm |   .0356097   .0031867    11.17   0.000     .0293639    .0418555\n",
      "      blackm |  -.5801695   .0082243   -70.54   0.000    -.5962889   -.5640502\n",
      "       hispm |  -.4978796   .0162926   -30.56   0.000    -.5298127   -.4659465\n",
      "    othracem |  -.2203704   .0134727   -16.36   0.000    -.2467765   -.1939643\n",
      "      boy1st |   .0055488   .0041995     1.32   0.186    -.0026821    .0137796\n",
      "       _cons |   8.405629   .0334148   251.55   0.000     8.340137    8.471121\n",
      "------------------------------------------------------------------------------\n",
      "Instrumented:  morekids\n",
      "Instruments:   agem1 agefstm blackm hispm othracem boy1st samesex\n",
      "------------------------------------------------------------------------------\n",
      "\n",
      "dir : seeout\n",
      "\n",
      "Unknown #command\n",
      "\n",
      "Unknown #command\n",
      "\n"
     ]
    }
   ],
   "source": [
    "%%stata --data df\n",
    "cd C:\\Users\\amand\\Desktop\n",
    "reg workedm morekids agem1 agefstm blackm hispm othracem boy1st boy2nd\n",
    "outreg2 using myreg.txt, replace title(OLS)  keep(morekids)  nonotes noobs nor2 nocons\n",
    "reg weeksm1 morekids agem1 agefstm blackm hispm othracem boy1st boy2nd \n",
    "outreg2 using myreg.txt,   keep(morekids)  nonotes noobs nor2 nocons\n",
    "reg hourswm morekids agem1 agefstm blackm hispm othracem boy1st boy2nd \n",
    "outreg2 using myreg.txt,   keep(morekids)  nonotes noobs nor2 nocons\n",
    "reg incomem morekids agem1 agefstm blackm hispm othracem boy1st boy2nd\n",
    "outreg2 using myreg.txt,   keep(morekids)  nonotes noobs nor2 nocons\n",
    "reg famincl morekids agem1 agefstm blackm hispm othracem boy1st boy2nd\n",
    "outreg2 using myreg.txt,   keep(morekids)  nonotes noobs nor2 nocons\n",
    "\n",
    "\n",
    "ivreg workedm (morekids = samesex) agem1 agefstm blackm hispm othracem boy1st\n",
    "outreg2 using myreg2.txt, replace title(2sls)  keep(morekids)  nonotes noobs nor2 nocons\n",
    "ivreg weeksm1 (morekids = samesex) agem1 agefstm blackm hispm othracem boy1st\n",
    "outreg2 using myreg2.txt,   keep(morekids)  nonotes noobs nor2 nocons\n",
    "ivreg hourswm (morekids = samesex) agem1 agefstm blackm hispm othracem boy1st\n",
    "outreg2 using myreg2.txt,   keep(morekids)  nonotes noobs nor2 nocons\n",
    "ivreg incomem (morekids = samesex) agem1 agefstm blackm hispm othracem boy1st\n",
    "outreg2 using myreg2.txt,   keep(morekids)  nonotes noobs nor2 nocons\n",
    "ivreg famincl (morekids = samesex) agem1 agefstm blackm hispm othracem boy1st\n",
    "outreg2 using myreg2.txt,   keep(morekids)  nonotes noobs nor2 nocons\n",
    "\n",
    "# translate myreg.txt myreg.pdf\n",
    "# translate myreg2.doc myreg2.pdf"
   ]
  },
  {
   "cell_type": "markdown",
   "metadata": {},
   "source": [
    "# **ans 1**\n",
    "sorry for it doesn't line properly, but all the values are shown in order"
   ]
  },
  {
   "cell_type": "code",
   "execution_count": 9,
   "metadata": {},
   "outputs": [],
   "source": [
    "with open('myreg.txt', 'r') as f:\n",
    "    get_ipython().set_next_input(f.read())"
   ]
  },
  {
   "cell_type": "code",
   "execution_count": null,
   "metadata": {},
   "outputs": [],
   "source": [
    "OLS\t\t\t\t\t\n",
    "\t(1)\t(2)\t(3)\t(4)\t(5)\n",
    "VARIABLES\tworkedm\tweeksm1\thourswm\tincomem\tfamincl\n",
    "\t\t\t\t\t\n",
    "morekids\t-0.176***\t-8.978***\t-6.647***\t-3,762***\t-0.138***\n",
    "\t(0.00163)\t(0.0724)\t(0.0619)\t(35.38)\t(0.00443)\n",
    "\t\t\t\t\t\n"
   ]
  },
  {
   "cell_type": "code",
   "execution_count": 10,
   "metadata": {},
   "outputs": [],
   "source": [
    "with open('myreg2.txt', 'r') as f:\n",
    "    get_ipython().set_next_input(f.read())"
   ]
  },
  {
   "cell_type": "code",
   "execution_count": null,
   "metadata": {},
   "outputs": [],
   "source": [
    "2sls\t\t\t\t\t\n",
    "\t(1)\t(2)\t(3)\t(4)\t(5)\n",
    "VARIABLES\tworkedm\tweeksm1\thourswm\tincomem\tfamincl\n",
    "\t\t\t\t\t\n",
    "morekids\t-0.119***\t-5.613***\t-4.590***\t-1,919***\t-0.0238\n",
    "\t(0.0252)\t(1.121)\t(0.956)\t(547.9)\t(0.0685)\n",
    "\t\t\t\t\t\n"
   ]
  },
  {
   "cell_type": "markdown",
   "metadata": {},
   "source": [
    "# Q2"
   ]
  },
  {
   "cell_type": "code",
   "execution_count": 363,
   "metadata": {},
   "outputs": [],
   "source": [
    "import pandas as pd  \n",
    "import numpy as np  \n",
    "import matplotlib.pyplot as plt  \n",
    "import statsmodels.api as sm\n",
    "import scipy.stats as stats\n",
    "import math\n",
    "from math import sqrt\n",
    "import seaborn as sns\n",
    "\n",
    "%matplotlib inline"
   ]
  },
  {
   "cell_type": "code",
   "execution_count": 477,
   "metadata": {},
   "outputs": [],
   "source": [
    "n = 625\n",
    "beta = 1\n",
    "mean = [1, 0, 0]\n",
    "cov = [[1, 0, 0], [0, 1, 0.8], [0, 0.8, 1]]\n",
    "repeat = 10000\n",
    "rvalue = 6"
   ]
  },
  {
   "cell_type": "code",
   "execution_count": 479,
   "metadata": {},
   "outputs": [],
   "source": [
    "ivlist =[]\n",
    "rlist = []\n",
    "olslist = []\n",
    "cilist = []\n",
    "rflist = []\n",
    "\n",
    "for i in range(rvalue):\n",
    "    r = i/25\n",
    "    for j in range(repeat):\n",
    "        #(i) sampling\n",
    "        np.random.seed(j + i * repeat)\n",
    "        (z, e, v) = np.random.multivariate_normal(mean, cov, n).T\n",
    "        x = z * r +  v\n",
    "        y = beta * x + e\n",
    "        \n",
    "        #(ii)regression\n",
    "        z = z.reshape(-1, 1)\n",
    "        x = x.reshape(-1, 1)\n",
    "        y = y.reshape(-1, 1)\n",
    "        \n",
    "        first = sm.OLS(x, z).fit()\n",
    "        rhat = first.params\n",
    "        vhat = first.resid\n",
    "        ivx = np.column_stack((x, vhat))\n",
    "        tsls = sm.OLS(y, ivx).fit()\n",
    "        biv = tsls.params[0]\n",
    "\n",
    "        \n",
    "        #(iii)\n",
    "        if (tsls.conf_int()[0, 0] < beta and tsls.conf_int()[0, 1] > beta):\n",
    "            inci = 1\n",
    "        else :\n",
    "            inci = 0\n",
    "        \n",
    "        #(iv)\n",
    "        r_f = first.fvalue\n",
    "        \n",
    "        ols = sm.OLS(y, x).fit()\n",
    "        bols = ols.params\n",
    "        \n",
    "        \n",
    "        rlist.append(rhat)\n",
    "        ivlist.append(biv)\n",
    "        olslist.append(bols)\n",
    "        cilist.append(inci)\n",
    "        rflist.append(r_f)"
   ]
  },
  {
   "cell_type": "code",
   "execution_count": 480,
   "metadata": {},
   "outputs": [],
   "source": [
    "rhat = np.asarray(rlist).reshape(rvalue, repeat)\n",
    "biv = np.asarray(ivlist).reshape(rvalue, repeat)\n",
    "bols = np.asarray(olslist).reshape(rvalue, repeat)\n",
    "inci = np.asarray(cilist).reshape(rvalue, repeat)\n",
    "r_f = np.asarray(rflist).reshape(rvalue, repeat)\n"
   ]
  },
  {
   "cell_type": "code",
   "execution_count": 515,
   "metadata": {},
   "outputs": [
    {
     "name": "stdout",
     "output_type": "stream",
     "text": [
      "r = 0/25\n",
      "(-39.47704426580457, 16.61775022103795)\n",
      "r = 1/25\n",
      "(0.727266966898597, 1.8276637359451877)\n",
      "r = 2/25\n",
      "(0.7206704364380223, 0.9298188931808153)\n",
      "r = 3/25\n",
      "(0.9354265787907797, 0.9478026112020589)\n",
      "r = 4/25\n",
      "(0.9707836827774794, 0.9784928573288199)\n",
      "r = 5/25\n",
      "(0.9801877093849335, 0.9861043452819044)\n"
     ]
    },
    {
     "data": {
      "text/plain": [
       "(-0.5, 2)"
      ]
     },
     "execution_count": 515,
     "metadata": {},
     "output_type": "execute_result"
    },
    {
     "data": {
      "image/png": "[encoded data removed]",
      "text/plain": [
       "<Figure size 432x288 with 1 Axes>"
      ]
     },
     "metadata": {
      "needs_background": "light"
     },
     "output_type": "display_data"
    }
   ],
   "source": [
    "#(iii) Construct a 95% confidence interval for β based on the IV estimator.\n",
    "# plt.figure(figsize = (12,6))\n",
    "def ci_plot(variable, rvalue):\n",
    "    for i in range(rvalue):\n",
    "        print(\"r = \" + str(i ) + \"/25\")\n",
    "        ci = sm.stats.DescrStatsW(variable[i, ]).tconfint_mean()\n",
    "        print(ci)\n",
    "        \n",
    "     \n",
    "    for i in range(rvalue):\n",
    "        \n",
    "        sns.distplot(variable[i, ], hist = False, kde = True,\n",
    "                 kde_kws = {'shade': True, 'linewidth': 2},\n",
    "                 label = i/25)\n",
    " \n",
    "# ploting reference\n",
    "# https://towardsdatascience.com/histograms-and-density-plots-in-python-f6bda88f5ac0\n",
    "\n",
    "ci_plot(biv, rvalue)\n",
    "plt.xlim(-0.5, 2)\n"
   ]
  },
  {
   "cell_type": "code",
   "execution_count": 510,
   "metadata": {},
   "outputs": [
    {
     "name": "stdout",
     "output_type": "stream",
     "text": [
      "r = 0/25\n",
      "(1.7998018367122437, 1.8007488972199919)\n",
      "r = 1/25\n",
      "(1.797165927246656, 1.798118367658276)\n",
      "r = 2/25\n",
      "(1.7894997222629523, 1.7904479436447303)\n",
      "r = 3/25\n",
      "(1.7769235647991533, 1.7778750865925277)\n",
      "r = 4/25\n",
      "(1.7605790271435189, 1.7615471600171686)\n",
      "r = 5/25\n",
      "(1.7405587095009285, 1.7415130616713295)\n"
     ]
    },
    {
     "data": {
      "text/plain": [
       "(1.7456781298334805, 1.8101184209114323)"
      ]
     },
     "execution_count": 510,
     "metadata": {},
     "output_type": "execute_result"
    },
    {
     "data": {
      "image/png": "[encoded data removed]",
      "text/plain": [
       "<Figure size 432x288 with 1 Axes>"
      ]
     },
     "metadata": {
      "needs_background": "light"
     },
     "output_type": "display_data"
    }
   ],
   "source": [
    "\n",
    "ci_plot(bols, rvalue)\n",
    "plt.xlim(bols.mean() - bols.std(),  bols.mean() + bols.std())"
   ]
  },
  {
   "cell_type": "code",
   "execution_count": 512,
   "metadata": {},
   "outputs": [
    {
     "name": "stdout",
     "output_type": "stream",
     "text": [
      "r = 0/25\n",
      "(-0.0007024224951509742, 0.0004159293542431076)\n",
      "r = 1/25\n",
      "(0.03917702303168455, 0.04029113524116311)\n",
      "r = 2/25\n",
      "(0.07984915578806955, 0.08096450637452614)\n",
      "r = 3/25\n",
      "(0.11928347673552891, 0.12038928172716204)\n",
      "r = 4/25\n",
      "(0.15971496107006408, 0.16080787215602235)\n",
      "r = 5/25\n",
      "(0.19957050623018283, 0.2006834730450828)\n"
     ]
    },
    {
     "data": {
      "text/plain": [
       "(0.02598321707598418, 0.1740909326337789)"
      ]
     },
     "execution_count": 512,
     "metadata": {},
     "output_type": "execute_result"
    },
    {
     "data": {
      "image/png": "[encoded data removed]",
      "text/plain": [
       "<Figure size 432x288 with 1 Axes>"
      ]
     },
     "metadata": {
      "needs_background": "light"
     },
     "output_type": "display_data"
    }
   ],
   "source": [
    "ci_plot(rhat, rvalue)\n",
    "plt.xlim(rhat.mean() - rhat.std(),  rhat.mean() + rhat.std())"
   ]
  },
  {
   "cell_type": "markdown",
   "metadata": {},
   "source": [
    "# **ans 2(a)**"
   ]
  },
  {
   "cell_type": "code",
   "execution_count": 516,
   "metadata": {},
   "outputs": [
    {
     "name": "stdout",
     "output_type": "stream",
     "text": [
      "gama = 0.040000\n",
      "2. E[y^2] = 3.395393\n",
      "3. E||x||^2 = 24.630246\n",
      "4. E||z||^2 = 34.206410\n",
      "5. E[z'z] = 0.874935\n",
      "6. Rank(E[zx']) = 1.000000\n",
      "7. E[ze] = -0.002473\n",
      "\n",
      "gama = 0.080000\n",
      "2. E[y^2] = 3.408379\n",
      "3. E||x||^2 = 24.756450\n",
      "4. E||z||^2 = 34.206410\n",
      "5. E[z'z] = 0.874935\n",
      "6. Rank(E[zx']) = 1.000000\n",
      "7. E[ze] = -0.002473\n",
      "\n",
      "gama = 0.120000\n",
      "2. E[y^2] = 3.427356\n",
      "3. E||x||^2 = 24.957141\n",
      "4. E||z||^2 = 34.206410\n",
      "5. E[z'z] = 0.874935\n",
      "6. Rank(E[zx']) = 1.000000\n",
      "7. E[ze] = -0.002473\n",
      "\n",
      "gama = 0.160000\n",
      "2. E[y^2] = 3.452325\n",
      "3. E||x||^2 = 25.230541\n",
      "4. E||z||^2 = 34.206410\n",
      "5. E[z'z] = 0.874935\n",
      "6. Rank(E[zx']) = 1.000000\n",
      "7. E[ze] = -0.002473\n",
      "\n",
      "gama = 0.200000\n",
      "2. E[y^2] = 3.483284\n",
      "3. E||x||^2 = 25.574319\n",
      "4. E||z||^2 = 34.206410\n",
      "5. E[z'z] = 0.874935\n",
      "6. Rank(E[zx']) = 1.000000\n",
      "7. E[ze] = -0.002473\n",
      "\n",
      "1. assured by sampling method but we can plot and see the distribution\n"
     ]
    },
    {
     "data": {
      "text/plain": [
       "<matplotlib.axes._subplots.AxesSubplot at 0x20673ed0c48>"
      ]
     },
     "execution_count": 516,
     "metadata": {},
     "output_type": "execute_result"
    },
    {
     "data": {
      "image/png": "[encoded data removed]",
      "text/plain": [
       "<Figure size 432x288 with 1 Axes>"
      ]
     },
     "metadata": {
      "needs_background": "light"
     },
     "output_type": "display_data"
    }
   ],
   "source": [
    "# assumption 1.2.\n",
    "for i in range(rvalue):\n",
    "    \n",
    "    if i == 0:\n",
    "        continue\n",
    "    r = i /25\n",
    "    np.random.seed(0)\n",
    "    z = np.random.normal(1, 1, n)\n",
    "    (e, v) = np.random.multivariate_normal([0, 0], [[1, 0.8], [0.8, 1]], n).T\n",
    "    x = z * r +  v \n",
    "    y = beta * x + e\n",
    "\n",
    "    x = x.reshape(-1, 1)\n",
    "    z = z.reshape(-1, 1)\n",
    "    e = e.reshape(-1, 1)\n",
    "    v = v.reshape(-1, 1)\n",
    "    y = y.reshape(-1, 1)\n",
    "\n",
    "\n",
    "    ysq = np.power(y, 2).mean()\n",
    "    xnorm = np.linalg.norm(x, 2)\n",
    "    znorm = np.linalg.norm(z, 2)\n",
    "    ezz = np.dot(z, z.T).mean()\n",
    "    rankxz = np.linalg.matrix_rank(z.dot( x.T))\n",
    "    eze = z.dot(e.T).mean()\n",
    "\n",
    "    print(\"gama = %f\"%r)\n",
    "    print(\"2. E[y^2] = %f\"%ysq)\n",
    "    print(\"3. E||x||^2 = %f\"%xnorm)\n",
    "    print(\"4. E||z||^2 = %f\"%znorm)\n",
    "    print(\"5. E[z'z] = %f\"%ezz)\n",
    "    print(\"6. Rank(E[zx']) = %f\"%rankxz)\n",
    "    print(\"7. E[ze] = %f\"%eze)\n",
    "    print(\"\")\n",
    "\n",
    "print(\"1. assured by sampling method but we can plot and see the distribution\")\n",
    "\n",
    "sns.distplot(x, hist = False, kde = True,\n",
    "                 kde_kws = {'linewidth': 3},\n",
    "                 label = \"x\")\n",
    "sns.distplot(y, hist = False, kde = True,\n",
    "                 kde_kws = {'linewidth': 3},\n",
    "                 label = \"y\")\n",
    "sns.distplot(z, hist = False, kde = True,\n",
    "                 kde_kws = {'linewidth': 3},\n",
    "                 label = \"z\")\n"
   ]
  },
  {
   "cell_type": "markdown",
   "metadata": {},
   "source": [
    "# **ans 2(b)**"
   ]
  },
  {
   "cell_type": "code",
   "execution_count": 517,
   "metadata": {},
   "outputs": [
    {
     "name": "stdout",
     "output_type": "stream",
     "text": [
      "iv\n",
      "r = 0/25\n",
      "mean, std, mse = -11.429647, 1430.771185, 2047260.678579\n",
      "r = 1/25\n",
      "mean, std, mse = 1.277465, 28.067060, 787.836870\n",
      "r = 2/25\n",
      "mean, std, mse = 0.825245, 5.334605, 28.488553\n",
      "r = 3/25\n",
      "mean, std, mse = 0.941615, 0.315667, 0.103054\n",
      "r = 4/25\n",
      "mean, std, mse = 0.974638, 0.196633, 0.039308\n",
      "r = 5/25\n",
      "mean, std, mse = 0.983146, 0.150912, 0.023058\n",
      "\n",
      "\n",
      "ols\n",
      "r = 0/25\n",
      "mean, std, mse = 1.800275, 0.024156, 0.641024\n",
      "r = 1/25\n",
      "mean, std, mse = 1.797642, 0.024293, 0.636823\n",
      "r = 2/25\n",
      "mean, std, mse = 1.789974, 0.024186, 0.624644\n",
      "r = 3/25\n",
      "mean, std, mse = 1.777399, 0.024270, 0.604939\n",
      "r = 4/25\n",
      "mean, std, mse = 1.761063, 0.024693, 0.579827\n",
      "r = 5/25\n",
      "mean, std, mse = 1.741036, 0.024342, 0.549727\n"
     ]
    }
   ],
   "source": [
    "def property(variable, rvalue, truepar):\n",
    "    for i in range(rvalue):\n",
    "        print(\"r = \" + str(i ) + \"/25\")\n",
    "        mean = variable[i, ].mean()\n",
    "        std = variable[i, ].std()\n",
    "        mse = np.square(variable[i, ] - truepar).sum() / len(variable[i, ])\n",
    "        print(\"mean, std, mse = %f, %f, %f\"% (mean, std, mse) )\n",
    "print(\"iv\")        \n",
    "property(biv, rvalue, beta)\n",
    "print(\"\\n\")\n",
    "print(\"ols\")        \n",
    "property(bols, rvalue, beta)"
   ]
  },
  {
   "cell_type": "markdown",
   "metadata": {},
   "source": [
    "# **ans 2(c)**\n"
   ]
  },
  {
   "cell_type": "code",
   "execution_count": 518,
   "metadata": {},
   "outputs": [
    {
     "name": "stdout",
     "output_type": "stream",
     "text": [
      "r = 0/25\n",
      "coverage probabilities = 0.757400\n",
      "r = 1/25\n",
      "coverage probabilities = 0.758000\n",
      "r = 2/25\n",
      "coverage probabilities = 0.758400\n",
      "r = 3/25\n",
      "coverage probabilities = 0.760000\n",
      "r = 4/25\n",
      "coverage probabilities = 0.764100\n",
      "r = 5/25\n",
      "coverage probabilities = 0.765700\n"
     ]
    }
   ],
   "source": [
    "def ci_coverage(variable, rvalue):\n",
    "    for i in range(rvalue):\n",
    "        print(\"r = \" + str(i ) + \"/25\")\n",
    "        pr = variable[i, ].mean()\n",
    "        print(\"coverage probabilities = %f\" %pr)\n",
    "\n",
    "ci_coverage(inci, rvalue)"
   ]
  },
  {
   "cell_type": "markdown",
   "metadata": {},
   "source": [
    "# **ans 2(d)**"
   ]
  },
  {
   "cell_type": "code",
   "execution_count": 519,
   "metadata": {},
   "outputs": [
    {
     "name": "stdout",
     "output_type": "stream",
     "text": [
      "r = 0/25\n",
      "coverage probabilities = 0.000000\n",
      "r = 1/25\n",
      "coverage probabilities = 0.167095\n",
      "r = 2/25\n",
      "coverage probabilities = 0.690051\n",
      "r = 3/25\n",
      "coverage probabilities = 0.808526\n",
      "r = 4/25\n",
      "coverage probabilities = 0.768998\n",
      "r = 5/25\n",
      "coverage probabilities = 0.765777\n"
     ]
    }
   ],
   "source": [
    "def f_ci(ci, r_f, rvalue):\n",
    "    for i in range(rvalue):\n",
    "        print(\"r = \" + str(i) + \"/25\")\n",
    "        select = r_f > 10\n",
    "        ci_select = ci[i,  select[i, ]]\n",
    "        pr = ci_select.mean()\n",
    "        print(\"coverage probabilities = %f\" %pr)\n",
    "        \n",
    "f_ci(inci, r_f, rvalue)"
   ]
  },
  {
   "cell_type": "markdown",
   "metadata": {},
   "source": [
    "# **ans 2(e)**\n",
    "if change repeat to 2500, the effect to distribution plots is easily observable. All the curve becomes less smooth and disperse. \n",
    "the result of 2(a) is mild, it makes sense since the data generating process should not be affected.\n",
    "the effect to 2(b) is that the estimation becomes less distinct from ols results which implies that in smaller sample the benefit of using iv is less prominent.\n",
    "the result of 2(c) remains roughly the same, while in 2(d) the probability of low rs slightly increase.\n",
    "the result suggest iv estimator becomes more roboust as repeatition increase especially in the case of strong instrument is used; larger sample number is needed to reveal the consistency of its estimation, just as our derivation in class\n",
    "\n"
   ]
  }
 ],
 "metadata": {
  "kernelspec": {
   "display_name": "Python 3",
   "language": "python",
   "name": "python3"
  },
  "language_info": {
   "codemirror_mode": {
    "name": "ipython",
    "version": 3
   },
   "file_extension": ".py",
   "mimetype": "text/x-python",
   "name": "python",
   "nbconvert_exporter": "python",
   "pygments_lexer": "ipython3",
   "version": "3.7.5"
  }
 },
 "nbformat": 4,
 "nbformat_minor": 4
}
