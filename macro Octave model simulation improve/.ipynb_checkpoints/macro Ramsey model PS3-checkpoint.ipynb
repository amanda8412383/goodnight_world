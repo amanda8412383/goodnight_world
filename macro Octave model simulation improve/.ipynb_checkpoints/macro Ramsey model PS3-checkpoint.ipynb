{
 "cells": [
  {
   "cell_type": "code",
   "execution_count": 123,
   "metadata": {
    "scrolled": true
   },
   "outputs": [
    {
     "name": "stdout",
     "output_type": "stream",
     "text": [
      "Requirement already satisfied: sympy in c:\\users\\amand\\appdata\\local\\programs\\python\\python37\\lib\\site-packages (1.4)\n",
      "Requirement already satisfied: mpmath>=0.19 in c:\\users\\amand\\appdata\\local\\programs\\python\\python37\\lib\\site-packages (from sympy) (1.1.0)\n",
      "Requirement already satisfied: numpy in c:\\users\\amand\\appdata\\local\\programs\\python\\python37\\lib\\site-packages (1.17.3)\n",
      "Collecting matplotlib\n",
      "  Downloading https://files.pythonhosted.org/packages/1a/c0/69e3f695d7384012e90be1e16570c08953baae00fd98094179ef87c7d5a2/matplotlib-3.1.1-cp37-cp37m-win_amd64.whl (9.1MB)\n",
      "Requirement already satisfied: python-dateutil>=2.1 in c:\\users\\amand\\appdata\\local\\programs\\python\\python37\\lib\\site-packages (from matplotlib) (2.8.1)\n",
      "Requirement already satisfied: numpy>=1.11 in c:\\users\\amand\\appdata\\local\\programs\\python\\python37\\lib\\site-packages (from matplotlib) (1.17.3)\n",
      "Collecting pyparsing!=2.0.4,!=2.1.2,!=2.1.6,>=2.0.1\n",
      "  Downloading https://files.pythonhosted.org/packages/c0/0c/fc2e007d9a992d997f04a80125b0f183da7fb554f1de701bbb70a8e7d479/pyparsing-2.4.5-py2.py3-none-any.whl (67kB)\n",
      "Collecting kiwisolver>=1.0.1\n",
      "  Downloading https://files.pythonhosted.org/packages/c6/ea/e5474014a13ab2dcb5056608e0716c600c3d8a8bcffb10ed55ccd6a42eb0/kiwisolver-1.1.0-cp37-none-win_amd64.whl (57kB)\n",
      "Collecting cycler>=0.10\n",
      "  Using cached https://files.pythonhosted.org/packages/f7/d2/e07d3ebb2bd7af696440ce7e754c59dd546ffe1bbe732c8ab68b9c834e61/cycler-0.10.0-py2.py3-none-any.whl\n",
      "Requirement already satisfied: six>=1.5 in c:\\users\\amand\\appdata\\local\\programs\\python\\python37\\lib\\site-packages (from python-dateutil>=2.1->matplotlib) (1.13.0)\n",
      "Requirement already satisfied: setuptools in c:\\users\\amand\\appdata\\local\\programs\\python\\python37\\lib\\site-packages (from kiwisolver>=1.0.1->matplotlib) (41.2.0)\n",
      "Installing collected packages: pyparsing, kiwisolver, cycler, matplotlib\n",
      "Successfully installed cycler-0.10.0 kiwisolver-1.1.0 matplotlib-3.1.1 pyparsing-2.4.5\n"
     ]
    }
   ],
   "source": [
    "import sys\n",
    "!{sys.executable} -m pip install sympy\n",
    "!{sys.executable} -m pip install numpy\n",
    "!{sys.executable} -m pip install matplotlib"
   ]
  },
  {
   "cell_type": "code",
   "execution_count": 124,
   "metadata": {},
   "outputs": [],
   "source": [
    "import sympy as sym\n",
    "import numpy as np\n",
    "from sympy import lambdify\n",
    "from numpy import linalg as LA\n",
    "import matplotlib.pyplot as plt\n",
    "\n",
    "#sym.init_printing(use_unicode=False, wrap_line=True)"
   ]
  },
  {
   "cell_type": "markdown",
   "metadata": {},
   "source": [
    "### PS3  linearized solution of a Ramsey model"
   ]
  },
  {
   "cell_type": "code",
   "execution_count": 82,
   "metadata": {},
   "outputs": [],
   "source": [
    "#VARIABLES\n",
    "\n",
    "beta = 0.9\n",
    "#discount factor\n",
    "\n",
    "theta = 1.0/beta - 1.0\n",
    "#discount rate\n",
    "\n",
    "sigma = 2.0\n",
    "#utility curvature\n",
    "\n",
    "alpha = 1/2\n",
    "#exponent on capital\n",
    "\n",
    "delta = 1\n",
    "#depreciation rate\n",
    "\n",
    "T = 50\n",
    "#number of time periods to simulate"
   ]
  },
  {
   "cell_type": "code",
   "execution_count": 83,
   "metadata": {},
   "outputs": [],
   "source": [
    "#utility function of ct\n",
    "ct = sym.symbols('ct')\n",
    "uct = (ct ** (1 - sigma) - 1 ) / (1 - sigma)\n",
    "duct = sym.diff(uct)\n",
    "dduct = sym.diff(duct)\n"
   ]
  },
  {
   "cell_type": "code",
   "execution_count": 84,
   "metadata": {},
   "outputs": [],
   "source": [
    "#ct\n",
    "uct = lambdify(ct, uct)\n",
    "duct = lambdify(ct, duct)\n",
    "dduct = lambdify(ct, dduct)"
   ]
  },
  {
   "cell_type": "code",
   "execution_count": 85,
   "metadata": {},
   "outputs": [],
   "source": [
    "#STEADYSTATE\n",
    "\n",
    "Kss = ( (1-beta+delta*beta) / (alpha*beta) )**(1/(alpha-1))\n",
    "Css = Kss**alpha - delta*Kss\n",
    "A = np.zeros([2,2])\n",
    "coef = (duct(Css)*(alpha**2 - alpha)*(Kss)**(alpha - 2))/dduct(Css)\n",
    "A[0, 0] = 1 + coef/(1 + theta)\n",
    "A[0, 1] = -coef\n",
    "A[1, 0] = -1\n",
    "A[1, 1] = 1 + theta\n",
    "D, V = LA.eig(A)"
   ]
  },
  {
   "cell_type": "code",
   "execution_count": 171,
   "metadata": {
    "scrolled": true
   },
   "outputs": [
    {
     "name": "stdout",
     "output_type": "stream",
     "text": [
      "[[ True]\n",
      " [ True]]\n"
     ]
    },
    {
     "data": {
      "text/plain": [
       "0.49350473105935383"
      ]
     },
     "execution_count": 171,
     "metadata": {},
     "output_type": "execute_result"
    }
   ],
   "source": [
    "#CHOOSE STABLE EIGENVALUE & VERIFY\n",
    "print(A.dot(V[:,D<1]) ==  V[:,D<1]* D[D<1])\n",
    "determinant = (V[0,D<1] / V[1,D<1]).item()\n",
    "lamda = D.item(np.where(D<1)[0][0])\n",
    "determinant"
   ]
  },
  {
   "cell_type": "code",
   "execution_count": 172,
   "metadata": {},
   "outputs": [],
   "source": [
    "r = 30\n",
    "k = -Kss * lamda\n",
    "addk = abs(2 * Kss / r) \n",
    "deltak = []\n",
    "deltac = []\n",
    "for i in range(r): \n",
    "    k += addk\n",
    "    deltak.append(k)\n",
    "    deltac.append(determinant * k)"
   ]
  },
  {
   "cell_type": "code",
   "execution_count": 173,
   "metadata": {
    "scrolled": true
   },
   "outputs": [
    {
     "data": {
      "text/plain": [
       "Text(0, 0.5, 'consumption')"
      ]
     },
     "execution_count": 173,
     "metadata": {},
     "output_type": "execute_result"
    },
    {
     "data": {
      "image/png": "[encoded data removed]",
      "text/plain": [
       "<Figure size 432x288 with 1 Axes>"
      ]
     },
     "metadata": {
      "needs_background": "light"
     },
     "output_type": "display_data"
    }
   ],
   "source": [
    "#linear approximation\n",
    "plt.plot(deltak , deltac)\n",
    "plt.xlabel('capital')\n",
    "plt.ylabel('consumption')"
   ]
  },
  {
   "cell_type": "code",
   "execution_count": 195,
   "metadata": {},
   "outputs": [],
   "source": [
    "#Simulating dynamics \n",
    "kpercent = 0.1\n",
    "deltak = (kpercent - 1) * Kss \n",
    "deltac = determinant * deltak \n",
    "kplot = []\n",
    "cplot = []\n",
    "\n",
    "for i in range(T):\n",
    "    kplot.append(deltak)\n",
    "    cplot.append(deltac)\n",
    "    \n",
    "    deltak = A[1, :].dot([deltac, deltak])\n",
    "    deltac = determinant * deltak\n"
   ]
  },
  {
   "cell_type": "code",
   "execution_count": 206,
   "metadata": {},
   "outputs": [
    {
     "data": {
      "image/png": "[encoded data removed]",
      "text/plain": [
       "<Figure size 432x288 with 1 Axes>"
      ]
     },
     "metadata": {
      "needs_background": "light"
     },
     "output_type": "display_data"
    }
   ],
   "source": [
    "plt.plot(list(range(0, T)), cplot, marker='o', markerfacecolor='blue', markersize=4, color='skyblue', linewidth=1, label='consumption dev')\n",
    "plt.plot(list(range(0, T)), kplot, marker='o', markerfacecolor='red', markersize=4, color='pink', linewidth=1, label='kapital dev')\n",
    "plt.legend()\n",
    "plt.show()"
   ]
  },
  {
   "cell_type": "code",
   "execution_count": 209,
   "metadata": {},
   "outputs": [
    {
     "data": {
      "image/png": "[encoded data removed]",
      "text/plain": [
       "<Figure size 432x288 with 1 Axes>"
      ]
     },
     "metadata": {
      "needs_background": "light"
     },
     "output_type": "display_data"
    }
   ],
   "source": [
    "plt.plot(kplot , cplot, marker='o', markerfacecolor='blue')\n",
    "plt.xlabel('capital dev')\n",
    "plt.ylabel('consumption dev')\n",
    "plt.show()"
   ]
  }
 ],
 "metadata": {
  "kernelspec": {
   "display_name": "Python 3",
   "language": "python",
   "name": "python3"
  },
  "language_info": {
   "codemirror_mode": {
    "name": "ipython",
    "version": 3
   },
   "file_extension": ".py",
   "mimetype": "text/x-python",
   "name": "python",
   "nbconvert_exporter": "python",
   "pygments_lexer": "ipython3",
   "version": "3.7.5"
  }
 },
 "nbformat": 4,
 "nbformat_minor": 2
}
