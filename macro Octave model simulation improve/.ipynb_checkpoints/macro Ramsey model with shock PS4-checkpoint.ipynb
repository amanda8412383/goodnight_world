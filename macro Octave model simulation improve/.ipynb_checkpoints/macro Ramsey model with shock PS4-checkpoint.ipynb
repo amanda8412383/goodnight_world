{
 "cells": [
  {
   "cell_type": "code",
   "execution_count": 7,
   "metadata": {
    "scrolled": true
   },
   "outputs": [],
   "source": [
    "# import sys\n",
    "# !{sys.executable} -m pip install sympy\n",
    "# !{sys.executable} -m pip install numpy\n",
    "# !{sys.executable} -m pip install matplotlib"
   ]
  },
  {
   "cell_type": "code",
   "execution_count": 2,
   "metadata": {},
   "outputs": [],
   "source": [
    "import sympy as sym\n",
    "import numpy as np\n",
    "from sympy import lambdify\n",
    "from numpy import linalg as LA\n",
    "import matplotlib.pyplot as plt\n",
    "\n",
    "#sym.init_printing(use_unicode=False, wrap_line=True)"
   ]
  },
  {
   "cell_type": "markdown",
   "metadata": {},
   "source": [
    "### PS4\n",
    "#### Ramsey model with an unaticipated and permanent shock to depreciation"
   ]
  },
  {
   "cell_type": "code",
   "execution_count": 85,
   "metadata": {},
   "outputs": [],
   "source": [
    "#VARIABLES\n",
    "\n",
    "beta = 0.95\n",
    "#discount factor\n",
    "\n",
    "theta = 1/beta - 1\n",
    "#discount rate\n",
    "\n",
    "sigma = 2\n",
    "#utility curvature\n",
    "\n",
    "alpha = 0.3\n",
    "#exponent on capital\n",
    "\n",
    "omega = 1\n",
    "#productivity which is not even mentioned in the problem\n",
    "#just omit it \n",
    "\n",
    "delta_L = 0.1\n",
    "#old depreciation rate\n",
    "\n",
    "delta_H = 0.2\n",
    "#new depreciation rate\n",
    "\n",
    "T = 50\n",
    "#number of time periods to simulate"
   ]
  },
  {
   "cell_type": "code",
   "execution_count": 86,
   "metadata": {},
   "outputs": [],
   "source": [
    "#utility function of ct\n",
    "ct = sym.symbols('ct')\n",
    "uct = (ct ** (1 - sigma) - 1 ) / (1 - sigma)\n",
    "duct = sym.diff(uct)\n",
    "dduct = sym.diff(duct)\n"
   ]
  },
  {
   "cell_type": "code",
   "execution_count": 87,
   "metadata": {},
   "outputs": [],
   "source": [
    "#ct\n",
    "uct = lambdify(ct, uct)\n",
    "duct = lambdify(ct, duct)\n",
    "dduct = lambdify(ct, dduct)"
   ]
  },
  {
   "cell_type": "code",
   "execution_count": 88,
   "metadata": {},
   "outputs": [],
   "source": [
    "#production function of kt\n",
    "kt = sym.symbols('kt')\n",
    "fkt = kt ** alpha\n",
    "dfkt = sym.diff(fkt)\n",
    "ddfkt = sym.diff(dfkt)"
   ]
  },
  {
   "cell_type": "code",
   "execution_count": 89,
   "metadata": {},
   "outputs": [],
   "source": [
    "#kt\n",
    "fkt = lambdify(kt, fkt)\n",
    "dfkt = lambdify(kt, dfkt)\n",
    "ddfkt = lambdify(kt, ddfkt)"
   ]
  },
  {
   "cell_type": "code",
   "execution_count": 90,
   "metadata": {},
   "outputs": [],
   "source": [
    "#initial steadystate\n",
    "Kss_R1 = ( alpha / (theta + delta_L) )**(1/(1 - alpha))\n",
    "Css_R1 = Kss_R1**alpha - delta_L*Kss_R1\n",
    "\n",
    "#new steadystate\n",
    "Kss_R2 = ( alpha / (theta + delta_H ))**(1/(1 - alpha))\n",
    "Css_R2 = Kss_R2**alpha - delta_H*Kss_R2\n",
    "\n",
    "#A matrix\n",
    "coeff1_R2 = duct(Css_R2) * ddfkt(Kss_R2) / dduct(Css_R2)\n",
    "\n",
    "A = np.zeros([2,2])\n",
    "A[0, 0] = 1 + coeff1_R2/ (1 + theta)\n",
    "A[0, 1] = -coeff1_R2\n",
    "A[1, 0] = -1\n",
    "A[1, 1] = 1 + theta\n",
    "D_R2, V_R2 = LA.eig(A)\n",
    "\n"
   ]
  },
  {
   "cell_type": "code",
   "execution_count": 1,
   "metadata": {
    "scrolled": true
   },
   "outputs": [
    {
     "ename": "NameError",
     "evalue": "name 'np' is not defined",
     "output_type": "error",
     "traceback": [
      "\u001b[1;31m---------------------------------------------------------------------------\u001b[0m",
      "\u001b[1;31mNameError\u001b[0m                                 Traceback (most recent call last)",
      "\u001b[1;32m<ipython-input-1-e35303d46fed>\u001b[0m in \u001b[0;36m<module>\u001b[1;34m\u001b[0m\n\u001b[0;32m      1\u001b[0m \u001b[1;31m#CHOOSE STABLE EIGENVALUE & VERIFY\u001b[0m\u001b[1;33m\u001b[0m\u001b[1;33m\u001b[0m\u001b[1;33m\u001b[0m\u001b[0m\n\u001b[1;32m----> 2\u001b[1;33m \u001b[0mA_time_V\u001b[0m \u001b[1;33m=\u001b[0m \u001b[0mnp\u001b[0m\u001b[1;33m.\u001b[0m\u001b[0maround\u001b[0m\u001b[1;33m(\u001b[0m\u001b[0mA\u001b[0m\u001b[1;33m.\u001b[0m\u001b[0mdot\u001b[0m\u001b[1;33m(\u001b[0m\u001b[0mV_R2\u001b[0m\u001b[1;33m[\u001b[0m\u001b[1;33m:\u001b[0m\u001b[1;33m,\u001b[0m\u001b[0mD_R2\u001b[0m\u001b[1;33m<\u001b[0m\u001b[1;36m1\u001b[0m\u001b[1;33m]\u001b[0m\u001b[1;33m)\u001b[0m\u001b[1;33m,\u001b[0m \u001b[0mdecimals\u001b[0m\u001b[1;33m=\u001b[0m\u001b[1;36m8\u001b[0m\u001b[1;33m)\u001b[0m\u001b[1;33m\u001b[0m\u001b[1;33m\u001b[0m\u001b[0m\n\u001b[0m\u001b[0;32m      3\u001b[0m \u001b[0mlambda_time_V\u001b[0m \u001b[1;33m=\u001b[0m \u001b[0mnp\u001b[0m\u001b[1;33m.\u001b[0m\u001b[0maround\u001b[0m\u001b[1;33m(\u001b[0m \u001b[0mV_R2\u001b[0m\u001b[1;33m[\u001b[0m\u001b[1;33m:\u001b[0m\u001b[1;33m,\u001b[0m\u001b[0mD_R2\u001b[0m\u001b[1;33m<\u001b[0m\u001b[1;36m1\u001b[0m\u001b[1;33m]\u001b[0m\u001b[1;33m*\u001b[0m \u001b[0mD_R2\u001b[0m\u001b[1;33m[\u001b[0m\u001b[0mD_R2\u001b[0m\u001b[1;33m<\u001b[0m\u001b[1;36m1\u001b[0m\u001b[1;33m]\u001b[0m\u001b[1;33m,\u001b[0m \u001b[0mdecimals\u001b[0m\u001b[1;33m=\u001b[0m\u001b[1;36m8\u001b[0m\u001b[1;33m)\u001b[0m\u001b[1;33m\u001b[0m\u001b[1;33m\u001b[0m\u001b[0m\n\u001b[0;32m      4\u001b[0m \u001b[0mprint\u001b[0m\u001b[1;33m(\u001b[0m\u001b[0mA_time_V\u001b[0m \u001b[1;33m==\u001b[0m \u001b[0mlambda_time_V\u001b[0m\u001b[1;33m)\u001b[0m\u001b[1;33m\u001b[0m\u001b[1;33m\u001b[0m\u001b[0m\n\u001b[0;32m      5\u001b[0m \u001b[1;33m\u001b[0m\u001b[0m\n",
      "\u001b[1;31mNameError\u001b[0m: name 'np' is not defined"
     ]
    }
   ],
   "source": [
    "#CHOOSE STABLE EIGENVALUE & VERIFY\n",
    "A_time_V = np.around(A.dot(V_R2[:,D_R2<1]), decimals=8)\n",
    "lambda_time_V = np.around( V_R2[:,D_R2<1]* D_R2[D_R2<1], decimals=8)\n",
    "print(A_time_V == lambda_time_V)\n",
    "\n",
    "determinant = (V_R2[0,D_R2<1] / V_R2[1,D_R2<1]).item()\n",
    "lamda = D_R2.item(np.where(D_R2<1)[0][0])\n"
   ]
  },
  {
   "cell_type": "code",
   "execution_count": 114,
   "metadata": {},
   "outputs": [],
   "source": [
    "#Simulating dynamics \n",
    "deltak = Kss_R1 - Kss_R2\n",
    "deltac = determinant * deltak \n",
    "kplot = []\n",
    "cplot = []\n",
    "\n",
    "for i in range(T):\n",
    "    kplot.append(deltak)\n",
    "    cplot.append(deltac)\n",
    "    \n",
    "    deltak = A[1, :].dot([deltac, deltak])\n",
    "    deltac = determinant * deltak\n",
    "    \n",
    "c_dev = np.array(cplot)\n",
    "k_dev = np.array(kplot)\n",
    "\n",
    "#Computing levels\n",
    "c_sim = np.array(cplot) + Css_R2\n",
    "k_sim = np.array(kplot) + Kss_R2"
   ]
  },
  {
   "cell_type": "code",
   "execution_count": 115,
   "metadata": {
    "scrolled": true
   },
   "outputs": [
    {
     "data": {
      "image/png": "[encoded data removed]",
      "text/plain": [
       "<Figure size 432x288 with 1 Axes>"
      ]
     },
     "metadata": {
      "needs_background": "light"
     },
     "output_type": "display_data"
    }
   ],
   "source": [
    "plt.plot(list(range(0, T)), c_dev, marker='o', markerfacecolor='blue', markersize=4, color='skyblue', linewidth=1, label='consumption dev')\n",
    "plt.plot(list(range(0, T)), k_dev, marker='o', markerfacecolor='red', markersize=4, color='pink', linewidth=1, label='capital dev')\n",
    "plt.legend()\n",
    "plt.show()"
   ]
  },
  {
   "cell_type": "code",
   "execution_count": 108,
   "metadata": {},
   "outputs": [
    {
     "data": {
      "image/png": "[encoded data removed]",
      "text/plain": [
       "<Figure size 432x288 with 1 Axes>"
      ]
     },
     "metadata": {
      "needs_background": "light"
     },
     "output_type": "display_data"
    }
   ],
   "source": [
    "plt.plot(list(range(0, T)), c_sim, marker='o', markerfacecolor='blue', markersize=4, color='skyblue', linewidth=1, label='consumption level')\n",
    "plt.plot(list(range(0, T)), k_sim, marker='o', markerfacecolor='red', markersize=4, color='pink', linewidth=1, label='capital level')\n",
    "plt.legend()\n",
    "plt.show()"
   ]
  },
  {
   "cell_type": "code",
   "execution_count": 116,
   "metadata": {},
   "outputs": [
    {
     "data": {
      "image/png": "[encoded data removed]",
      "text/plain": [
       "<Figure size 432x288 with 2 Axes>"
      ]
     },
     "metadata": {
      "needs_background": "light"
     },
     "output_type": "display_data"
    }
   ],
   "source": [
    "plt.subplot(1, 2, 1)\n",
    "plt.plot( k_sim/Kss_R1)\n",
    "plt.title('Transition path capital k')\n",
    "plt.xlabel('Time period t')\n",
    "plt.ylabel('Capital k')\n",
    "\n",
    "plt.subplot(1, 2, 2)\n",
    "plt.plot(c_sim/Css_R1)\n",
    "plt.title('Transition path consumption c')\n",
    "plt.xlabel('Time period t')\n",
    "plt.ylabel('Consumtion c')\n",
    "plt.tight_layout()\n",
    "plt.show()"
   ]
  }
 ],
 "metadata": {
  "kernelspec": {
   "display_name": "Python 3",
   "language": "python",
   "name": "python3"
  },
  "language_info": {
   "codemirror_mode": {
    "name": "ipython",
    "version": 3
   },
   "file_extension": ".py",
   "mimetype": "text/x-python",
   "name": "python",
   "nbconvert_exporter": "python",
   "pygments_lexer": "ipython3",
   "version": "3.7.5"
  }
 },
 "nbformat": 4,
 "nbformat_minor": 2
}
