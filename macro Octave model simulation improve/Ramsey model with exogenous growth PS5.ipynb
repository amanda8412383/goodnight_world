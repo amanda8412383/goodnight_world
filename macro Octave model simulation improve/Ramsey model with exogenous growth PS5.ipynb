{
 "cells": [
  {
   "cell_type": "markdown",
   "metadata": {},
   "source": [
    "### Ramsey model with exogenous growth\n",
    "### Log utility and Cobb-Douglas production function.\n",
    "### PS5 Q2"
   ]
  },
  {
   "cell_type": "code",
   "execution_count": 54,
   "metadata": {},
   "outputs": [],
   "source": [
    "import sympy as sym\n",
    "import numpy as np\n",
    "from sympy import lambdify\n",
    "from numpy import linalg as LA\n",
    "import matplotlib.pyplot as plt"
   ]
  },
  {
   "cell_type": "code",
   "execution_count": 55,
   "metadata": {},
   "outputs": [],
   "source": [
    "alpha = 0.3\n",
    "#Curvature of production function.\n",
    "beta  = 0.95\n",
    "# Discount factor.\n",
    "delta = 0.10                                                                   \n",
    "#Depreciation rate.\n",
    "n = 0.01\n",
    "#Population growth.\n",
    "g = 0.02\n",
    "#Harrod-Neutral technological growth.\n",
    "sigma = 1\n",
    "# log utility\n",
    "T = 50"
   ]
  },
  {
   "cell_type": "code",
   "execution_count": 56,
   "metadata": {},
   "outputs": [],
   "source": [
    "betatilde = beta*((1+g)*(1+n))**(1-sigma)\n",
    "#normalized beta.\n",
    "betatildetilde = betatilde/((1+g)*(1+n))\n",
    "\n",
    "#Normalized capital in the BGP.\n",
    "kss_sharp = ( (1/betatildetilde - 1 + delta) / (alpha) )**(1/(alpha - 1))\n",
    "\n",
    "#Normalized consumption in the BGP.\n",
    "css_sharp =  kss_sharp**alpha - (1+g)*(1+n)*kss_sharp + (1-delta)*kss_sharp\n",
    "\n"
   ]
  },
  {
   "cell_type": "code",
   "execution_count": 57,
   "metadata": {},
   "outputs": [],
   "source": [
    "#utility function of ct\n",
    "#ct = Ct / Nt_sharp = Ct / ((1 + n)**t)*((1 + g)**t)*N0*E0 \n",
    "\n",
    "ct = sym.symbols('ct')\n",
    "uct = sym.log(ct, 10)\n",
    "duct = sym.diff(uct)\n",
    "dduct = sym.diff(duct)\n",
    "\n",
    "#ct\n",
    "uct = lambdify(ct, uct)\n",
    "duct = lambdify(ct, duct)\n",
    "dduct = lambdify(ct, dduct)\n",
    "\n",
    "#production function of kt\n",
    "#Yt/Nt_sharp=fkt\n",
    "kt = sym.symbols('kt')\n",
    "fkt = kt ** alpha\n",
    "dfkt = sym.diff(fkt)\n",
    "ddfkt = sym.diff(dfkt)\n",
    "\n",
    "#kt\n",
    "fkt = lambdify(kt, fkt)\n",
    "dfkt = lambdify(kt, dfkt)\n",
    "ddfkt = lambdify(kt, ddfkt)"
   ]
  },
  {
   "cell_type": "code",
   "execution_count": 58,
   "metadata": {},
   "outputs": [],
   "source": [
    "#A matrix\n",
    "growth = (1 + n) * (1 + g)\n",
    "coef = duct(css_sharp) * ddfkt(kss_sharp) / dduct(css_sharp)\n",
    "\n",
    "A = np.zeros([2,2])\n",
    "A[0, 0] = 1 + betatildetilde * coef/growth\n",
    "A[0, 1] = -coef/growth\n",
    "A[1, 0] = -1/growth\n",
    "A[1, 1] = 1/(growth * betatildetilde)\n",
    "D_R2, V_R2 = LA.eig(A)"
   ]
  },
  {
   "cell_type": "code",
   "execution_count": 59,
   "metadata": {
    "scrolled": false
   },
   "outputs": [
    {
     "name": "stdout",
     "output_type": "stream",
     "text": [
      "[[ True]\n",
      " [ True]]\n"
     ]
    }
   ],
   "source": [
    "#CHOOSE STABLE EIGENVALUE & VERIFY\n",
    "A_time_V = np.around(A.dot(V_R2[:,D_R2<1]), decimals=8)\n",
    "lambda_time_V = np.around( V_R2[:,D_R2<1]* D_R2[D_R2<1], decimals=8)\n",
    "print(A_time_V == lambda_time_V)\n",
    "\n",
    "determinant = (V_R2[0,D_R2<1] / V_R2[1,D_R2<1]).item()\n",
    "lamda = D_R2.item(np.where(D_R2<1)[0][0])"
   ]
  },
  {
   "cell_type": "code",
   "execution_count": 60,
   "metadata": {},
   "outputs": [],
   "source": [
    "#Simulating dynamics \n",
    "#initialize parameters\n",
    "k0_sharp = 0.9*kss_sharp\n",
    "k = k0_sharp - kss_sharp \n",
    "c = determinant * k \n",
    "v1 = []\n",
    "#v1 = ct_sharp -c_sharp_star\n",
    "v2 = []\n",
    "#v2 = kt_sharp -c_sharp_star\n",
    "\n",
    "for i in range(T):\n",
    "    v1.append(c)\n",
    "    v2.append(k)\n",
    "    \n",
    "    k = A[1, :].dot([c, k])\n",
    "    c = determinant * k\n",
    "    \n",
    "#Computing levels(normalized)\n",
    "c = np.array(v1) + css_sharp\n",
    "k = np.array(v2) + kss_sharp"
   ]
  },
  {
   "cell_type": "code",
   "execution_count": 61,
   "metadata": {},
   "outputs": [],
   "source": [
    "#Obtain levels, output\n",
    "Ct = []\n",
    "Kt = []\n",
    "Yt = []\n",
    "for i in range(T):\n",
    "    Ct.append(c[i] * (growth)**i)\n",
    "    Kt.append(k[i] * (growth)**i)\n",
    "    Yt.append(fkt(k[i]) * (growth)**i)\n",
    "\n"
   ]
  },
  {
   "cell_type": "markdown",
   "metadata": {},
   "source": [
    "### experiment\n",
    "use A metrix without growth rate to obtain Ct, Kt, Yt"
   ]
  },
  {
   "cell_type": "code",
   "execution_count": 62,
   "metadata": {
    "scrolled": true
   },
   "outputs": [
    {
     "name": "stdout",
     "output_type": "stream",
     "text": [
      "[[ True]\n",
      " [ True]]\n",
      "0.8205919441409735 -0.23858825304391873\n"
     ]
    },
    {
     "data": {
      "text/plain": [
       "array([ True, False, False, False, False, False, False, False, False,\n",
       "       False, False, False, False, False, False, False, False, False,\n",
       "       False, False, False, False, False, False, False, False, False,\n",
       "       False, False, False, False, False, False, False, False, False,\n",
       "       False, False, False, False, False, False, False, False, False,\n",
       "       False, False, False, False, False])"
      ]
     },
     "execution_count": 62,
     "metadata": {},
     "output_type": "execute_result"
    }
   ],
   "source": [
    "A2 = np.zeros([2,2])\n",
    "A2[0, 0] = 1 + coef * betatildetilde\n",
    "A2[0, 1] = -coef\n",
    "A2[1, 0] = -1\n",
    "A2[1, 1] = 1/betatildetilde\n",
    "D2, V2 = LA.eig(A2)\n",
    "\n",
    "A_time_V2 = np.around(A2.dot(V2[:,D2<1]), decimals=8)\n",
    "lambda_time_V2 = np.around( V2[:,D2<1]* D2[D2<1], decimals=8)\n",
    "print(A_time_V2 == lambda_time_V2)\n",
    "\n",
    "determinant2 = (V2[0,D_R2<1] / V2[1,D2<1]).item()\n",
    "lamda2 = D2.item(np.where(D2<1)[0][0])\n",
    "print(lamda2, determinant2)\n",
    "\n",
    "x1 = []\n",
    "x2 = []\n",
    "k2 = k0_sharp - kss_sharp \n",
    "c2 = determinant * k2 \n",
    "\n",
    "for i in range(T):\n",
    "    x1.append(c2)\n",
    "    x2.append(k2)\n",
    "    \n",
    "    k2 = A2[1, :].dot([c2, k2])\n",
    "    c2 = determinant2 * k2\n",
    "\n",
    "c2 = np.array(x1) + css_sharp\n",
    "k2 = np.array(x2) + kss_sharp\n",
    "c2 == c"
   ]
  },
  {
   "cell_type": "markdown",
   "metadata": {},
   "source": [
    "### result: obviously infeasible\n",
    "exclude growth effect in each period could cause simulation result deviate away from the right path\n",
    "<br/><br/>\n",
    "### ploting\n",
    "Normalized consumption deviations against normalized capital deviations.\n"
   ]
  },
  {
   "cell_type": "code",
   "execution_count": 65,
   "metadata": {},
   "outputs": [
    {
     "data": {
      "image/png": "[encoded data removed]",
      "text/plain": [
       "<Figure size 432x288 with 1 Axes>"
      ]
     },
     "metadata": {
      "needs_background": "light"
     },
     "output_type": "display_data"
    }
   ],
   "source": [
    "Ct = np.array(Ct)\n",
    "Kt = np.array(Kt)\n",
    "Yt = np.array(Yt)\n",
    "\n",
    "plt.plot(k , c, marker='o', markerfacecolor='blue')\n",
    "plt.xlabel('capital dev: k#t')\n",
    "plt.ylabel('consumption c#t')\n",
    "plt.show()\n"
   ]
  },
  {
   "cell_type": "markdown",
   "metadata": {},
   "source": [
    " Consumption levels, capital levels, and output levels against time.\n"
   ]
  },
  {
   "cell_type": "code",
   "execution_count": 68,
   "metadata": {},
   "outputs": [
    {
     "data": {
      "image/png": "[encoded data removed]",
      "text/plain": [
       "<Figure size 432x288 with 1 Axes>"
      ]
     },
     "metadata": {
      "needs_background": "light"
     },
     "output_type": "display_data"
    }
   ],
   "source": [
    "plt.plot(list(range(0, T)), Ct, marker='o', markerfacecolor='blue', markersize=4, color='skyblue', linewidth=1, label='Consumption level Ct')\n",
    "plt.plot(list(range(0, T)), Kt, marker='o', markerfacecolor='red', markersize=4, color='pink', linewidth=1, label='Kapital level Kt')\n",
    "plt.plot(list(range(0, T)), Yt, marker='o', markerfacecolor='yellow', markersize=4, color='yellow', linewidth=1, label='Output level Yt')\n",
    "\n",
    "plt.legend()\n",
    "plt.xlabel('Time')\n",
    "plt.show()"
   ]
  },
  {
   "cell_type": "markdown",
   "metadata": {},
   "source": [
    "Consumption levels against capital levels."
   ]
  },
  {
   "cell_type": "code",
   "execution_count": 69,
   "metadata": {},
   "outputs": [
    {
     "data": {
      "image/png": "[encoded data removed]",
      "text/plain": [
       "<Figure size 432x288 with 1 Axes>"
      ]
     },
     "metadata": {
      "needs_background": "light"
     },
     "output_type": "display_data"
    }
   ],
   "source": [
    "plt.plot(Kt , Ct, marker='o', markerfacecolor='blue')\n",
    "plt.xlabel('Capital level K_t')\n",
    "plt.ylabel('Consumption level C_t')\n",
    "plt.show()"
   ]
  },
  {
   "cell_type": "markdown",
   "metadata": {},
   "source": [
    "Capital levels against output levels."
   ]
  },
  {
   "cell_type": "code",
   "execution_count": 70,
   "metadata": {},
   "outputs": [
    {
     "data": {
      "image/png": "[encoded data removed]",
      "text/plain": [
       "<Figure size 432x288 with 1 Axes>"
      ]
     },
     "metadata": {
      "needs_background": "light"
     },
     "output_type": "display_data"
    }
   ],
   "source": [
    "plt.plot(Kt , Yt, marker='o', markerfacecolor='blue')\n",
    "plt.xlabel('Capital level K_t')\n",
    "plt.ylabel('Output level Y_t')\n",
    "plt.show()"
   ]
  },
  {
   "cell_type": "markdown",
   "metadata": {},
   "source": [
    "Capital-output-ratio over time."
   ]
  },
  {
   "cell_type": "code",
   "execution_count": 72,
   "metadata": {},
   "outputs": [
    {
     "data": {
      "image/png": "[encoded data removed]",
      "text/plain": [
       "<Figure size 432x288 with 1 Axes>"
      ]
     },
     "metadata": {
      "needs_background": "light"
     },
     "output_type": "display_data"
    }
   ],
   "source": [
    "K_Y_ratio = Kt/Yt\n",
    "plt.plot(list(range(0, T)), K_Y_ratio, marker='o', markerfacecolor='blue', markersize=4, color='skyblue', linewidth=1, label='Consumption level Ct')\n",
    "plt.legend()\n",
    "plt.xlabel('Time')\n",
    "plt.ylabel('Capital-Output-ratio K_t/Y_t')\n",
    "plt.show()"
   ]
  }
 ],
 "metadata": {
  "kernelspec": {
   "display_name": "Python 3",
   "language": "python",
   "name": "python3"
  },
  "language_info": {
   "codemirror_mode": {
    "name": "ipython",
    "version": 3
   },
   "file_extension": ".py",
   "mimetype": "text/x-python",
   "name": "python",
   "nbconvert_exporter": "python",
   "pygments_lexer": "ipython3",
   "version": "3.7.5"
  }
 },
 "nbformat": 4,
 "nbformat_minor": 2
}
