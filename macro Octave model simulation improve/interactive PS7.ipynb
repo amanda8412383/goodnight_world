{
 "cells": [
  {
   "cell_type": "markdown",
   "metadata": {},
   "source": [
    "### multivariate rational expectations model\n",
    "### PS7 Q2\n"
   ]
  },
  {
   "cell_type": "code",
   "execution_count": 8,
   "metadata": {},
   "outputs": [],
   "source": [
    "from __future__ import print_function\n",
    "import ipywidgets as widgets\n",
    "from ipywidgets import interact, interact_manual, interactive, fixed\n",
    "from IPython.display import display\n",
    "\n",
    "import random\n",
    "import sympy as sym\n",
    "import numpy as np\n",
    "from sympy import lambdify\n",
    "from numpy import linalg as LA\n",
    "import matplotlib.pyplot as plt\n",
    "import seaborn as sns\n",
    "\n"
   ]
  },
  {
   "cell_type": "code",
   "execution_count": 14,
   "metadata": {},
   "outputs": [],
   "source": [
    "def fltsld_init(initial):\n",
    "    floatsld = widgets.FloatSlider(\n",
    "            min=0.01,\n",
    "            max=0.99,\n",
    "            value=initial,\n",
    "            step=0.000001,\n",
    "            continuous_update=False)\n",
    "    return floatsld\n",
    "\n",
    "def intsld_init(maxnum, initial):\n",
    "    intsld = widgets.IntSlider(\n",
    "            min=0,\n",
    "            max=maxnum,\n",
    "            value=initial,\n",
    "            step=1,\n",
    "            continuous_update=False)\n",
    "    return intsld\n",
    "\n",
    "\n",
    "text = widgets.Text(\n",
    "    value='0, -0.005, -0.009, -0.013, -0.022, -0.021, -0.019, -0.011, -0.012, -0.003',\n",
    "    placeholder='Type something',\n",
    "    description='s_given',\n",
    "    disabled=False,\n",
    "#     continuous_update=False\n",
    ")\n",
    "def s_given_process(s_given, T_g):\n",
    "    s_list = []\n",
    "    if s_given == '':\n",
    "            display('at least 1st period s is required')\n",
    "            raise Exception()    \n",
    "    for i in s_given.split(\",\"):\n",
    "         if float(i) > 1 or float(i) < -1:\n",
    "            display('s_given should be number between 1 & -1')\n",
    "            raise Exception()\n",
    "         else:\n",
    "            s_list.append(float(i))\n",
    "    T_sgiven =  len(s_list)\n",
    "    if T_sgiven > T_g:\n",
    "        display('given period should be smaller than total period')\n",
    "        raise Exception()\n",
    "    return s_list, T_sgiven\n"
   ]
  },
  {
   "cell_type": "code",
   "execution_count": 15,
   "metadata": {},
   "outputs": [
    {
     "data": {
      "application/vnd.jupyter.widget-view+json": {
       "model_id": "b4ef3c87760746a49cf89d1d9011c21a",
       "version_major": 2,
       "version_minor": 0
      },
      "text/plain": [
       "interactive(children=(FloatSlider(value=0.1, continuous_update=False, description='delta', max=0.99, min=0.01,…"
      ]
     },
     "metadata": {},
     "output_type": "display_data"
    },
    {
     "data": {
      "text/plain": [
       "<function __main__.input(delta, rho, alpha, beta, T_g, std_v, seed_num, s_given)>"
      ]
     },
     "metadata": {},
     "output_type": "display_data"
    }
   ],
   "source": [
    "def input(delta, rho, alpha, beta, T_g, std_v, seed_num, s_given):\n",
    "    s_given, T_sgiven = s_given_process(s_given, T_g)\n",
    "\n",
    "    #Getting non-stochastic steady-state values\n",
    "    k_bar = ((1/beta - 1 + delta)/alpha)**(1/(alpha - 1))\n",
    "    c_bar = k_bar**alpha  - delta*k_bar\n",
    "    s_bar = 1\n",
    "\n",
    "    #Describing relationships underlying linear coefficients\n",
    "    a1 = beta*alpha*(alpha - 1)*k_bar**(alpha - 1)\n",
    "    a2 = beta*alpha*k_bar**(alpha - 1)\n",
    "    b1 = 1 - delta + alpha*k_bar**(alpha - 1)\n",
    "    b2 = k_bar**(alpha - 1)\n",
    "    b3 = -c_bar/k_bar\n",
    "    \n",
    "    #Writing dynamic equilibrium conditions into matrix form\n",
    "    m371 =  np.zeros([3,3])\n",
    "    m371[0, 0] = -1\n",
    "    m371[1, 0] = b3\n",
    "    m371[1, 1] = b1\n",
    "    m371[1, 2] = b2\n",
    "    m371[2, 2] = rho\n",
    "\n",
    "    m372 =  np.zeros([3,3])\n",
    "    m372[0, 0] = -1\n",
    "    m372[0, 1] = a1\n",
    "    m372[0, 2] = a2\n",
    "    m372[1, 1] = 1\n",
    "    m372[2, 2] = 1\n",
    "\n",
    "    m38 = np.linalg.inv(m371)\n",
    "    A = np.dot(m38, m372)\n",
    "\n",
    "    #Calculate Eigenvectors and Eigenvalues of A\n",
    "    Lam_temp, Q_temp = LA.eig(A)\n",
    "    \n",
    "    #make stable eigenvalue and the corresponding eigenvector in the first positions \n",
    "    idx = Lam_temp.argmin()\n",
    "    Lam = np.r_[Lam_temp[idx], Lam_temp[: idx], Lam_temp[idx + 1:]]\n",
    "    Q = np.c_[Q_temp[:, idx], Q_temp[:, : idx], Q_temp[:, idx + 1:]]\n",
    "\n",
    "    #A = QΛQ_inv\n",
    "    Q_inv = np.linalg.inv(Q)\n",
    "    \n",
    "    #key restriction\n",
    "    #get free var consumption as function of capital, productivity-state\n",
    "    c_coeff_k = -Q_inv[0, 1]/Q_inv[0, 0]\n",
    "    c_coeff_s = -Q_inv[0, 2]/Q_inv[0, 0]\n",
    "    \n",
    "    #productivity values\n",
    "    s_t = [] + s_given\n",
    "\n",
    "    random.seed(seed_num)\n",
    "    #Obtain productivity levels\n",
    "    for t in range(T_sgiven, T_g):\n",
    "        s_t.append(rho*s_t[-1] + std_v * random.uniform(-1, 1))\n",
    "        \n",
    "    k_t = [0]\n",
    "    c_t = []\n",
    "    y_t = []\n",
    "    #Generate time series variables = the given shock realizations\n",
    "    for t in range(T_g):\n",
    "        c_t.append(c_coeff_k*k_t[t] + c_coeff_s*s_t[t])\n",
    "        y_t.append(s_t[t] + alpha*k_t[t])\n",
    "        k_t.append(b1*k_t[t] + b2*s_t[t] + b3*c_t[t])\n",
    "        \n",
    "    plt.figure(num=None, figsize=(8, 6), dpi=80, facecolor='w', edgecolor='k')\n",
    "    plt.plot(list(range(0, T_g)), s_t, marker='x', markerfacecolor='red', markersize=4, color='red', linewidth=1, label='productivity state')\n",
    "    plt.plot(list(range(0, T_g)), c_t, marker='x', markerfacecolor='blue', markersize=4, color='blue', linewidth=1, label='consumption')\n",
    "    plt.plot(list(range(0, T_g + 1)), k_t, marker='x', markerfacecolor='green', markersize=4, color='green', linewidth=1, label='capital')\n",
    "    plt.plot(list(range(0, T_g)), y_t, marker='x', markerfacecolor='black', markersize=4, color='black', linewidth=1, label='output')\n",
    "\n",
    "    plt.xlabel('Time')\n",
    "    plt.title('productivity state, consumption, capital,output',FontSize = 20)\n",
    "\n",
    "    plt.legend()\n",
    "    plt.show()\n",
    "\n",
    "test = interact(input, delta=fltsld_init(0.1), rho=fltsld_init(0.9), alpha=fltsld_init(0.3), beta=fltsld_init(0.95), T_g=intsld_init(10000, 50), std_v=fltsld_init(0.007), seed_num=intsld_init(1000,0), s_given=text)\n",
    "display(test)"
   ]
  }
 ],
 "metadata": {
  "kernelspec": {
   "display_name": "Python 3",
   "language": "python",
   "name": "python3"
  },
  "language_info": {
   "codemirror_mode": {
    "name": "ipython",
    "version": 3
   },
   "file_extension": ".py",
   "mimetype": "text/x-python",
   "name": "python",
   "nbconvert_exporter": "python",
   "pygments_lexer": "ipython3",
   "version": "3.7.5"
  }
 },
 "nbformat": 4,
 "nbformat_minor": 2
}
