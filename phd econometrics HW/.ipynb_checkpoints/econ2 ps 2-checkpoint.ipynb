{
 "cells": [
  {
   "cell_type": "code",
   "execution_count": 2,
   "metadata": {},
   "outputs": [],
   "source": [
    "import pandas as pd  \n",
    "import numpy as np  \n",
    "import matplotlib.pyplot as plt  \n",
    "import statsmodels.api as sm\n",
    "import scipy.stats as stats\n",
    "import math\n",
    "from math import sqrt\n",
    "import seaborn as sns\n",
    "\n",
    "%matplotlib inline"
   ]
  },
  {
   "cell_type": "code",
   "execution_count": 3,
   "metadata": {},
   "outputs": [],
   "source": [
    "t = 200\n",
    "mean = 0\n",
    "varet = 1\n",
    "repeat = 1000\n",
    "alpha_value = [0.99, 0.95, 0.90, 0.80, 0.70]"
   ]
  },
  {
   "cell_type": "code",
   "execution_count": 1,
   "metadata": {},
   "outputs": [],
   "source": [
    "def monte_carlo(t, mean, varet, repeat, alpha_value):\n",
    "    olslist = []\n",
    "    cilist = []\n",
    "    test = []\n",
    "    for i in range(len(alpha_value)):\n",
    "        alpha = alpha_value[i]\n",
    "        vare0 = 1/(1-alpha**2)\n",
    "\n",
    "        for j in range(repeat):\n",
    "\n",
    "            #(i) sampling\n",
    "#             np.random.seed(j + i * repeat)\n",
    "            e0 = np.random.normal(mean, vare0, 1)\n",
    "            y0 = e0\n",
    "            et = np.random.normal(mean, varet, t)\n",
    "\n",
    "            ylist = []    \n",
    "            for k in range(t):\n",
    "                yt = alpha * y0 + et[k]\n",
    "                ylist.append(y0)\n",
    "                y0 =yt\n",
    "            yt = np.asarray(ylist[ : -1]).reshape(-1, 1)\n",
    "            yt_1 = np.asarray(ylist[ 1 : ]).reshape(-1, 1)\n",
    "\n",
    "            #(ii)regression    \n",
    "            reg = sm.OLS(yt, yt_1).fit()\n",
    "            ahat = reg.params \n",
    "            #(iii)confidence interval\n",
    "#             if (reg.conf_int()[0, 0] < alpha and reg.conf_int()[0, 1] > alpha):\n",
    "            if ((ahat - 1.96 * reg.bse) < alpha and (ahat + 1.96 * reg.bse) > alpha):\n",
    "                inci = 1\n",
    "            else :\n",
    "                inci = 0\n",
    "            bh = ((yt_1 - yt_1.mean())*(yt - yt.mean())).sum()/(((yt_1 - yt_1.mean())**2).sum())\n",
    "\n",
    "            olslist.append(ahat)\n",
    "            cilist.append(inci)\n",
    "            \n",
    "    ahat = np.asarray(olslist).reshape(len(alpha_value), repeat)\n",
    "    inci = np.asarray(cilist).reshape(len(alpha_value), repeat)\n",
    "\n",
    "    \n",
    "    \n",
    "    return ahat, inci\n",
    "\n"
   ]
  },
  {
   "cell_type": "code",
   "execution_count": 81,
   "metadata": {},
   "outputs": [],
   "source": [
    "def est_plot(variable, alpha):\n",
    "    for i in range(len(alpha)):\n",
    "        sns.distplot(variable[i, ], hist = False, kde = True,\n",
    "                 kde_kws = {'shade': True, 'linewidth': 2},\n",
    "                 label = alpha[i])"
   ]
  },
  {
   "cell_type": "code",
   "execution_count": 4,
   "metadata": {},
   "outputs": [],
   "source": [
    "ahat, inci =  monte_carlo(t, mean, varet, repeat, alpha_value)"
   ]
  },
  {
   "cell_type": "code",
   "execution_count": 83,
   "metadata": {},
   "outputs": [
    {
     "data": {
      "text/plain": [
       "<matplotlib.axes._subplots.AxesSubplot at 0x16179680a48>"
      ]
     },
     "execution_count": 83,
     "metadata": {},
     "output_type": "execute_result"
    },
    {
     "data": {
      "image/png": "[encoded data removed]",
      "text/plain": [
       "<Figure size 432x288 with 1 Axes>"
      ]
     },
     "metadata": {
      "needs_background": "light"
     },
     "output_type": "display_data"
    }
   ],
   "source": [
    "sns.distplot(ahat[0, ], hist = False, kde = True,\n",
    "                 kde_kws = {'shade': True, 'linewidth': 2},\n",
    "                 label = 0.99)"
   ]
  },
  {
   "cell_type": "code",
   "execution_count": 5,
   "metadata": {},
   "outputs": [
    {
     "ename": "NameError",
     "evalue": "name 'est_plot' is not defined",
     "output_type": "error",
     "traceback": [
      "\u001b[1;31m---------------------------------------------------------------------------\u001b[0m",
      "\u001b[1;31mNameError\u001b[0m                                 Traceback (most recent call last)",
      "\u001b[1;32m<ipython-input-5-3aaed6656800>\u001b[0m in \u001b[0;36m<module>\u001b[1;34m\u001b[0m\n\u001b[0;32m      1\u001b[0m \u001b[1;31m#ploting ahat for visual checking\u001b[0m\u001b[1;33m\u001b[0m\u001b[1;33m\u001b[0m\u001b[1;33m\u001b[0m\u001b[0m\n\u001b[1;32m----> 2\u001b[1;33m \u001b[0mest_plot\u001b[0m\u001b[1;33m(\u001b[0m\u001b[0mahat\u001b[0m\u001b[1;33m,\u001b[0m \u001b[0malpha_value\u001b[0m\u001b[1;33m)\u001b[0m\u001b[1;33m\u001b[0m\u001b[1;33m\u001b[0m\u001b[0m\n\u001b[0m",
      "\u001b[1;31mNameError\u001b[0m: name 'est_plot' is not defined"
     ]
    }
   ],
   "source": [
    "#ploting ahat for visual checking\n",
    "est_plot(ahat, alpha_value)"
   ]
  },
  {
   "cell_type": "markdown",
   "metadata": {},
   "source": [
    "1(a) in handwritten answer sheet\n",
    "# **ans1(b)**"
   ]
  },
  {
   "cell_type": "code",
   "execution_count": 8,
   "metadata": {},
   "outputs": [
    {
     "name": "stdout",
     "output_type": "stream",
     "text": [
      "alpha = 0.99\n",
      "mean, std, mse = 1.002687, 0.011676, 0.000297\n",
      "alpha = 0.95\n",
      "mean, std, mse = 0.964820, 0.032980, 0.001307\n",
      "alpha = 0.9\n",
      "mean, std, mse = 0.907031, 0.037025, 0.001420\n",
      "alpha = 0.8\n",
      "mean, std, mse = 0.797919, 0.045502, 0.002075\n",
      "alpha = 0.7\n",
      "mean, std, mse = 0.697323, 0.050940, 0.002602\n"
     ]
    }
   ],
   "source": [
    "def property(variable, truepar_list):\n",
    "    for i in range(len(truepar_list)):\n",
    "        truepar = truepar_list[i]\n",
    "        print(\"alpha = \" + str(truepar ) )\n",
    "        mean = variable[i, ].mean()\n",
    "        std = variable[i, ].std()\n",
    "        mse = np.square(variable[i, ] - truepar).sum() / len(variable[i, ])\n",
    "        print(\"mean, std, mse = %f, %f, %f\"% (mean, std, mse) )\n",
    "       \n",
    "property(ahat, alpha_value)"
   ]
  },
  {
   "cell_type": "markdown",
   "metadata": {},
   "source": [
    "# **ans1(c)**"
   ]
  },
  {
   "cell_type": "code",
   "execution_count": 7,
   "metadata": {},
   "outputs": [
    {
     "name": "stdout",
     "output_type": "stream",
     "text": [
      "alpha = 0.99\n",
      "(1.001961798038791, 1.0034116125701933)\n",
      "coverage probabilities = 0.297000\n",
      "alpha = 0.95\n",
      "(0.9627723282552739, 0.9668674623793806)\n",
      "coverage probabilities = 0.693000\n",
      "alpha = 0.9\n",
      "(0.9047320723126044, 0.9093295177194716)\n",
      "coverage probabilities = 0.878000\n",
      "alpha = 0.8\n",
      "(0.7950938932212713, 0.8007439377675271)\n",
      "coverage probabilities = 0.934000\n",
      "alpha = 0.7\n",
      "(0.6941603600531803, 0.7004856415278193)\n",
      "coverage probabilities = 0.942000\n"
     ]
    }
   ],
   "source": [
    "def ci_coverage(variable, alpha, in_judge):\n",
    "    for i in range(len(alpha)):\n",
    "        print(\"alpha = \" + str(alpha[i]) )\n",
    "        ci = sm.stats.DescrStatsW(variable[i, ]).tconfint_mean()\n",
    "        print(ci)\n",
    "        pr = in_judge[i, ].mean()\n",
    "        print(\"coverage probabilities = %f\" %pr)\n",
    "ci_coverage(ahat, alpha_value, inci)"
   ]
  },
  {
   "cell_type": "markdown",
   "metadata": {},
   "source": [
    "# **ans1(d)**\n",
    "\n",
    "Since yt is correlated with its dependent variable yt-1, we know that in small sample it's a biased estimator. However, it's a stationary sequence with uncorrelated error term, which says it's a consistent estimator. Therefore, we can expect it to converge to true parameter as sample increase."
   ]
  },
  {
   "cell_type": "code",
   "execution_count": 89,
   "metadata": {},
   "outputs": [],
   "source": [
    "t = 800\n",
    "ahat, inci =  monte_carlo(t, mean, varet, repeat, alpha_value)"
   ]
  },
  {
   "cell_type": "code",
   "execution_count": 90,
   "metadata": {},
   "outputs": [
    {
     "name": "stdout",
     "output_type": "stream",
     "text": [
      "\n",
      "\n",
      "alpha = 0.99\n",
      "mean, std, mse = 0.999582, 0.008096, 0.000157\n",
      "alpha = 0.95\n",
      "mean, std, mse = 0.956492, 0.015326, 0.000277\n",
      "alpha = 0.9\n",
      "mean, std, mse = 0.902129, 0.016982, 0.000293\n",
      "alpha = 0.8\n",
      "mean, std, mse = 0.799967, 0.021667, 0.000469\n",
      "alpha = 0.7\n",
      "mean, std, mse = 0.699131, 0.025705, 0.000662\n",
      "\n",
      "\n",
      "alpha = 0.99\n",
      "(0.999423302134124, 0.9997406956201439)\n",
      "coverage probabilities = 0.360700\n",
      "alpha = 0.95\n",
      "(0.956191675381302, 0.9567925620450417)\n",
      "coverage probabilities = 0.798000\n",
      "alpha = 0.9\n",
      "(0.901795700710451, 0.9024615151654792)\n",
      "coverage probabilities = 0.919300\n",
      "alpha = 0.8\n",
      "(0.7995423545661147, 0.8003918499580385)\n",
      "coverage probabilities = 0.944600\n",
      "alpha = 0.7\n",
      "(0.6986270102469161, 0.6996348128068632)\n",
      "coverage probabilities = 0.946000\n"
     ]
    },
    {
     "data": {
      "image/png": "[encoded data removed]",
      "text/plain": [
       "<Figure size 432x288 with 1 Axes>"
      ]
     },
     "metadata": {
      "needs_background": "light"
     },
     "output_type": "display_data"
    }
   ],
   "source": [
    "est_plot(ahat, alpha_value)\n",
    "print(\"\\n\")\n",
    "property(ahat, alpha_value)\n",
    "print(\"\\n\")\n",
    "ci_coverage(ahat, alpha_value, inci)"
   ]
  }
 ],
 "metadata": {
  "kernelspec": {
   "display_name": "Python 3",
   "language": "python",
   "name": "python3"
  },
  "language_info": {
   "codemirror_mode": {
    "name": "ipython",
    "version": 3
   },
   "file_extension": ".py",
   "mimetype": "text/x-python",
   "name": "python",
   "nbconvert_exporter": "python",
   "pygments_lexer": "ipython3",
   "version": "3.7.5"
  }
 },
 "nbformat": 4,
 "nbformat_minor": 4
}
