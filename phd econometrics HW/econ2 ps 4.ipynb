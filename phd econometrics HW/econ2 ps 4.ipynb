{
 "cells": [
  {
   "cell_type": "markdown",
   "metadata": {},
   "source": [
    "The following question about GMM estimation where we know\n",
    "\\begin{equation*}\n",
    "\\hat{\\sigma} = \\frac{\\left( 1\\;\\; 2\\frac{1}{n}\\sum_{i=1}^n x_i  \\right) \\hat{\\mathbf{W}} \\left( \\begin{array} \\frac{1}{n}\\sum_{i=1}^n x_i \\\\\\ \\frac{1}{n}\\sum_{i=1}^n x^2_i \\end{array} \\right)}{\\left( 1\\;\\; 2\\frac{1}{n}\\sum_{i=1}^n x_i  \\right) \\hat{ \\mathbf{W}} \\left( \\begin{array}{c} 1 \\\\\\ 2\\frac{1}{n}\\sum_{i=1}^n x_i \\end{array} \\right)}\n",
    "\\end{equation*}\n",
    "and the asymptotic distribution is\n",
    "\\begin{equation*}\n",
    "\\sqrt{n}(\\sigma - \\hat{\\sigma}) \\xrightarrow{d} (0, \\mathbf{(Q'WQ)^{-1} Q'W \\Omega WQ)(Q'WQ)^{-1}})\n",
    "\\end{equation*}\n",
    "with \n",
    "\\begin{equation*}\n",
    "\\Omega = \\left( \\begin{array} \\mathbf{E}[(x-\\sigma)^2] \\;\\; \\mathbf{E}[(x-\\sigma)^3] \\\\\\ \\mathbf{E}[(x-\\sigma)^3] \\;\\; \\mathbf{E}[(x-\\sigma)^4 - \\sigma^{4}] \\end{array} \\right) \n",
    "\\\\\\\n",
    "\\\\\\\n",
    "\\mathbf{Q} = (-1 \\;\\; -2\\mathbf{E}[X])\n",
    "\\end{equation*}\n",
    "Q1. comparing standard error and 95% confidence interval of using identity matrix or optimal weight matrix as W to estimate enclosed dataset.\n",
    "\n",
    "Q2. perform overidentification test and conclude whether the model is correctly specified.\n",
    "\n",
    "\\begin{equation*}\n",
    "\\mathbf{H}_0 : \\left( \\begin{array} \\mathbf{E}[x - \\sigma] \\\\\\ \\mathbf{E}[x^2 - 2x\\sigma] \\end{array} \\right) = \\left( \\begin{array}{c}0  \\\\\\ 0 \\end{array} \\right)\n",
    "\\end{equation*}"
   ]
  },
  {
   "cell_type": "code",
   "execution_count": 156,
   "metadata": {},
   "outputs": [],
   "source": [
    "import math\n",
    "import numpy as np\n",
    "from numpy.linalg import inv\n",
    "from scipy.stats import chi2"
   ]
  },
  {
   "cell_type": "code",
   "execution_count": 103,
   "metadata": {},
   "outputs": [
    {
     "data": {
      "text/plain": [
       "((500,), 1)"
      ]
     },
     "execution_count": 103,
     "metadata": {},
     "output_type": "execute_result"
    }
   ],
   "source": [
    "#load data\n",
    "df = np.loadtxt('6_2.txt')\n",
    "df.shape, df.ndim"
   ]
  },
  {
   "cell_type": "code",
   "execution_count": 115,
   "metadata": {},
   "outputs": [],
   "source": [
    "#define GMM estimator\n",
    "def gmm(x, W):\n",
    "    #generate elements\n",
    "    x_bar = x.mean()\n",
    "    x_squared_bar = np.square(x).mean()\n",
    "    first_matrix = np.matrix([1, 2*x_bar])\n",
    "    second_matrix = np.matrix([x_bar, x_squared_bar]).T\n",
    "    nominator = first_matrix * W * second_matrix\n",
    "    denominator = first_matrix * W * first_matrix.T\n",
    "    #calculate sigma\n",
    "    sigma = nominator / denominator\n",
    "    #calculate omega\n",
    "    x_cent = x-sigma\n",
    "    omega = np.matrix([[np.power(x_cent, 2).mean(), np.power(x_cent, 3).mean()], [np.power(x_cent, 3).mean(), (np.power(x_cent, 4) - sigma**4).mean()]])\n",
    "    #calculate asymptotic variance  \n",
    "    var_n = inv(nominator) * first_matrix * W * omega * W * first_matrix.T * inv(nominator)\n",
    "    #eliminate effect of n^(1/2)\n",
    "    var = var_n / x.shape[0]\n",
    "    return sigma[0, 0], omega, var[0, 0]"
   ]
  },
  {
   "cell_type": "code",
   "execution_count": 116,
   "metadata": {},
   "outputs": [],
   "source": [
    "#pass in idntity matrix\n",
    "sigma_i, omega, var_i = gmm(df, np.identity(2))"
   ]
  },
  {
   "cell_type": "markdown",
   "metadata": {},
   "source": [
    "since optimal weight matrix is $\\Omega ^{-1}$, \n",
    "we pass inversed omega into gmm function to get optimal estimation"
   ]
  },
  {
   "cell_type": "code",
   "execution_count": 118,
   "metadata": {},
   "outputs": [],
   "source": [
    "sigma_o, omega_o, var_o = gmm(df, n(2))"
   ]
  },
  {
   "cell_type": "markdown",
   "metadata": {},
   "source": [
    "## answer to Q1"
   ]
  },
  {
   "cell_type": "code",
   "execution_count": 148,
   "metadata": {},
   "outputs": [],
   "source": [
    "def ci(sigma, var):\n",
    "    std = math.sqrt(var)\n",
    "    ci_l = sigma - 1.96 * std\n",
    "    ci_h = sigma + 1.96 * std\n",
    "    print(f\"mean : {sigma:0.2f}, 95% CI : ({ci_l:.2f}, {ci_h:.2f})\")\n"
   ]
  },
  {
   "cell_type": "code",
   "execution_count": 149,
   "metadata": {},
   "outputs": [
    {
     "name": "stdout",
     "output_type": "stream",
     "text": [
      "identity matrix\n",
      "mean : 1.05, 95% CI : (0.91, 1.20)\n",
      "optimal weight matrix\n",
      "mean : 1.02, 95% CI : (0.93, 1.11)\n"
     ]
    }
   ],
   "source": [
    "print('identity matrix')\n",
    "ci(sigma_i, var_i)\n",
    "print('optimal weight matrix')\n",
    "ci(sigma_o, var_o)"
   ]
  },
  {
   "cell_type": "markdown",
   "metadata": {},
   "source": [
    "## answer to Q2"
   ]
  },
  {
   "cell_type": "code",
   "execution_count": 161,
   "metadata": {},
   "outputs": [
    {
     "name": "stdout",
     "output_type": "stream",
     "text": [
      "J statistic is 0.38\n",
      "the critical value is 3.84\n"
     ]
    }
   ],
   "source": [
    "g_n = np.matrix([df.mean() - sigma_o, np.square(df).mean() - 2*df.mean()*sigma_o])\n",
    "J = df.shape[0] * g_n * inv(omega) * g_n.T\n",
    "print(f'J statistic is {J[0, 0]:0.2f}')\n",
    "#chisquare distribution probability of 95%, IV 2, variable 1, degree of freedom = 2 - 1\n",
    "print(f'the critical value is {chi2.ppf(0.95, 2-1):0.2f}')"
   ]
  },
  {
   "cell_type": "markdown",
   "metadata": {},
   "source": [
    "Since J statistic is smaller than the critical value, We can not reject the null hypothesis at 5% level."
   ]
  }
 ],
 "metadata": {
  "kernelspec": {
   "display_name": "Python 3",
   "language": "python",
   "name": "python3"
  },
  "language_info": {
   "codemirror_mode": {
    "name": "ipython",
    "version": 3
   },
   "file_extension": ".py",
   "mimetype": "text/x-python",
   "name": "python",
   "nbconvert_exporter": "python",
   "pygments_lexer": "ipython3",
   "version": "3.7.6"
  }
 },
 "nbformat": 4,
 "nbformat_minor": 4
}
