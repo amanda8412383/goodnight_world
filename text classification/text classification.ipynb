{
 "cells": [
  {
   "cell_type": "code",
   "execution_count": 202,
   "metadata": {},
   "outputs": [],
   "source": [
    "import pandas as pd\n",
    "import numpy as np\n",
    "import matplotlib.pyplot as plt\n",
    "import nltk\n",
    "import logging\n",
    "\n",
    "\n",
    "import codecs\n",
    "import unidecode\n",
    "import re\n",
    "import spacy\n",
    "nlp = spacy.load('en')\n",
    "\n",
    "#nltk.download('punkt')\n",
    "#nltk.download('stopwords')\n",
    "#from nltk.tokenize import word_tokenize\n",
    "from nltk.tokenize import TweetTokenizer\n",
    "from nltk.corpus import stopwords \n",
    "from nltk.stem.porter import PorterStemmer\n",
    "from autocorrect import spell\n",
    "    \n",
    "from sklearn.model_selection import train_test_split\n",
    "from sklearn.metrics import classification_report\n",
    "from sklearn.metrics import accuracy_score, confusion_matrix    \n",
    "\n",
    "from sklearn.feature_extraction.text import CountVectorizer, TfidfVectorizer\n",
    "from sklearn.pipeline import Pipeline\n",
    "from sklearn.feature_extraction.text import TfidfTransformer\n",
    "\n",
    "from sklearn.naive_bayes import MultinomialNB\n",
    "from sklearn.linear_model import SGDClassifier\n",
    "from sklearn.linear_model import LogisticRegression\n",
    "\n",
    "\n"
   ]
  },
  {
   "cell_type": "markdown",
   "metadata": {},
   "source": [
    "## labels\n",
    "0 - work\n",
    "\n",
    "1 - industry \n",
    "\n",
    "2 - politic\n",
    "\n",
    "3 - life and family\n",
    "\n",
    "4 - charity\n",
    "\n",
    "5 - flaunt wealth\n",
    "\n",
    "6 - sport event or hobbies\n",
    "\n",
    "7 - public activity\n",
    "\n",
    "8 - personal development of the CEO\n",
    "\n",
    "9 - current events and social issues\n",
    "\n",
    "10 - others\n",
    "\n",
    "<br/><br/>\n",
    "## reference\n",
    "### - basic concept : \n",
    "https://www.linkedin.com/pulse/text-classification-using-bag-words-approach-nltk-scikit-rajendran/\n",
    "\n",
    "this post should split data earlier\n",
    "\n",
    "### - model selection: \n",
    "https://realpython.com/python-keras-text-classification/\n",
    "\n",
    "### - the post is mainly followed: \n",
    "https://towardsdatascience.com/multi-class-text-classification-model-comparison-and-selection-5eb066197568\n",
    "\n",
    "### - its imbalance version: \n",
    "https://towardsdatascience.com/multi-class-text-classification-with-scikit-learn-12f1e60e0a9f\n",
    "\n",
    "### - imbalanced data processing using tweet as example\n",
    "https://towardsdatascience.com/yet-another-twitter-sentiment-analysis-part-1-tackling-class-imbalance-4d7a7f717d44\n",
    "\n",
    "### -imbalanced data with kera\n",
    "https://towardsdatascience.com/machine-learning-multiclass-classification-with-imbalanced-data-set-29f6a177c1\n",
    "\n",
    "<br/><br/>\n",
    "## import data"
   ]
  },
  {
   "cell_type": "code",
   "execution_count": 203,
   "metadata": {},
   "outputs": [
    {
     "data": {
      "text/html": [
       "<div>\n",
       "<style scoped>\n",
       "    .dataframe tbody tr th:only-of-type {\n",
       "        vertical-align: middle;\n",
       "    }\n",
       "\n",
       "    .dataframe tbody tr th {\n",
       "        vertical-align: top;\n",
       "    }\n",
       "\n",
       "    .dataframe thead th {\n",
       "        text-align: right;\n",
       "    }\n",
       "</style>\n",
       "<table border=\"1\" class=\"dataframe\">\n",
       "  <thead>\n",
       "    <tr style=\"text-align: right;\">\n",
       "      <th></th>\n",
       "      <th>status_id</th>\n",
       "      <th>label</th>\n",
       "      <th>sub_label</th>\n",
       "      <th>fulltext</th>\n",
       "    </tr>\n",
       "  </thead>\n",
       "  <tbody>\n",
       "    <tr>\n",
       "      <th>0</th>\n",
       "      <td>'935610534489219072</td>\n",
       "      <td>0</td>\n",
       "      <td>NaN</td>\n",
       "      <td>Our #1 best seller, Japanese Cherry Blossom, sells 30.2 million products each year!</td>\n",
       "    </tr>\n",
       "    <tr>\n",
       "      <th>1</th>\n",
       "      <td>'935613720650309632</td>\n",
       "      <td>0</td>\n",
       "      <td>NaN</td>\n",
       "      <td>I  got my start in 1963, when I  used a $5,000 loan from my aunt to open The Limited.</td>\n",
       "    </tr>\n",
       "    <tr>\n",
       "      <th>2</th>\n",
       "      <td>'967109017502851072</td>\n",
       "      <td>6</td>\n",
       "      <td>NaN</td>\n",
       "      <td>Can?? blame a guy for trying #respect @StephenCurry30 https://t.co/gAlWIDVwQJ</td>\n",
       "    </tr>\n",
       "    <tr>\n",
       "      <th>3</th>\n",
       "      <td>'1011457609180667909</td>\n",
       "      <td>6</td>\n",
       "      <td>NaN</td>\n",
       "      <td>Love @TeamLou23 He really earned the sixth man of the year. All @LAClippers fans show him some appreciation!!!  Thanks Lou</td>\n",
       "    </tr>\n",
       "    <tr>\n",
       "      <th>4</th>\n",
       "      <td>'928115711943348224</td>\n",
       "      <td>6</td>\n",
       "      <td>NaN</td>\n",
       "      <td>Want to know what commitment and determination look like? Great @SInow piece on @blakegriffin32 https://t.co/GV7NNHhffT #ItTakesEverything</td>\n",
       "    </tr>\n",
       "  </tbody>\n",
       "</table>\n",
       "</div>"
      ],
      "text/plain": [
       "              status_id label sub_label  \\\n",
       "0  '935610534489219072   0     NaN        \n",
       "1  '935613720650309632   0     NaN        \n",
       "2  '967109017502851072   6     NaN        \n",
       "3  '1011457609180667909  6     NaN        \n",
       "4  '928115711943348224   6     NaN        \n",
       "\n",
       "                                                                                                                                     fulltext  \n",
       "0  Our #1 best seller, Japanese Cherry Blossom, sells 30.2 million products each year!                                                         \n",
       "1  I  got my start in 1963, when I  used a $5,000 loan from my aunt to open The Limited.                                                       \n",
       "2  Can?? blame a guy for trying #respect @StephenCurry30 https://t.co/gAlWIDVwQJ                                                               \n",
       "3  Love @TeamLou23 He really earned the sixth man of the year. All @LAClippers fans show him some appreciation!!!  Thanks Lou                  \n",
       "4  Want to know what commitment and determination look like? Great @SInow piece on @blakegriffin32 https://t.co/GV7NNHhffT #ItTakesEverything  "
      ]
     },
     "execution_count": 203,
     "metadata": {},
     "output_type": "execute_result"
    }
   ],
   "source": [
    "#prestore it as txt to make inread data prettier\n",
    "#change sub label to sub_label\n",
    "dataset = pd.read_csv(r'tweet label2.txt',  engine = \"python\", index_col=False, skiprows = 0, \n",
    "        encoding =\"ISO-8859-1\", na_values = '-', delimiter =',', skipinitialspace=True, quotechar='\"')\n",
    "    \n",
    "dataset.head()"
   ]
  },
  {
   "cell_type": "code",
   "execution_count": 204,
   "metadata": {},
   "outputs": [],
   "source": [
    "#clean wired data cause by csv \n",
    "#delete if label is not number or not null\n",
    "dataset['problem_l'] = ~dataset.label.astype(str).apply(lambda x: x.isnumeric())\n",
    "dataset['problem_s'] = ~dataset.label.isnull() \n",
    "dataset['problem_sub_l'] = ~dataset.sub_label.astype(str).apply(lambda x: x.isnumeric())\n",
    "dataset['problem_sub_s'] = ~dataset.sub_label.isnull() \n",
    "dataset = dataset.drop(dataset[((dataset.problem_l) & (dataset.problem_s)) | ((dataset.problem_sub_l) & (dataset.problem_sub_s)) ].index)"
   ]
  },
  {
   "cell_type": "code",
   "execution_count": 205,
   "metadata": {},
   "outputs": [
    {
     "data": {
      "text/plain": [
       "7     605\n",
       "0     589\n",
       "1     583\n",
       "9     236\n",
       "10    125\n",
       "6     106\n",
       "2     100\n",
       "4     62 \n",
       "3     57 \n",
       "8     26 \n",
       "Name: label, dtype: int64"
      ]
     },
     "execution_count": 205,
     "metadata": {},
     "output_type": "execute_result"
    }
   ],
   "source": [
    "dataset.label.value_counts()"
   ]
  },
  {
   "cell_type": "code",
   "execution_count": 206,
   "metadata": {},
   "outputs": [
    {
     "data": {
      "image/png": "[encoded data removed]",
      "text/plain": [
       "<Figure size 720x288 with 1 Axes>"
      ]
     },
     "metadata": {
      "needs_background": "light"
     },
     "output_type": "display_data"
    }
   ],
   "source": [
    "plt.figure(figsize=(10,4))\n",
    "dataset.label.value_counts().plot(kind='bar');"
   ]
  },
  {
   "cell_type": "code",
   "execution_count": 207,
   "metadata": {},
   "outputs": [
    {
     "data": {
      "image/png": "[encoded data removed]",
      "text/plain": [
       "<Figure size 720x288 with 1 Axes>"
      ]
     },
     "metadata": {
      "needs_background": "light"
     },
     "output_type": "display_data"
    }
   ],
   "source": [
    "plt.figure(figsize=(10,4))\n",
    "dataset.sub_label.value_counts().plot(kind='bar');"
   ]
  },
  {
   "cell_type": "code",
   "execution_count": 208,
   "metadata": {},
   "outputs": [
    {
     "name": "stdout",
     "output_type": "stream",
     "text": [
      "row : 186769\n",
      "words : 3192313\n",
      "<class 'pandas.core.frame.DataFrame'>\n",
      "Int64Index: 186769 entries, 0 to 187276\n",
      "Data columns (total 8 columns):\n",
      "status_id        186706 non-null object\n",
      "label            2489 non-null object\n",
      "sub_label        966 non-null object\n",
      "fulltext         186688 non-null object\n",
      "problem_l        186769 non-null bool\n",
      "problem_s        186769 non-null bool\n",
      "problem_sub_l    186769 non-null bool\n",
      "problem_sub_s    186769 non-null bool\n",
      "dtypes: bool(4), object(4)\n",
      "memory usage: 7.8+ MB\n"
     ]
    }
   ],
   "source": [
    "print('row :', dataset.shape[0])\n",
    "print('words :', dataset['fulltext'].astype(str).apply(lambda x: len(x.split(' '))).sum())\n",
    "dataset.info()"
   ]
  },
  {
   "cell_type": "code",
   "execution_count": 209,
   "metadata": {},
   "outputs": [
    {
     "data": {
      "text/html": [
       "<div>\n",
       "<style scoped>\n",
       "    .dataframe tbody tr th:only-of-type {\n",
       "        vertical-align: middle;\n",
       "    }\n",
       "\n",
       "    .dataframe tbody tr th {\n",
       "        vertical-align: top;\n",
       "    }\n",
       "\n",
       "    .dataframe thead th {\n",
       "        text-align: right;\n",
       "    }\n",
       "</style>\n",
       "<table border=\"1\" class=\"dataframe\">\n",
       "  <thead>\n",
       "    <tr style=\"text-align: right;\">\n",
       "      <th></th>\n",
       "      <th>status_id</th>\n",
       "      <th>fulltext</th>\n",
       "      <th>label</th>\n",
       "      <th>sub_label</th>\n",
       "    </tr>\n",
       "  </thead>\n",
       "  <tbody>\n",
       "    <tr>\n",
       "      <th>0</th>\n",
       "      <td>'935610534489219072</td>\n",
       "      <td>Our #1 best seller, Japanese Cherry Blossom, sells 30.2 million products each year!</td>\n",
       "      <td>0</td>\n",
       "      <td>NaN</td>\n",
       "    </tr>\n",
       "    <tr>\n",
       "      <th>1</th>\n",
       "      <td>'935613720650309632</td>\n",
       "      <td>I  got my start in 1963, when I  used a $5,000 loan from my aunt to open The Limited.</td>\n",
       "      <td>0</td>\n",
       "      <td>NaN</td>\n",
       "    </tr>\n",
       "    <tr>\n",
       "      <th>2</th>\n",
       "      <td>'967109017502851072</td>\n",
       "      <td>Can?? blame a guy for trying #respect @StephenCurry30 https://t.co/gAlWIDVwQJ</td>\n",
       "      <td>6</td>\n",
       "      <td>NaN</td>\n",
       "    </tr>\n",
       "    <tr>\n",
       "      <th>3</th>\n",
       "      <td>'1011457609180667909</td>\n",
       "      <td>Love @TeamLou23 He really earned the sixth man of the year. All @LAClippers fans show him some appreciation!!!  Thanks Lou</td>\n",
       "      <td>6</td>\n",
       "      <td>NaN</td>\n",
       "    </tr>\n",
       "    <tr>\n",
       "      <th>4</th>\n",
       "      <td>'928115711943348224</td>\n",
       "      <td>Want to know what commitment and determination look like? Great @SInow piece on @blakegriffin32 https://t.co/GV7NNHhffT #ItTakesEverything</td>\n",
       "      <td>6</td>\n",
       "      <td>NaN</td>\n",
       "    </tr>\n",
       "  </tbody>\n",
       "</table>\n",
       "</div>"
      ],
      "text/plain": [
       "              status_id  \\\n",
       "0  '935610534489219072    \n",
       "1  '935613720650309632    \n",
       "2  '967109017502851072    \n",
       "3  '1011457609180667909   \n",
       "4  '928115711943348224    \n",
       "\n",
       "                                                                                                                                     fulltext  \\\n",
       "0  Our #1 best seller, Japanese Cherry Blossom, sells 30.2 million products each year!                                                          \n",
       "1  I  got my start in 1963, when I  used a $5,000 loan from my aunt to open The Limited.                                                        \n",
       "2  Can?? blame a guy for trying #respect @StephenCurry30 https://t.co/gAlWIDVwQJ                                                                \n",
       "3  Love @TeamLou23 He really earned the sixth man of the year. All @LAClippers fans show him some appreciation!!!  Thanks Lou                   \n",
       "4  Want to know what commitment and determination look like? Great @SInow piece on @blakegriffin32 https://t.co/GV7NNHhffT #ItTakesEverything   \n",
       "\n",
       "  label sub_label  \n",
       "0  0     NaN       \n",
       "1  0     NaN       \n",
       "2  6     NaN       \n",
       "3  6     NaN       \n",
       "4  6     NaN       "
      ]
     },
     "execution_count": 209,
     "metadata": {},
     "output_type": "execute_result"
    }
   ],
   "source": [
    "text = dataset[['status_id', 'fulltext', 'label', 'sub_label']]\n",
    "text = text[text['status_id'].notnull()]\n",
    "text.head()"
   ]
  },
  {
   "cell_type": "code",
   "execution_count": 16,
   "metadata": {},
   "outputs": [],
   "source": [
    "# text_type = text.astype({\"status_id\":'str', \"fulltext\":'str', \"label\":'float', \"sub_label\":'float'})\n",
    "# text_type.info()"
   ]
  },
  {
   "cell_type": "markdown",
   "metadata": {},
   "source": [
    "## clean the input"
   ]
  },
  {
   "cell_type": "code",
   "execution_count": 210,
   "metadata": {},
   "outputs": [],
   "source": [
    "contraction_mapping = {\"ain't\": \"is not\", \"aren't\": \"are not\",\"can't\": \"cannot\", \n",
    "                   \"can't've\": \"cannot have\", \"'cause\": \"because\", \"could've\": \"could have\", \n",
    "                   \"couldn't\": \"could not\", \"couldn't've\": \"could not have\",\"didn't\": \"did not\", \n",
    "                   \"doesn't\": \"does not\", \"don't\": \"do not\", \"hadn't\": \"had not\", \n",
    "                   \"hadn't've\": \"had not have\", \"hasn't\": \"has not\", \"haven't\": \"have not\", \n",
    "                   \"he'd\": \"he would\", \"he'd've\": \"he would have\", \"he'll\": \"he will\", \n",
    "                   \"he'll've\": \"he will have\", \"he's\": \"he is\", \"how'd\": \"how did\", \n",
    "                   \"how'd'y\": \"how do you\", \"how'll\": \"how will\", \"how's\": \"how is\", \n",
    "                   \"I'd\": \"I would\", \"I'd've\": \"I would have\", \"I'll\": \"I will\", \n",
    "                   \"I'll've\": \"I will have\",\"I'm\": \"I am\", \"I've\": \"I have\", \n",
    "                   \"i'd\": \"i would\", \"i'd've\": \"i would have\", \"i'll\": \"i will\", \n",
    "                   \"i'll've\": \"i will have\",\"i'm\": \"i am\", \"i've\": \"i have\", \n",
    "                   \"isn't\": \"is not\", \"it'd\": \"it would\", \"it'd've\": \"it would have\", \n",
    "                   \"it'll\": \"it will\", \"it'll've\": \"it will have\",\"it's\": \"it is\", \n",
    "                   \"let's\": \"let us\", \"ma'am\": \"madam\", \"mayn't\": \"may not\", \n",
    "                   \"might've\": \"might have\",\"mightn't\": \"might not\",\"mightn't've\": \"might not have\", \n",
    "                   \"must've\": \"must have\", \"mustn't\": \"must not\", \"mustn't've\": \"must not have\", \n",
    "                   \"needn't\": \"need not\", \"needn't've\": \"need not have\",\"o'clock\": \"of the clock\", \n",
    "                   \"oughtn't\": \"ought not\", \"oughtn't've\": \"ought not have\", \"shan't\": \"shall not\",\n",
    "                   \"sha'n't\": \"shall not\", \"shan't've\": \"shall not have\", \"she'd\": \"she would\", \n",
    "                   \"she'd've\": \"she would have\", \"she'll\": \"she will\", \"she'll've\": \"she will have\", \n",
    "                   \"she's\": \"she is\", \"should've\": \"should have\", \"shouldn't\": \"should not\", \n",
    "                   \"shouldn't've\": \"should not have\", \"so've\": \"so have\",\"so's\": \"so as\", \n",
    "                   \"this's\": \"this is\",\n",
    "                   \"that'd\": \"that would\", \"that'd've\": \"that would have\",\"that's\": \"that is\", \n",
    "                   \"there'd\": \"there would\", \"there'd've\": \"there would have\",\"there's\": \"there is\", \n",
    "                       \"here's\": \"here is\",\n",
    "                   \"they'd\": \"they would\", \"they'd've\": \"they would have\", \"they'll\": \"they will\", \n",
    "                   \"they'll've\": \"they will have\", \"they're\": \"they are\", \"they've\": \"they have\", \n",
    "                   \"to've\": \"to have\", \"wasn't\": \"was not\", \"we'd\": \"we would\", \n",
    "                   \"we'd've\": \"we would have\", \"we'll\": \"we will\", \"we'll've\": \"we will have\", \n",
    "                   \"we're\": \"we are\", \"we've\": \"we have\", \"weren't\": \"were not\", \n",
    "                   \"what'll\": \"what will\", \"what'll've\": \"what will have\", \"what're\": \"what are\", \n",
    "                   \"what's\": \"what is\", \"what've\": \"what have\", \"when's\": \"when is\", \n",
    "                   \"when've\": \"when have\", \"where'd\": \"where did\", \"where's\": \"where is\", \n",
    "                   \"where've\": \"where have\", \"who'll\": \"who will\", \"who'll've\": \"who will have\", \n",
    "                   \"who's\": \"who is\", \"who've\": \"who have\", \"why's\": \"why is\", \n",
    "                   \"why've\": \"why have\", \"will've\": \"will have\", \"won't\": \"will not\", \n",
    "                   \"won't've\": \"will not have\", \"would've\": \"would have\", \"wouldn't\": \"would not\", \n",
    "                   \"wouldn't've\": \"would not have\", \"y'all\": \"you all\", \"y'all'd\": \"you all would\",\n",
    "                   \"y'all'd've\": \"you all would have\",\"y'all're\": \"you all are\",\"y'all've\": \"you all have\",\n",
    "                   \"you'd\": \"you would\", \"you'd've\": \"you would have\", \"you'll\": \"you will\", \n",
    "                   \"you'll've\": \"you will have\", \"you're\": \"you are\", \"you've\": \"you have\" }"
   ]
  },
  {
   "cell_type": "code",
   "execution_count": 211,
   "metadata": {},
   "outputs": [
    {
     "name": "stderr",
     "output_type": "stream",
     "text": [
      "c:\\users\\amand\\appdata\\local\\programs\\python\\python36\\lib\\site-packages\\ipykernel_launcher.py:8: DeprecationWarning: invalid escape sequence '\\s'\n",
      "  \n",
      "c:\\users\\amand\\appdata\\local\\programs\\python\\python36\\lib\\site-packages\\ipykernel_launcher.py:8: DeprecationWarning: invalid escape sequence '\\c'\n",
      "  \n",
      "c:\\users\\amand\\appdata\\local\\programs\\python\\python36\\lib\\site-packages\\ipykernel_launcher.py:8: DeprecationWarning: invalid escape sequence '\\ '\n",
      "  \n",
      "c:\\users\\amand\\appdata\\local\\programs\\python\\python36\\lib\\site-packages\\ipykernel_launcher.py:8: DeprecationWarning: invalid escape sequence '\\d'\n",
      "  \n",
      "c:\\users\\amand\\appdata\\local\\programs\\python\\python36\\lib\\site-packages\\ipykernel_launcher.py:8: DeprecationWarning: invalid escape sequence '\\e'\n",
      "  \n",
      "c:\\users\\amand\\appdata\\local\\programs\\python\\python36\\lib\\site-packages\\ipykernel_launcher.py:8: DeprecationWarning: invalid escape sequence '\\('\n",
      "  \n",
      "c:\\users\\amand\\appdata\\local\\programs\\python\\python36\\lib\\site-packages\\ipykernel_launcher.py:8: DeprecationWarning: invalid escape sequence '\\o'\n",
      "  \n",
      "c:\\users\\amand\\appdata\\local\\programs\\python\\python36\\lib\\site-packages\\ipykernel_launcher.py:8: DeprecationWarning: invalid escape sequence '\\_'\n",
      "  \n"
     ]
    }
   ],
   "source": [
    "STOPWORDS = set(stopwords.words('english'))\n",
    "\n",
    "def spacy_cleaner(text):\n",
    "    #lower case\n",
    "    text = text.lower()\n",
    "    #unicode_escape for extra \"\\\" before unicode character, then unidecode\n",
    "    try:\n",
    "        decoded = unidecode.unidecode(codecs.decode(text, 'unicode_escape'))\n",
    "    except:\n",
    "        decoded = unidecode.unidecode(text)\n",
    "    #there are apostrophe and singlequote people use for contraction. any apostrophe) is changed to single quote\n",
    "    apostrophe_handled = re.sub(\"’\", \"'\", decoded)\n",
    "    #Contraction check\n",
    "    expanded = ' '.join([contraction_mapping[t] if t in contraction_mapping else t for t in apostrophe_handled.split(\" \")])\n",
    "    parsed = nlp(expanded)\n",
    "    final_tokens = []\n",
    "    for t in parsed:\n",
    "        #Filtering punctuation, white space, numbers, URL using Spacy methods while keeping the text content of hashtag intact\n",
    "        #Removed @mention\n",
    "        if t.is_punct or t.is_space or t.like_num or t.like_url or str(t).startswith('@'):            \n",
    "            pass\n",
    "        else:\n",
    "            #Pronouns are kept as they are since Spacy lemmatizer transforms every pronoun to \"-PRON-\"\n",
    "            if t.lemma_ == '-PRON-':\n",
    "                final_tokens.append(str(t))\n",
    "            else:\n",
    "                #Lemmatize: lemmatized each token using Spacy method '.lemma_'.\n",
    "                #Special character removal\n",
    "                sc_removed = re.sub(\"[^a-zA-Z]\", '', str(t.lemma_))\n",
    "                #Single syllable token removal\n",
    "                if len(sc_removed) > 1:\n",
    "                    final_tokens.append(sc_removed)\n",
    "    \"\"\"joined = ' '.join(PorterStemmer().stem(spell(word)) for word in final_tokens if word not in STOPWORDS) \"\"\" \n",
    "    # delete stopwors from text,  finding the base word, auto correct\n",
    "    joined = ' '.join(final_tokens)\n",
    "    #it is a simple spell correction, if the same character is repeated more than two times, it shortens the repetition to two\n",
    "    spell_corrected = re.sub(r'(.)\\1+', r'\\1\\1', joined)\n",
    "    return spell_corrected\n",
    "\n",
    "\n",
    "text['cleantext'] = text['fulltext'].astype(str).apply(spacy_cleaner)"
   ]
  },
  {
   "cell_type": "code",
   "execution_count": 212,
   "metadata": {
    "scrolled": true
   },
   "outputs": [
    {
     "name": "stdout",
     "output_type": "stream",
     "text": [
      "2734623\n"
     ]
    },
    {
     "data": {
      "text/plain": [
       "0    our good seller japanese cherry blossom sell product each year                            \n",
       "1    get my start in when use loan from my aunt to open the limited                            \n",
       "2    can blame guy for try respect                                                             \n",
       "3    love he really earn the sixth man of the year all fan show him some appreciation thank lou\n",
       "4    want to know what commitment and determination look like great piece on ittakeseverything \n",
       "Name: cleantext, dtype: object"
      ]
     },
     "execution_count": 212,
     "metadata": {},
     "output_type": "execute_result"
    }
   ],
   "source": [
    "pd.set_option('display.max_colwidth', -1)\n",
    "#\n",
    "print(text['cleantext'].apply(lambda x: len(x.split(' '))).sum())\n",
    "text['cleantext'].head() "
   ]
  },
  {
   "cell_type": "code",
   "execution_count": 213,
   "metadata": {
    "scrolled": true
   },
   "outputs": [
    {
     "name": "stdout",
     "output_type": "stream",
     "text": [
      "              status_id  \\\n",
      "0  '935610534489219072    \n",
      "1  '935613720650309632    \n",
      "2  '967109017502851072    \n",
      "3  '1011457609180667909   \n",
      "4  '928115711943348224    \n",
      "\n",
      "                                                                                                                                     fulltext  \\\n",
      "0  Our #1 best seller, Japanese Cherry Blossom, sells 30.2 million products each year!                                                          \n",
      "1  I  got my start in 1963, when I  used a $5,000 loan from my aunt to open The Limited.                                                        \n",
      "2  Can?? blame a guy for trying #respect @StephenCurry30 https://t.co/gAlWIDVwQJ                                                                \n",
      "3  Love @TeamLou23 He really earned the sixth man of the year. All @LAClippers fans show him some appreciation!!!  Thanks Lou                   \n",
      "4  Want to know what commitment and determination look like? Great @SInow piece on @blakegriffin32 https://t.co/GV7NNHhffT #ItTakesEverything   \n",
      "\n",
      "  label sub_label  \\\n",
      "0  0     NaN        \n",
      "1  0     NaN        \n",
      "2  6     NaN        \n",
      "3  6     NaN        \n",
      "4  6     NaN        \n",
      "\n",
      "                                                                                    cleantext  \n",
      "0  our good seller japanese cherry blossom sell product each year                              \n",
      "1  get my start in when use loan from my aunt to open the limited                              \n",
      "2  can blame guy for try respect                                                               \n",
      "3  love he really earn the sixth man of the year all fan show him some appreciation thank lou  \n",
      "4  want to know what commitment and determination look like great piece on ittakeseverything   \n",
      "<class 'pandas.core.frame.DataFrame'>\n",
      "Int64Index: 2489 entries, 0 to 2498\n",
      "Data columns (total 5 columns):\n",
      "status_id    2489 non-null object\n",
      "fulltext     2487 non-null object\n",
      "label        2489 non-null object\n",
      "sub_label    966 non-null object\n",
      "cleantext    2489 non-null object\n",
      "dtypes: object(5)\n",
      "memory usage: 116.7+ KB\n"
     ]
    }
   ],
   "source": [
    "df = text[text['label'].notnull()]\n",
    "print(df.head())\n",
    "df.info()"
   ]
  },
  {
   "cell_type": "code",
   "execution_count": 214,
   "metadata": {},
   "outputs": [
    {
     "name": "stdout",
     "output_type": "stream",
     "text": [
      "                 status_id  \\\n",
      "901   '1121480618867666950   \n",
      "1356  '704360252368506880    \n",
      "1367  '279689055862669312    \n",
      "1775  '695432140700282886    \n",
      "2387  '1078292356636397569   \n",
      "\n",
      "                                                                                                                                                                 fulltext  \\\n",
      "901   Blast from the past!?\\n?\\nOver 30 years ago to be exact!\\n?\\nI guess I had not learned how to use lower case letters at that point ?????????https://t.co/JPXo6TuN4M   \n",
      "1356  Student-centered learning yields better education outcomes https://t.co/e2fHOBk7vo                                                                                    \n",
      "1367  From our great customer event at Dell World this week at Darrell K Royal ??Texas Memorial Stadium http://t.co/jqb6vsob                                                \n",
      "1775  See you at https://t.co/OXdGxkRlVE! :) https://t.co/YsADlWDkF5                                                                                                        \n",
      "2387  ??                                                                                                                                                                    \n",
      "\n",
      "     label sub_label  \\\n",
      "901   NaN   NaN        \n",
      "1356  NaN   NaN        \n",
      "1367  NaN   NaN        \n",
      "1775  NaN   NaN        \n",
      "2387  NaN   NaN        \n",
      "\n",
      "                                                                                                        cleantext  \n",
      "901   blast from the past over year ago to be exact guess have not learn how to use low case letter at that point  \n",
      "1356  student center learning yield well education outcome                                                         \n",
      "1367  from our great customer event at dell world this week at darrell royal texas memorial stadium                \n",
      "1775  see you at                                                                                                   \n",
      "2387                                                                                                               \n",
      "<class 'pandas.core.frame.DataFrame'>\n",
      "Int64Index: 184217 entries, 901 to 187276\n",
      "Data columns (total 5 columns):\n",
      "status_id    184217 non-null object\n",
      "fulltext     184201 non-null object\n",
      "label        0 non-null object\n",
      "sub_label    0 non-null object\n",
      "cleantext    184217 non-null object\n",
      "dtypes: object(5)\n",
      "memory usage: 8.4+ MB\n"
     ]
    }
   ],
   "source": [
    "## unlabeled data that need to be predicted\n",
    "df_test = text[text['label'].isnull()]\n",
    "print(df_test.head())\n",
    "df_test.info()"
   ]
  },
  {
   "cell_type": "markdown",
   "metadata": {},
   "source": [
    "## try ordinary approach on imbalanced data \n",
    "<br/><br/>\n",
    "### result explaination\n",
    "#### - Accuracy\n",
    "Classification accuracy is our starting point. It is the number of correct predictions made divided by the total number of predictions made, multiplied by 100 to turn it into a percentage.\n",
    "\n",
    "#### -Precision\n",
    "Precision is the number of True Positives divided by the number of True Positives and False Positives. Put another way, it is the number of positive predictions divided by the total number of positive class values predicted. It is also called the Positive Predictive Value (PPV).\n",
    "Precision can be thought of as a measure of a classifiers exactness. A low precision can also indicate a large number of False Positives.\n",
    "\n",
    "#### - Recall\n",
    "Recall is the number of True Positives divided by the number of True Positives and the number of False Negatives. Put another way it is the number of positive predictions divided by the number of positive class values in the test data. It is also called Sensitivity or the True Positive Rate.\n",
    "Recall can be thought of as a measure of a classifiers completeness. A low recall indicates many False Negatives.\n",
    "\n",
    "#### - F1 score\n",
    "F1 = 2 * (precision * recall) / (precision + recall)\n",
    "The F1 score can be interpreted as a weighted average of the precision and recall, where an F1 score reaches its best value at 1 and worst score at 0. The relative contribution of precision and recall to the F1 score are equal.\n",
    "In the multi-class and multi-label case, this is the average of the F1 score of each class with weighting depending on the average parameter.\n",
    "\n",
    "#### Sourxe\n",
    "https://machinelearningmastery.com/classification-accuracy-is-not-enough-more-performance-measures-you-can-use/\n",
    "https://scikit-learn.org/stable/modules/generated/sklearn.metrics.f1_score.html\n",
    "\n",
    "<br/><br/>\n",
    "\n",
    "### sklearn.feature_extraction.text.TfidfVectorizer \n",
    "#### parameter\n",
    "- sublinear_df is set to True to use a logarithmic form for frequency.\n",
    "- min_df is the minimum numbers of documents a word must be present in to be kept.\n",
    "- norm is set to l2, to ensure all our feature vectors have a euclidian norm of 1.\n",
    "\n",
    "norm：一般譯成範數\n",
    "\n",
    "(norm 有規範的意思，也就是加上規範使其正常化)，建議把 Norm 想成長度就好 (事實上norm是長度的抽象推廣)\n",
    "\n",
    "https://ch-hsieh.blogspot.com/2010/04/norm.html\n",
    "\n",
    "- ngram_range is set to (1, 2) to indicate that we want to consider both unigrams and bigrams.\n",
    "\n",
    "n-gram is basically set of occurring words within given window \n",
    "\n",
    "https://stackoverflow.com/questions/43463792/what-is-the-difference-between-bigram-and-unigram-text-features-extract\n",
    "- stop_words can be set to \"english\" to remove all common pronouns (\"a\", \"the\", ...) to reduce the number of noisy features.\n",
    "\n",
    "<br/><br/>\n",
    "\n",
    "\n",
    "### parameter for precision_score\n",
    "- 'macro': Calculate metrics for each label, and find their unweighted mean. This does not take label imbalance into account.\n",
    "\n",
    "https://scikit-learn.org/stable/modules/generated/sklearn.metrics.precision_score.html\n"
   ]
  },
  {
   "cell_type": "code",
   "execution_count": 215,
   "metadata": {},
   "outputs": [],
   "source": [
    "# setting variable for n fold and average method\n",
    "split = 5\n",
    "avg_method = 'macro'"
   ]
  },
  {
   "cell_type": "code",
   "execution_count": 216,
   "metadata": {},
   "outputs": [],
   "source": [
    "#def result printintg function\n",
    "from sklearn.model_selection import StratifiedKFold\n",
    "from sklearn.metrics import precision_score, recall_score, f1_score\n",
    "\n",
    "def lr_cv(splits, X, Y, pipeline, average_method):\n",
    "    \n",
    "    kfold = StratifiedKFold(n_splits=splits, shuffle=True, random_state=777)\n",
    "    accuracy = []\n",
    "    precision = []\n",
    "    recall = []\n",
    "    f1 = []\n",
    "    for train, test in kfold.split(X, Y):\n",
    "        lr_fit = pipeline.fit(X[train], Y[train])\n",
    "        prediction = lr_fit.predict(X[test])\n",
    "        scores = lr_fit.score(X[test],Y[test])\n",
    "\n",
    "        print('accuracy %s' % accuracy_score(prediction, Y[test]))\n",
    "        print(classification_report(Y[test], prediction))\n",
    "\n",
    "        accuracy.append(scores * 100)\n",
    "        precision.append(precision_score(Y[test], prediction, average=average_method)*100)\n",
    "        recall.append(recall_score(Y[test], prediction, average=average_method)*100)\n",
    "        f1.append(f1_score(Y[test], prediction, average=average_method)*100)\n",
    "        print('-'*50)\n",
    "\n",
    "    print(\"accuracy: %.2f%% (+/- %.2f%%)\" % (np.mean(accuracy), np.std(accuracy)))\n",
    "    print(\"precision: %.2f%% (+/- %.2f%%)\" % (np.mean(precision), np.std(precision)))\n",
    "    print(\"recall: %.2f%% (+/- %.2f%%)\" % (np.mean(recall), np.std(recall)))\n",
    "    print(\"f1 score: %.2f%% (+/- %.2f%%)\" % (np.mean(f1), np.std(f1)))"
   ]
  },
  {
   "cell_type": "code",
   "execution_count": 217,
   "metadata": {},
   "outputs": [],
   "source": [
    "tvec = TfidfVectorizer(stop_words=None, max_features=100000, ngram_range=(1, 3))\n",
    "lr = LogisticRegression()"
   ]
  },
  {
   "cell_type": "code",
   "execution_count": 218,
   "metadata": {},
   "outputs": [
    {
     "name": "stderr",
     "output_type": "stream",
     "text": [
      "c:\\users\\amand\\appdata\\local\\programs\\python\\python36\\lib\\site-packages\\sklearn\\linear_model\\logistic.py:432: FutureWarning: Default solver will be changed to 'lbfgs' in 0.22. Specify a solver to silence this warning.\n",
      "  FutureWarning)\n",
      "c:\\users\\amand\\appdata\\local\\programs\\python\\python36\\lib\\site-packages\\sklearn\\linear_model\\logistic.py:469: FutureWarning: Default multi_class will be changed to 'auto' in 0.22. Specify the multi_class option to silence this warning.\n",
      "  \"this warning.\", FutureWarning)\n"
     ]
    },
    {
     "name": "stdout",
     "output_type": "stream",
     "text": [
      "accuracy 0.4760956175298805\n"
     ]
    },
    {
     "name": "stderr",
     "output_type": "stream",
     "text": [
      "c:\\users\\amand\\appdata\\local\\programs\\python\\python36\\lib\\site-packages\\sklearn\\metrics\\classification.py:1437: UndefinedMetricWarning: Precision and F-score are ill-defined and being set to 0.0 in labels with no predicted samples.\n",
      "  'precision', 'predicted', average, warn_for)\n"
     ]
    },
    {
     "name": "stdout",
     "output_type": "stream",
     "text": [
      "              precision    recall  f1-score   support\n",
      "\n",
      "           0       0.56      0.67      0.61       118\n",
      "           1       0.42      0.51      0.46       117\n",
      "          10       0.67      0.16      0.26        25\n",
      "           2       0.00      0.00      0.00        20\n",
      "           3       0.00      0.00      0.00        12\n",
      "           4       1.00      0.15      0.27        13\n",
      "           6       0.00      0.00      0.00        22\n",
      "           7       0.45      0.77      0.57       121\n",
      "           8       0.00      0.00      0.00         6\n",
      "           9       1.00      0.02      0.04        48\n",
      "\n",
      "    accuracy                           0.48       502\n",
      "   macro avg       0.41      0.23      0.22       502\n",
      "weighted avg       0.49      0.48      0.41       502\n",
      "\n"
     ]
    },
    {
     "name": "stderr",
     "output_type": "stream",
     "text": [
      "c:\\users\\amand\\appdata\\local\\programs\\python\\python36\\lib\\site-packages\\sklearn\\metrics\\classification.py:1437: UndefinedMetricWarning: Precision is ill-defined and being set to 0.0 in labels with no predicted samples.\n",
      "  'precision', 'predicted', average, warn_for)\n",
      "c:\\users\\amand\\appdata\\local\\programs\\python\\python36\\lib\\site-packages\\sklearn\\metrics\\classification.py:1437: UndefinedMetricWarning: F-score is ill-defined and being set to 0.0 in labels with no predicted samples.\n",
      "  'precision', 'predicted', average, warn_for)\n"
     ]
    },
    {
     "name": "stdout",
     "output_type": "stream",
     "text": [
      "--------------------------------------------------\n"
     ]
    },
    {
     "name": "stderr",
     "output_type": "stream",
     "text": [
      "c:\\users\\amand\\appdata\\local\\programs\\python\\python36\\lib\\site-packages\\sklearn\\linear_model\\logistic.py:432: FutureWarning: Default solver will be changed to 'lbfgs' in 0.22. Specify a solver to silence this warning.\n",
      "  FutureWarning)\n",
      "c:\\users\\amand\\appdata\\local\\programs\\python\\python36\\lib\\site-packages\\sklearn\\linear_model\\logistic.py:469: FutureWarning: Default multi_class will be changed to 'auto' in 0.22. Specify the multi_class option to silence this warning.\n",
      "  \"this warning.\", FutureWarning)\n"
     ]
    },
    {
     "name": "stdout",
     "output_type": "stream",
     "text": [
      "accuracy 0.47695390781563124\n"
     ]
    },
    {
     "name": "stderr",
     "output_type": "stream",
     "text": [
      "c:\\users\\amand\\appdata\\local\\programs\\python\\python36\\lib\\site-packages\\sklearn\\metrics\\classification.py:1437: UndefinedMetricWarning: Precision and F-score are ill-defined and being set to 0.0 in labels with no predicted samples.\n",
      "  'precision', 'predicted', average, warn_for)\n"
     ]
    },
    {
     "name": "stdout",
     "output_type": "stream",
     "text": [
      "              precision    recall  f1-score   support\n",
      "\n",
      "           0       0.56      0.62      0.59       118\n",
      "           1       0.42      0.53      0.47       117\n",
      "          10       1.00      0.04      0.08        25\n",
      "           2       0.00      0.00      0.00        20\n",
      "           3       0.00      0.00      0.00        12\n",
      "           4       1.00      0.23      0.38        13\n",
      "           6       0.00      0.00      0.00        21\n",
      "           7       0.46      0.82      0.59       121\n",
      "           8       0.00      0.00      0.00         5\n",
      "           9       0.00      0.00      0.00        47\n",
      "\n",
      "    accuracy                           0.48       499\n",
      "   macro avg       0.34      0.22      0.21       499\n",
      "weighted avg       0.42      0.48      0.40       499\n",
      "\n"
     ]
    },
    {
     "name": "stderr",
     "output_type": "stream",
     "text": [
      "c:\\users\\amand\\appdata\\local\\programs\\python\\python36\\lib\\site-packages\\sklearn\\metrics\\classification.py:1437: UndefinedMetricWarning: Precision is ill-defined and being set to 0.0 in labels with no predicted samples.\n",
      "  'precision', 'predicted', average, warn_for)\n",
      "c:\\users\\amand\\appdata\\local\\programs\\python\\python36\\lib\\site-packages\\sklearn\\metrics\\classification.py:1437: UndefinedMetricWarning: F-score is ill-defined and being set to 0.0 in labels with no predicted samples.\n",
      "  'precision', 'predicted', average, warn_for)\n"
     ]
    },
    {
     "name": "stdout",
     "output_type": "stream",
     "text": [
      "--------------------------------------------------\n"
     ]
    },
    {
     "name": "stderr",
     "output_type": "stream",
     "text": [
      "c:\\users\\amand\\appdata\\local\\programs\\python\\python36\\lib\\site-packages\\sklearn\\linear_model\\logistic.py:432: FutureWarning: Default solver will be changed to 'lbfgs' in 0.22. Specify a solver to silence this warning.\n",
      "  FutureWarning)\n",
      "c:\\users\\amand\\appdata\\local\\programs\\python\\python36\\lib\\site-packages\\sklearn\\linear_model\\logistic.py:469: FutureWarning: Default multi_class will be changed to 'auto' in 0.22. Specify the multi_class option to silence this warning.\n",
      "  \"this warning.\", FutureWarning)\n"
     ]
    },
    {
     "name": "stdout",
     "output_type": "stream",
     "text": [
      "accuracy 0.45875251509054327\n"
     ]
    },
    {
     "name": "stderr",
     "output_type": "stream",
     "text": [
      "c:\\users\\amand\\appdata\\local\\programs\\python\\python36\\lib\\site-packages\\sklearn\\metrics\\classification.py:1437: UndefinedMetricWarning: Precision and F-score are ill-defined and being set to 0.0 in labels with no predicted samples.\n",
      "  'precision', 'predicted', average, warn_for)\n"
     ]
    },
    {
     "name": "stdout",
     "output_type": "stream",
     "text": [
      "              precision    recall  f1-score   support\n",
      "\n",
      "           0       0.55      0.59      0.57       118\n",
      "           1       0.38      0.46      0.42       117\n",
      "          10       0.17      0.04      0.06        25\n",
      "           2       0.00      0.00      0.00        20\n",
      "           3       0.00      0.00      0.00        11\n",
      "           4       0.50      0.08      0.14        12\n",
      "           6       0.00      0.00      0.00        21\n",
      "           7       0.46      0.84      0.60       121\n",
      "           8       0.00      0.00      0.00         5\n",
      "           9       0.00      0.00      0.00        47\n",
      "\n",
      "    accuracy                           0.46       497\n",
      "   macro avg       0.21      0.20      0.18       497\n",
      "weighted avg       0.35      0.46      0.39       497\n",
      "\n"
     ]
    },
    {
     "name": "stderr",
     "output_type": "stream",
     "text": [
      "c:\\users\\amand\\appdata\\local\\programs\\python\\python36\\lib\\site-packages\\sklearn\\metrics\\classification.py:1437: UndefinedMetricWarning: Precision is ill-defined and being set to 0.0 in labels with no predicted samples.\n",
      "  'precision', 'predicted', average, warn_for)\n",
      "c:\\users\\amand\\appdata\\local\\programs\\python\\python36\\lib\\site-packages\\sklearn\\metrics\\classification.py:1437: UndefinedMetricWarning: F-score is ill-defined and being set to 0.0 in labels with no predicted samples.\n",
      "  'precision', 'predicted', average, warn_for)\n"
     ]
    },
    {
     "name": "stdout",
     "output_type": "stream",
     "text": [
      "--------------------------------------------------\n"
     ]
    },
    {
     "name": "stderr",
     "output_type": "stream",
     "text": [
      "c:\\users\\amand\\appdata\\local\\programs\\python\\python36\\lib\\site-packages\\sklearn\\linear_model\\logistic.py:432: FutureWarning: Default solver will be changed to 'lbfgs' in 0.22. Specify a solver to silence this warning.\n",
      "  FutureWarning)\n",
      "c:\\users\\amand\\appdata\\local\\programs\\python\\python36\\lib\\site-packages\\sklearn\\linear_model\\logistic.py:469: FutureWarning: Default multi_class will be changed to 'auto' in 0.22. Specify the multi_class option to silence this warning.\n",
      "  \"this warning.\", FutureWarning)\n"
     ]
    },
    {
     "name": "stdout",
     "output_type": "stream",
     "text": [
      "accuracy 0.4596774193548387\n"
     ]
    },
    {
     "name": "stderr",
     "output_type": "stream",
     "text": [
      "c:\\users\\amand\\appdata\\local\\programs\\python\\python36\\lib\\site-packages\\sklearn\\metrics\\classification.py:1437: UndefinedMetricWarning: Precision and F-score are ill-defined and being set to 0.0 in labels with no predicted samples.\n",
      "  'precision', 'predicted', average, warn_for)\n"
     ]
    },
    {
     "name": "stdout",
     "output_type": "stream",
     "text": [
      "              precision    recall  f1-score   support\n",
      "\n",
      "           0       0.55      0.65      0.60       118\n",
      "           1       0.44      0.47      0.45       116\n",
      "          10       0.33      0.08      0.13        25\n",
      "           2       0.00      0.00      0.00        20\n",
      "           3       0.00      0.00      0.00        11\n",
      "           4       1.00      0.17      0.29        12\n",
      "           6       0.00      0.00      0.00        21\n",
      "           7       0.41      0.76      0.54       121\n",
      "           8       0.00      0.00      0.00         5\n",
      "           9       0.00      0.00      0.00        47\n",
      "\n",
      "    accuracy                           0.46       496\n",
      "   macro avg       0.27      0.21      0.20       496\n",
      "weighted avg       0.38      0.46      0.39       496\n",
      "\n"
     ]
    },
    {
     "name": "stderr",
     "output_type": "stream",
     "text": [
      "c:\\users\\amand\\appdata\\local\\programs\\python\\python36\\lib\\site-packages\\sklearn\\metrics\\classification.py:1437: UndefinedMetricWarning: Precision is ill-defined and being set to 0.0 in labels with no predicted samples.\n",
      "  'precision', 'predicted', average, warn_for)\n",
      "c:\\users\\amand\\appdata\\local\\programs\\python\\python36\\lib\\site-packages\\sklearn\\metrics\\classification.py:1437: UndefinedMetricWarning: F-score is ill-defined and being set to 0.0 in labels with no predicted samples.\n",
      "  'precision', 'predicted', average, warn_for)\n"
     ]
    },
    {
     "name": "stdout",
     "output_type": "stream",
     "text": [
      "--------------------------------------------------\n"
     ]
    },
    {
     "name": "stderr",
     "output_type": "stream",
     "text": [
      "c:\\users\\amand\\appdata\\local\\programs\\python\\python36\\lib\\site-packages\\sklearn\\linear_model\\logistic.py:432: FutureWarning: Default solver will be changed to 'lbfgs' in 0.22. Specify a solver to silence this warning.\n",
      "  FutureWarning)\n",
      "c:\\users\\amand\\appdata\\local\\programs\\python\\python36\\lib\\site-packages\\sklearn\\linear_model\\logistic.py:469: FutureWarning: Default multi_class will be changed to 'auto' in 0.22. Specify the multi_class option to silence this warning.\n",
      "  \"this warning.\", FutureWarning)\n"
     ]
    },
    {
     "name": "stdout",
     "output_type": "stream",
     "text": [
      "accuracy 0.46464646464646464\n"
     ]
    },
    {
     "name": "stderr",
     "output_type": "stream",
     "text": [
      "c:\\users\\amand\\appdata\\local\\programs\\python\\python36\\lib\\site-packages\\sklearn\\metrics\\classification.py:1437: UndefinedMetricWarning: Precision and F-score are ill-defined and being set to 0.0 in labels with no predicted samples.\n",
      "  'precision', 'predicted', average, warn_for)\n"
     ]
    },
    {
     "name": "stdout",
     "output_type": "stream",
     "text": [
      "              precision    recall  f1-score   support\n",
      "\n",
      "           0       0.50      0.66      0.57       117\n",
      "           1       0.47      0.52      0.49       116\n",
      "          10       1.00      0.08      0.15        25\n",
      "           2       0.00      0.00      0.00        20\n",
      "           3       0.00      0.00      0.00        11\n",
      "           4       1.00      0.08      0.15        12\n",
      "           6       0.00      0.00      0.00        21\n",
      "           7       0.43      0.74      0.54       121\n",
      "           8       0.00      0.00      0.00         5\n",
      "           9       1.00      0.02      0.04        47\n",
      "\n",
      "    accuracy                           0.46       495\n",
      "   macro avg       0.44      0.21      0.19       495\n",
      "weighted avg       0.50      0.46      0.40       495\n",
      "\n"
     ]
    },
    {
     "name": "stderr",
     "output_type": "stream",
     "text": [
      "c:\\users\\amand\\appdata\\local\\programs\\python\\python36\\lib\\site-packages\\sklearn\\metrics\\classification.py:1437: UndefinedMetricWarning: Precision is ill-defined and being set to 0.0 in labels with no predicted samples.\n",
      "  'precision', 'predicted', average, warn_for)\n",
      "c:\\users\\amand\\appdata\\local\\programs\\python\\python36\\lib\\site-packages\\sklearn\\metrics\\classification.py:1437: UndefinedMetricWarning: F-score is ill-defined and being set to 0.0 in labels with no predicted samples.\n",
      "  'precision', 'predicted', average, warn_for)\n"
     ]
    },
    {
     "name": "stdout",
     "output_type": "stream",
     "text": [
      "--------------------------------------------------\n",
      "accuracy: 46.72% (+/- 0.79%)\n",
      "precision: 33.43% (+/- 8.58%)\n",
      "recall: 21.55% (+/- 0.96%)\n",
      "f1 score: 20.07% (+/- 1.38%)\n"
     ]
    }
   ],
   "source": [
    "# use original data\n",
    "original_pipeline = Pipeline([\n",
    "    ('vectorizer', tvec),\n",
    "    ('classifier', lr)\n",
    "])\n",
    "\n",
    "lr_cv(split, df['cleantext'].values.astype(str), df['label'].values.astype(str), original_pipeline, avg_method)\n"
   ]
  },
  {
   "cell_type": "markdown",
   "metadata": {},
   "source": [
    "## split test & train data"
   ]
  },
  {
   "cell_type": "code",
   "execution_count": 224,
   "metadata": {},
   "outputs": [],
   "source": [
    "X = df.cleantext\n",
    "y = df.label\n",
    "X_train, X_test, y_train, y_test = train_test_split(X, y, test_size=0.3, random_state = 1)\n",
    "#random_state is equal to set seed\n"
   ]
  },
  {
   "cell_type": "markdown",
   "metadata": {},
   "source": [
    "## dataset need prediction"
   ]
  },
  {
   "cell_type": "code",
   "execution_count": 220,
   "metadata": {},
   "outputs": [],
   "source": [
    "X_train2 = df.cleantext\n",
    "y_train2 =  df.label\n",
    "X_test2 = df_test.cleantext"
   ]
  },
  {
   "cell_type": "markdown",
   "metadata": {},
   "source": [
    "## RandomOverSampler¶"
   ]
  },
  {
   "cell_type": "markdown",
   "metadata": {},
   "source": [
    "##  train  Multinomial Naive Bayes \n",
    "as a simple baseline\n",
    "<br/><br/>\n",
    "### reference \n",
    "#### -why is pipeline essential &rarr; \n",
    "to keep train and test data fit correctly during cross validation \n",
    "\n",
    "https://towardsdatascience.com/a-simple-example-of-pipeline-in-machine-learning-with-scikit-learn-e726ffbb6976 \n",
    "\n",
    "#### -what is CountVectorizer &rarr; \n",
    "An encoded vector is returned with a length of the entire vocabulary and an integer count for the number of times each word appeared in the document.\n",
    "#### -what is TfidfTransformer &rarr; \n",
    "“Term Frequency – Inverse Document” Frequency which are the components of the resulting scores assigned to each word.Term Frequency summarizes how often a given word appears within a document. Inverse Document Frequency downscales words that appear a lot across documents.\n",
    "\n",
    "https://machinelearningmastery.com/prepare-text-data-machine-learning-scikit-learn/\n",
    "#### -what is  Multinomial Naive Bayes classifier &rarr; \n",
    "a specific instance of a Naive Bayes classifier which uses a multinomial distribution for each of the features\n",
    "\n",
    "https://stats.stackexchange.com/questions/33185/difference-between-naive-bayes-multinomial-naive-bayes\n",
    "\n",
    "Multinomial Distribution \n",
    "\n",
    "https://www.tutorialspoint.com/statistics/multinomial_distribution.htm"
   ]
  },
  {
   "cell_type": "code",
   "execution_count": 225,
   "metadata": {},
   "outputs": [
    {
     "name": "stdout",
     "output_type": "stream",
     "text": [
      "accuracy 0.4641434262948207\n"
     ]
    },
    {
     "name": "stderr",
     "output_type": "stream",
     "text": [
      "c:\\users\\amand\\appdata\\local\\programs\\python\\python36\\lib\\site-packages\\sklearn\\metrics\\classification.py:1437: UndefinedMetricWarning: Precision and F-score are ill-defined and being set to 0.0 in labels with no predicted samples.\n",
      "  'precision', 'predicted', average, warn_for)\n"
     ]
    },
    {
     "name": "stdout",
     "output_type": "stream",
     "text": [
      "              precision    recall  f1-score   support\n",
      "\n",
      "           0       0.56      0.66      0.60       118\n",
      "           1       0.47      0.44      0.46       117\n",
      "          10       0.00      0.00      0.00        25\n",
      "           2       0.00      0.00      0.00        20\n",
      "           3       0.00      0.00      0.00        12\n",
      "           4       1.00      0.15      0.27        13\n",
      "           6       0.00      0.00      0.00        22\n",
      "           7       0.40      0.83      0.54       121\n",
      "           8       0.00      0.00      0.00         6\n",
      "           9       0.00      0.00      0.00        48\n",
      "\n",
      "    accuracy                           0.46       502\n",
      "   macro avg       0.24      0.21      0.19       502\n",
      "weighted avg       0.36      0.46      0.39       502\n",
      "\n"
     ]
    },
    {
     "name": "stderr",
     "output_type": "stream",
     "text": [
      "c:\\users\\amand\\appdata\\local\\programs\\python\\python36\\lib\\site-packages\\sklearn\\metrics\\classification.py:1437: UndefinedMetricWarning: Precision is ill-defined and being set to 0.0 in labels with no predicted samples.\n",
      "  'precision', 'predicted', average, warn_for)\n",
      "c:\\users\\amand\\appdata\\local\\programs\\python\\python36\\lib\\site-packages\\sklearn\\metrics\\classification.py:1437: UndefinedMetricWarning: F-score is ill-defined and being set to 0.0 in labels with no predicted samples.\n",
      "  'precision', 'predicted', average, warn_for)\n"
     ]
    },
    {
     "name": "stdout",
     "output_type": "stream",
     "text": [
      "--------------------------------------------------\n",
      "accuracy 0.46893787575150303\n"
     ]
    },
    {
     "name": "stderr",
     "output_type": "stream",
     "text": [
      "c:\\users\\amand\\appdata\\local\\programs\\python\\python36\\lib\\site-packages\\sklearn\\metrics\\classification.py:1437: UndefinedMetricWarning: Precision and F-score are ill-defined and being set to 0.0 in labels with no predicted samples.\n",
      "  'precision', 'predicted', average, warn_for)\n"
     ]
    },
    {
     "name": "stdout",
     "output_type": "stream",
     "text": [
      "              precision    recall  f1-score   support\n",
      "\n",
      "           0       0.57      0.62      0.59       118\n",
      "           1       0.49      0.48      0.48       117\n",
      "          10       0.00      0.00      0.00        25\n",
      "           2       0.00      0.00      0.00        20\n",
      "           3       0.00      0.00      0.00        12\n",
      "           4       1.00      0.23      0.38        13\n",
      "           6       0.00      0.00      0.00        21\n",
      "           7       0.40      0.84      0.55       121\n",
      "           8       0.00      0.00      0.00         5\n",
      "           9       0.00      0.00      0.00        47\n",
      "\n",
      "    accuracy                           0.47       499\n",
      "   macro avg       0.25      0.22      0.20       499\n",
      "weighted avg       0.37      0.47      0.40       499\n",
      "\n"
     ]
    },
    {
     "name": "stderr",
     "output_type": "stream",
     "text": [
      "c:\\users\\amand\\appdata\\local\\programs\\python\\python36\\lib\\site-packages\\sklearn\\metrics\\classification.py:1437: UndefinedMetricWarning: Precision is ill-defined and being set to 0.0 in labels with no predicted samples.\n",
      "  'precision', 'predicted', average, warn_for)\n",
      "c:\\users\\amand\\appdata\\local\\programs\\python\\python36\\lib\\site-packages\\sklearn\\metrics\\classification.py:1437: UndefinedMetricWarning: F-score is ill-defined and being set to 0.0 in labels with no predicted samples.\n",
      "  'precision', 'predicted', average, warn_for)\n"
     ]
    },
    {
     "name": "stdout",
     "output_type": "stream",
     "text": [
      "--------------------------------------------------\n",
      "accuracy 0.4426559356136821\n"
     ]
    },
    {
     "name": "stderr",
     "output_type": "stream",
     "text": [
      "c:\\users\\amand\\appdata\\local\\programs\\python\\python36\\lib\\site-packages\\sklearn\\metrics\\classification.py:1437: UndefinedMetricWarning: Precision and F-score are ill-defined and being set to 0.0 in labels with no predicted samples.\n",
      "  'precision', 'predicted', average, warn_for)\n"
     ]
    },
    {
     "name": "stdout",
     "output_type": "stream",
     "text": [
      "              precision    recall  f1-score   support\n",
      "\n",
      "           0       0.54      0.60      0.57       118\n",
      "           1       0.43      0.37      0.40       117\n",
      "          10       0.00      0.00      0.00        25\n",
      "           2       0.00      0.00      0.00        20\n",
      "           3       0.00      0.00      0.00        11\n",
      "           4       0.50      0.08      0.14        12\n",
      "           6       0.00      0.00      0.00        21\n",
      "           7       0.40      0.87      0.55       121\n",
      "           8       0.00      0.00      0.00         5\n",
      "           9       0.00      0.00      0.00        47\n",
      "\n",
      "    accuracy                           0.44       497\n",
      "   macro avg       0.19      0.19      0.17       497\n",
      "weighted avg       0.34      0.44      0.36       497\n",
      "\n"
     ]
    },
    {
     "name": "stderr",
     "output_type": "stream",
     "text": [
      "c:\\users\\amand\\appdata\\local\\programs\\python\\python36\\lib\\site-packages\\sklearn\\metrics\\classification.py:1437: UndefinedMetricWarning: Precision is ill-defined and being set to 0.0 in labels with no predicted samples.\n",
      "  'precision', 'predicted', average, warn_for)\n",
      "c:\\users\\amand\\appdata\\local\\programs\\python\\python36\\lib\\site-packages\\sklearn\\metrics\\classification.py:1437: UndefinedMetricWarning: F-score is ill-defined and being set to 0.0 in labels with no predicted samples.\n",
      "  'precision', 'predicted', average, warn_for)\n"
     ]
    },
    {
     "name": "stdout",
     "output_type": "stream",
     "text": [
      "--------------------------------------------------\n",
      "accuracy 0.48185483870967744\n"
     ]
    },
    {
     "name": "stderr",
     "output_type": "stream",
     "text": [
      "c:\\users\\amand\\appdata\\local\\programs\\python\\python36\\lib\\site-packages\\sklearn\\metrics\\classification.py:1437: UndefinedMetricWarning: Precision and F-score are ill-defined and being set to 0.0 in labels with no predicted samples.\n",
      "  'precision', 'predicted', average, warn_for)\n"
     ]
    },
    {
     "name": "stdout",
     "output_type": "stream",
     "text": [
      "              precision    recall  f1-score   support\n",
      "\n",
      "           0       0.58      0.65      0.61       118\n",
      "           1       0.52      0.45      0.48       116\n",
      "          10       0.00      0.00      0.00        25\n",
      "           2       0.00      0.00      0.00        20\n",
      "           3       0.00      0.00      0.00        11\n",
      "           4       1.00      0.17      0.29        12\n",
      "           6       0.00      0.00      0.00        21\n",
      "           7       0.41      0.89      0.57       121\n",
      "           8       0.00      0.00      0.00         5\n",
      "           9       0.00      0.00      0.00        47\n",
      "\n",
      "    accuracy                           0.48       496\n",
      "   macro avg       0.25      0.22      0.19       496\n",
      "weighted avg       0.38      0.48      0.40       496\n",
      "\n"
     ]
    },
    {
     "name": "stderr",
     "output_type": "stream",
     "text": [
      "c:\\users\\amand\\appdata\\local\\programs\\python\\python36\\lib\\site-packages\\sklearn\\metrics\\classification.py:1437: UndefinedMetricWarning: Precision is ill-defined and being set to 0.0 in labels with no predicted samples.\n",
      "  'precision', 'predicted', average, warn_for)\n",
      "c:\\users\\amand\\appdata\\local\\programs\\python\\python36\\lib\\site-packages\\sklearn\\metrics\\classification.py:1437: UndefinedMetricWarning: F-score is ill-defined and being set to 0.0 in labels with no predicted samples.\n",
      "  'precision', 'predicted', average, warn_for)\n"
     ]
    },
    {
     "name": "stdout",
     "output_type": "stream",
     "text": [
      "--------------------------------------------------\n",
      "accuracy 0.4686868686868687\n"
     ]
    },
    {
     "name": "stderr",
     "output_type": "stream",
     "text": [
      "c:\\users\\amand\\appdata\\local\\programs\\python\\python36\\lib\\site-packages\\sklearn\\metrics\\classification.py:1437: UndefinedMetricWarning: Precision and F-score are ill-defined and being set to 0.0 in labels with no predicted samples.\n",
      "  'precision', 'predicted', average, warn_for)\n"
     ]
    },
    {
     "name": "stdout",
     "output_type": "stream",
     "text": [
      "              precision    recall  f1-score   support\n",
      "\n",
      "           0       0.54      0.70      0.61       117\n",
      "           1       0.49      0.42      0.46       116\n",
      "          10       0.00      0.00      0.00        25\n",
      "           2       0.00      0.00      0.00        20\n",
      "           3       0.00      0.00      0.00        11\n",
      "           4       1.00      0.08      0.15        12\n",
      "           6       0.00      0.00      0.00        21\n",
      "           7       0.41      0.83      0.55       121\n",
      "           8       0.00      0.00      0.00         5\n",
      "           9       0.00      0.00      0.00        47\n",
      "\n",
      "    accuracy                           0.47       495\n",
      "   macro avg       0.24      0.20      0.18       495\n",
      "weighted avg       0.37      0.47      0.39       495\n",
      "\n"
     ]
    },
    {
     "name": "stderr",
     "output_type": "stream",
     "text": [
      "c:\\users\\amand\\appdata\\local\\programs\\python\\python36\\lib\\site-packages\\sklearn\\metrics\\classification.py:1437: UndefinedMetricWarning: Precision is ill-defined and being set to 0.0 in labels with no predicted samples.\n",
      "  'precision', 'predicted', average, warn_for)\n",
      "c:\\users\\amand\\appdata\\local\\programs\\python\\python36\\lib\\site-packages\\sklearn\\metrics\\classification.py:1437: UndefinedMetricWarning: F-score is ill-defined and being set to 0.0 in labels with no predicted samples.\n",
      "  'precision', 'predicted', average, warn_for)\n"
     ]
    },
    {
     "name": "stdout",
     "output_type": "stream",
     "text": [
      "--------------------------------------------------\n",
      "accuracy: 46.53% (+/- 1.28%)\n",
      "precision: 23.45% (+/- 2.39%)\n",
      "recall: 20.76% (+/- 0.92%)\n",
      "f1 score: 18.48% (+/- 1.23%)\n"
     ]
    }
   ],
   "source": [
    "#vectorizer => transformer => classifier\n",
    "nb = Pipeline([('vect', CountVectorizer()),\n",
    "               ('tfidf', TfidfTransformer()),\n",
    "               ('clf', MultinomialNB()),\n",
    "              ])\n",
    "lr_cv(split, df['cleantext'].values.astype(str), df['label'].values.astype(str), nb, avg_method)\n",
    "\n",
    "#nb.fit(X_train, y_train)"
   ]
  },
  {
   "cell_type": "code",
   "execution_count": 200,
   "metadata": {
    "collapsed": true,
    "jupyter": {
     "outputs_hidden": true
    }
   },
   "outputs": [
    {
     "name": "stdout",
     "output_type": "stream",
     "text": [
      "accuracy 0.4538152610441767\n"
     ]
    },
    {
     "name": "stderr",
     "output_type": "stream",
     "text": [
      "c:\\users\\amand\\appdata\\local\\programs\\python\\python36\\lib\\site-packages\\sklearn\\metrics\\classification.py:1437: UndefinedMetricWarning: Precision and F-score are ill-defined and being set to 0.0 in labels with no predicted samples.\n",
      "  'precision', 'predicted', average, warn_for)\n"
     ]
    },
    {
     "name": "stdout",
     "output_type": "stream",
     "text": [
      "              precision    recall  f1-score   support\n",
      "\n",
      "           0       0.59      0.63      0.61       185\n",
      "           1       0.50      0.39      0.44       188\n",
      "          10       0.00      0.00      0.00        32\n",
      "           2       0.00      0.00      0.00        27\n",
      "           3       0.00      0.00      0.00        20\n",
      "           4       0.00      0.00      0.00        17\n",
      "           6       0.00      0.00      0.00        32\n",
      "           7       0.37      0.85      0.51       174\n",
      "           8       0.00      0.00      0.00         8\n",
      "           9       0.00      0.00      0.00        64\n",
      "\n",
      "    accuracy                           0.45       747\n",
      "   macro avg       0.15      0.19      0.16       747\n",
      "weighted avg       0.36      0.45      0.38       747\n",
      "\n",
      "Wall time: 53 ms\n"
     ]
    }
   ],
   "source": [
    "# %%time\n",
    "# y_pred = nb.predict(X_test)\n",
    "\n",
    "# print('accuracy %s' % accuracy_score(y_pred, y_test))\n",
    "# print(classification_report(y_test, y_pred))"
   ]
  },
  {
   "cell_type": "markdown",
   "metadata": {},
   "source": [
    "## try to predict unlabeled\n"
   ]
  },
  {
   "cell_type": "code",
   "execution_count": 221,
   "metadata": {},
   "outputs": [
    {
     "name": "stderr",
     "output_type": "stream",
     "text": [
      "c:\\users\\amand\\appdata\\local\\programs\\python\\python36\\lib\\site-packages\\ipykernel_launcher.py:2: SettingWithCopyWarning: \n",
      "A value is trying to be set on a copy of a slice from a DataFrame.\n",
      "Try using .loc[row_indexer,col_indexer] = value instead\n",
      "\n",
      "See the caveats in the documentation: http://pandas.pydata.org/pandas-docs/stable/indexing.html#indexing-view-versus-copy\n",
      "  \n"
     ]
    }
   ],
   "source": [
    "nb.fit(X_train2, y_train2)\n",
    "df_test['y_pred'] = nb.predict(X_test2)\n"
   ]
  },
  {
   "cell_type": "code",
   "execution_count": 223,
   "metadata": {},
   "outputs": [
    {
     "data": {
      "text/html": [
       "<div>\n",
       "<style scoped>\n",
       "    .dataframe tbody tr th:only-of-type {\n",
       "        vertical-align: middle;\n",
       "    }\n",
       "\n",
       "    .dataframe tbody tr th {\n",
       "        vertical-align: top;\n",
       "    }\n",
       "\n",
       "    .dataframe thead th {\n",
       "        text-align: right;\n",
       "    }\n",
       "</style>\n",
       "<table border=\"1\" class=\"dataframe\">\n",
       "  <thead>\n",
       "    <tr style=\"text-align: right;\">\n",
       "      <th></th>\n",
       "      <th>status_id</th>\n",
       "      <th>fulltext</th>\n",
       "      <th>label</th>\n",
       "      <th>sub_label</th>\n",
       "      <th>cleantext</th>\n",
       "      <th>y_pred</th>\n",
       "    </tr>\n",
       "  </thead>\n",
       "  <tbody>\n",
       "    <tr>\n",
       "      <th>901</th>\n",
       "      <td>'1121480618867666950</td>\n",
       "      <td>Blast from the past!?\\n?\\nOver 30 years ago to be exact!\\n?\\nI guess I had not learned how to use lower case letters at that point ?????????https://t.co/JPXo6TuN4M</td>\n",
       "      <td>NaN</td>\n",
       "      <td>NaN</td>\n",
       "      <td>blast from the past over year ago to be exact guess have not learn how to use low case letter at that point</td>\n",
       "      <td>0</td>\n",
       "    </tr>\n",
       "    <tr>\n",
       "      <th>1356</th>\n",
       "      <td>'704360252368506880</td>\n",
       "      <td>Student-centered learning yields better education outcomes https://t.co/e2fHOBk7vo</td>\n",
       "      <td>NaN</td>\n",
       "      <td>NaN</td>\n",
       "      <td>student center learning yield well education outcome</td>\n",
       "      <td>1</td>\n",
       "    </tr>\n",
       "    <tr>\n",
       "      <th>1367</th>\n",
       "      <td>'279689055862669312</td>\n",
       "      <td>From our great customer event at Dell World this week at Darrell K Royal ??Texas Memorial Stadium http://t.co/jqb6vsob</td>\n",
       "      <td>NaN</td>\n",
       "      <td>NaN</td>\n",
       "      <td>from our great customer event at dell world this week at darrell royal texas memorial stadium</td>\n",
       "      <td>7</td>\n",
       "    </tr>\n",
       "    <tr>\n",
       "      <th>1775</th>\n",
       "      <td>'695432140700282886</td>\n",
       "      <td>See you at https://t.co/OXdGxkRlVE! :) https://t.co/YsADlWDkF5</td>\n",
       "      <td>NaN</td>\n",
       "      <td>NaN</td>\n",
       "      <td>see you at</td>\n",
       "      <td>7</td>\n",
       "    </tr>\n",
       "    <tr>\n",
       "      <th>2387</th>\n",
       "      <td>'1078292356636397569</td>\n",
       "      <td>??</td>\n",
       "      <td>NaN</td>\n",
       "      <td>NaN</td>\n",
       "      <td></td>\n",
       "      <td>7</td>\n",
       "    </tr>\n",
       "  </tbody>\n",
       "</table>\n",
       "</div>"
      ],
      "text/plain": [
       "                 status_id  \\\n",
       "901   '1121480618867666950   \n",
       "1356  '704360252368506880    \n",
       "1367  '279689055862669312    \n",
       "1775  '695432140700282886    \n",
       "2387  '1078292356636397569   \n",
       "\n",
       "                                                                                                                                                                 fulltext  \\\n",
       "901   Blast from the past!?\\n?\\nOver 30 years ago to be exact!\\n?\\nI guess I had not learned how to use lower case letters at that point ?????????https://t.co/JPXo6TuN4M   \n",
       "1356  Student-centered learning yields better education outcomes https://t.co/e2fHOBk7vo                                                                                    \n",
       "1367  From our great customer event at Dell World this week at Darrell K Royal ??Texas Memorial Stadium http://t.co/jqb6vsob                                                \n",
       "1775  See you at https://t.co/OXdGxkRlVE! :) https://t.co/YsADlWDkF5                                                                                                        \n",
       "2387  ??                                                                                                                                                                    \n",
       "\n",
       "     label sub_label  \\\n",
       "901   NaN   NaN        \n",
       "1356  NaN   NaN        \n",
       "1367  NaN   NaN        \n",
       "1775  NaN   NaN        \n",
       "2387  NaN   NaN        \n",
       "\n",
       "                                                                                                        cleantext  \\\n",
       "901   blast from the past over year ago to be exact guess have not learn how to use low case letter at that point   \n",
       "1356  student center learning yield well education outcome                                                          \n",
       "1367  from our great customer event at dell world this week at darrell royal texas memorial stadium                 \n",
       "1775  see you at                                                                                                    \n",
       "2387                                                                                                                \n",
       "\n",
       "     y_pred  \n",
       "901   0      \n",
       "1356  1      \n",
       "1367  7      \n",
       "1775  7      \n",
       "2387  7      "
      ]
     },
     "execution_count": 223,
     "metadata": {},
     "output_type": "execute_result"
    }
   ],
   "source": [
    "df_test.head()"
   ]
  },
  {
   "cell_type": "markdown",
   "metadata": {},
   "source": [
    "## Linear Support Vector Machine \n",
    "widely regarded as one of the best text classification algorithms\n",
    "\n",
    "## note :\n",
    "SGDClassifier is not a classifier but a linear classifier optimized by the SGD. It implements by regularising linear models with Stochastic Gradient Descent.\n",
    "\n",
    "clf = SGDClassifier( class_weight='balanced', alpha=i, penalty='l2', loss='hinge', random_state=42) it is an implementation of Linear SVM. loss=\"hinge\": (soft-margin) linear Support Vector Machine.\n",
    "\n",
    "clf = SGDClassifier( class_weight='balanced', alpha=i, penalty='l2', loss='log', random_state=42) . It is an implementation of Logisitic regression.\n",
    "## reference:\n",
    "### -How to make SGD Classifier perform as well as Logistic Regression using parfit\n",
    "https://towardsdatascience.com/how-to-make-sgd-classifier-perform-as-well-as-logistic-regression-using-parfit-cc10bca2d3c4"
   ]
  },
  {
   "cell_type": "code",
   "execution_count": 226,
   "metadata": {},
   "outputs": [
    {
     "name": "stdout",
     "output_type": "stream",
     "text": [
      "accuracy 0.5159362549800797\n"
     ]
    },
    {
     "name": "stderr",
     "output_type": "stream",
     "text": [
      "c:\\users\\amand\\appdata\\local\\programs\\python\\python36\\lib\\site-packages\\sklearn\\metrics\\classification.py:1437: UndefinedMetricWarning: Precision and F-score are ill-defined and being set to 0.0 in labels with no predicted samples.\n",
      "  'precision', 'predicted', average, warn_for)\n"
     ]
    },
    {
     "name": "stdout",
     "output_type": "stream",
     "text": [
      "              precision    recall  f1-score   support\n",
      "\n",
      "           0       0.55      0.70      0.61       118\n",
      "           1       0.46      0.39      0.42       117\n",
      "          10       0.39      0.28      0.33        25\n",
      "           2       0.45      0.25      0.32        20\n",
      "           3       0.33      0.08      0.13        12\n",
      "           4       0.80      0.62      0.70        13\n",
      "           6       0.58      0.32      0.41        22\n",
      "           7       0.53      0.73      0.61       121\n",
      "           8       0.00      0.00      0.00         6\n",
      "           9       0.48      0.29      0.36        48\n",
      "\n",
      "    accuracy                           0.52       502\n",
      "   macro avg       0.46      0.37      0.39       502\n",
      "weighted avg       0.50      0.52      0.49       502\n",
      "\n"
     ]
    },
    {
     "name": "stderr",
     "output_type": "stream",
     "text": [
      "c:\\users\\amand\\appdata\\local\\programs\\python\\python36\\lib\\site-packages\\sklearn\\metrics\\classification.py:1437: UndefinedMetricWarning: Precision is ill-defined and being set to 0.0 in labels with no predicted samples.\n",
      "  'precision', 'predicted', average, warn_for)\n",
      "c:\\users\\amand\\appdata\\local\\programs\\python\\python36\\lib\\site-packages\\sklearn\\metrics\\classification.py:1437: UndefinedMetricWarning: F-score is ill-defined and being set to 0.0 in labels with no predicted samples.\n",
      "  'precision', 'predicted', average, warn_for)\n"
     ]
    },
    {
     "name": "stdout",
     "output_type": "stream",
     "text": [
      "--------------------------------------------------\n",
      "accuracy 0.5250501002004008\n",
      "              precision    recall  f1-score   support\n",
      "\n",
      "           0       0.55      0.64      0.59       118\n",
      "           1       0.50      0.50      0.50       117\n",
      "          10       0.33      0.12      0.18        25\n",
      "           2       0.78      0.35      0.48        20\n",
      "           3       0.00      0.00      0.00        12\n",
      "           4       0.55      0.46      0.50        13\n",
      "           6       0.44      0.19      0.27        21\n",
      "           7       0.53      0.74      0.62       121\n",
      "           8       0.67      0.40      0.50         5\n",
      "           9       0.52      0.36      0.43        47\n",
      "\n",
      "    accuracy                           0.53       499\n",
      "   macro avg       0.49      0.38      0.41       499\n",
      "weighted avg       0.51      0.53      0.50       499\n",
      "\n",
      "--------------------------------------------------\n",
      "accuracy 0.5171026156941649\n",
      "              precision    recall  f1-score   support\n",
      "\n",
      "           0       0.54      0.60      0.57       118\n",
      "           1       0.43      0.41      0.42       117\n",
      "          10       0.09      0.04      0.06        25\n",
      "           2       0.43      0.15      0.22        20\n",
      "           3       0.25      0.09      0.13        11\n",
      "           4       0.88      0.58      0.70        12\n",
      "           6       0.77      0.48      0.59        21\n",
      "           7       0.56      0.85      0.68       121\n",
      "           8       1.00      0.20      0.33         5\n",
      "           9       0.44      0.26      0.32        47\n",
      "\n",
      "    accuracy                           0.52       497\n",
      "   macro avg       0.54      0.37      0.40       497\n",
      "weighted avg       0.50      0.52      0.49       497\n",
      "\n",
      "--------------------------------------------------\n",
      "accuracy 0.5241935483870968\n",
      "              precision    recall  f1-score   support\n",
      "\n",
      "           0       0.55      0.68      0.61       118\n",
      "           1       0.46      0.36      0.41       116\n",
      "          10       0.36      0.20      0.26        25\n",
      "           2       0.64      0.45      0.53        20\n",
      "           3       0.33      0.09      0.14        11\n",
      "           4       0.83      0.42      0.56        12\n",
      "           6       0.58      0.33      0.42        21\n",
      "           7       0.52      0.80      0.63       121\n",
      "           8       0.00      0.00      0.00         5\n",
      "           9       0.64      0.30      0.41        47\n",
      "\n",
      "    accuracy                           0.52       496\n",
      "   macro avg       0.49      0.36      0.40       496\n",
      "weighted avg       0.52      0.52      0.50       496\n",
      "\n",
      "--------------------------------------------------\n",
      "accuracy 0.48282828282828283\n",
      "              precision    recall  f1-score   support\n",
      "\n",
      "           0       0.49      0.65      0.56       117\n",
      "           1       0.46      0.38      0.42       116\n",
      "          10       0.31      0.16      0.21        25\n",
      "           2       0.38      0.15      0.21        20\n",
      "           3       0.00      0.00      0.00        11\n",
      "           4       0.88      0.58      0.70        12\n",
      "           6       0.67      0.19      0.30        21\n",
      "           7       0.49      0.74      0.59       121\n",
      "           8       1.00      0.20      0.33         5\n",
      "           9       0.48      0.21      0.29        47\n",
      "\n",
      "    accuracy                           0.48       495\n",
      "   macro avg       0.51      0.33      0.36       495\n",
      "weighted avg       0.48      0.48      0.45       495\n",
      "\n",
      "--------------------------------------------------\n",
      "accuracy: 51.30% (+/- 1.55%)\n",
      "precision: 49.77% (+/- 2.75%)\n",
      "recall: 35.96% (+/- 1.69%)\n",
      "f1 score: 39.10% (+/- 1.58%)\n"
     ]
    }
   ],
   "source": [
    "sgd = Pipeline([('vect', CountVectorizer()),\n",
    "                ('tfidf', TfidfTransformer()),\n",
    "                ('clf', SGDClassifier(loss='hinge', penalty='l2',alpha=1e-3, random_state=42, max_iter=5, tol=None)),\n",
    "               ])\n",
    "lr_cv(split, df['cleantext'].values.astype(str), df['label'].values.astype(str), sgd, avg_method)\n",
    "\n",
    "# sgd.fit(X_train, y_train)"
   ]
  },
  {
   "cell_type": "code",
   "execution_count": 167,
   "metadata": {},
   "outputs": [],
   "source": [
    "# %%time\n",
    "# # \n",
    "# y_pred = sgd.predict(X_test)\n",
    "\n",
    "# print('accuracy %s' % accuracy_score(y_pred, y_test))\n",
    "# print(classification_report(y_test, y_pred))"
   ]
  },
  {
   "cell_type": "markdown",
   "metadata": {},
   "source": [
    "## Logistic Regression"
   ]
  },
  {
   "cell_type": "code",
   "execution_count": 227,
   "metadata": {},
   "outputs": [
    {
     "name": "stderr",
     "output_type": "stream",
     "text": [
      "c:\\users\\amand\\appdata\\local\\programs\\python\\python36\\lib\\site-packages\\sklearn\\linear_model\\logistic.py:432: FutureWarning: Default solver will be changed to 'lbfgs' in 0.22. Specify a solver to silence this warning.\n",
      "  FutureWarning)\n",
      "c:\\users\\amand\\appdata\\local\\programs\\python\\python36\\lib\\site-packages\\sklearn\\linear_model\\logistic.py:469: FutureWarning: Default multi_class will be changed to 'auto' in 0.22. Specify the multi_class option to silence this warning.\n",
      "  \"this warning.\", FutureWarning)\n"
     ]
    },
    {
     "name": "stdout",
     "output_type": "stream",
     "text": [
      "accuracy 0.4243027888446215\n",
      "              precision    recall  f1-score   support\n",
      "\n",
      "           0       0.45      0.52      0.48       118\n",
      "           1       0.35      0.44      0.39       117\n",
      "          10       0.21      0.24      0.22        25\n",
      "           2       0.42      0.25      0.31        20\n",
      "           3       0.40      0.17      0.24        12\n",
      "           4       0.67      0.46      0.55        13\n",
      "           6       0.60      0.27      0.37        22\n",
      "           7       0.50      0.51      0.51       121\n",
      "           8       1.00      0.17      0.29         6\n",
      "           9       0.44      0.25      0.32        48\n",
      "\n",
      "    accuracy                           0.42       502\n",
      "   macro avg       0.50      0.33      0.37       502\n",
      "weighted avg       0.44      0.42      0.42       502\n",
      "\n",
      "--------------------------------------------------\n"
     ]
    },
    {
     "name": "stderr",
     "output_type": "stream",
     "text": [
      "c:\\users\\amand\\appdata\\local\\programs\\python\\python36\\lib\\site-packages\\sklearn\\linear_model\\logistic.py:432: FutureWarning: Default solver will be changed to 'lbfgs' in 0.22. Specify a solver to silence this warning.\n",
      "  FutureWarning)\n",
      "c:\\users\\amand\\appdata\\local\\programs\\python\\python36\\lib\\site-packages\\sklearn\\linear_model\\logistic.py:469: FutureWarning: Default multi_class will be changed to 'auto' in 0.22. Specify the multi_class option to silence this warning.\n",
      "  \"this warning.\", FutureWarning)\n"
     ]
    },
    {
     "name": "stdout",
     "output_type": "stream",
     "text": [
      "accuracy 0.45490981963927857\n",
      "              precision    recall  f1-score   support\n",
      "\n",
      "           0       0.49      0.53      0.51       118\n",
      "           1       0.41      0.44      0.43       117\n",
      "          10       0.25      0.20      0.22        25\n",
      "           2       0.50      0.30      0.37        20\n",
      "           3       0.00      0.00      0.00        12\n",
      "           4       1.00      0.38      0.56        13\n",
      "           6       0.33      0.33      0.33        21\n",
      "           7       0.54      0.60      0.56       121\n",
      "           8       1.00      0.40      0.57         5\n",
      "           9       0.32      0.34      0.33        47\n",
      "\n",
      "    accuracy                           0.45       499\n",
      "   macro avg       0.48      0.35      0.39       499\n",
      "weighted avg       0.46      0.45      0.45       499\n",
      "\n",
      "--------------------------------------------------\n"
     ]
    },
    {
     "name": "stderr",
     "output_type": "stream",
     "text": [
      "c:\\users\\amand\\appdata\\local\\programs\\python\\python36\\lib\\site-packages\\sklearn\\linear_model\\logistic.py:432: FutureWarning: Default solver will be changed to 'lbfgs' in 0.22. Specify a solver to silence this warning.\n",
      "  FutureWarning)\n",
      "c:\\users\\amand\\appdata\\local\\programs\\python\\python36\\lib\\site-packages\\sklearn\\linear_model\\logistic.py:469: FutureWarning: Default multi_class will be changed to 'auto' in 0.22. Specify the multi_class option to silence this warning.\n",
      "  \"this warning.\", FutureWarning)\n"
     ]
    },
    {
     "name": "stdout",
     "output_type": "stream",
     "text": [
      "accuracy 0.43259557344064387\n",
      "              precision    recall  f1-score   support\n",
      "\n",
      "           0       0.50      0.49      0.50       118\n",
      "           1       0.36      0.46      0.41       117\n",
      "          10       0.12      0.12      0.12        25\n",
      "           2       0.36      0.20      0.26        20\n",
      "           3       0.17      0.09      0.12        11\n",
      "           4       0.88      0.58      0.70        12\n",
      "           6       0.38      0.38      0.38        21\n",
      "           7       0.51      0.55      0.53       121\n",
      "           8       1.00      0.20      0.33         5\n",
      "           9       0.41      0.26      0.32        47\n",
      "\n",
      "    accuracy                           0.43       497\n",
      "   macro avg       0.47      0.33      0.37       497\n",
      "weighted avg       0.44      0.43      0.43       497\n",
      "\n",
      "--------------------------------------------------\n"
     ]
    },
    {
     "name": "stderr",
     "output_type": "stream",
     "text": [
      "c:\\users\\amand\\appdata\\local\\programs\\python\\python36\\lib\\site-packages\\sklearn\\linear_model\\logistic.py:432: FutureWarning: Default solver will be changed to 'lbfgs' in 0.22. Specify a solver to silence this warning.\n",
      "  FutureWarning)\n",
      "c:\\users\\amand\\appdata\\local\\programs\\python\\python36\\lib\\site-packages\\sklearn\\linear_model\\logistic.py:469: FutureWarning: Default multi_class will be changed to 'auto' in 0.22. Specify the multi_class option to silence this warning.\n",
      "  \"this warning.\", FutureWarning)\n"
     ]
    },
    {
     "name": "stdout",
     "output_type": "stream",
     "text": [
      "accuracy 0.42943548387096775\n",
      "              precision    recall  f1-score   support\n",
      "\n",
      "           0       0.49      0.51      0.50       118\n",
      "           1       0.32      0.33      0.33       116\n",
      "          10       0.29      0.32      0.30        25\n",
      "           2       0.46      0.30      0.36        20\n",
      "           3       0.40      0.18      0.25        11\n",
      "           4       0.56      0.42      0.48        12\n",
      "           6       0.56      0.43      0.49        21\n",
      "           7       0.46      0.60      0.52       121\n",
      "           8       0.33      0.20      0.25         5\n",
      "           9       0.48      0.26      0.33        47\n",
      "\n",
      "    accuracy                           0.43       496\n",
      "   macro avg       0.43      0.35      0.38       496\n",
      "weighted avg       0.43      0.43      0.42       496\n",
      "\n",
      "--------------------------------------------------\n"
     ]
    },
    {
     "name": "stderr",
     "output_type": "stream",
     "text": [
      "c:\\users\\amand\\appdata\\local\\programs\\python\\python36\\lib\\site-packages\\sklearn\\linear_model\\logistic.py:432: FutureWarning: Default solver will be changed to 'lbfgs' in 0.22. Specify a solver to silence this warning.\n",
      "  FutureWarning)\n",
      "c:\\users\\amand\\appdata\\local\\programs\\python\\python36\\lib\\site-packages\\sklearn\\linear_model\\logistic.py:469: FutureWarning: Default multi_class will be changed to 'auto' in 0.22. Specify the multi_class option to silence this warning.\n",
      "  \"this warning.\", FutureWarning)\n"
     ]
    },
    {
     "name": "stdout",
     "output_type": "stream",
     "text": [
      "accuracy 0.4222222222222222\n",
      "              precision    recall  f1-score   support\n",
      "\n",
      "           0       0.49      0.62      0.55       117\n",
      "           1       0.38      0.41      0.39       116\n",
      "          10       0.24      0.32      0.28        25\n",
      "           2       0.43      0.15      0.22        20\n",
      "           3       0.30      0.27      0.29        11\n",
      "           4       0.50      0.17      0.25        12\n",
      "           6       0.33      0.19      0.24        21\n",
      "           7       0.43      0.46      0.45       121\n",
      "           8       1.00      0.40      0.57         5\n",
      "           9       0.42      0.23      0.30        47\n",
      "\n",
      "    accuracy                           0.42       495\n",
      "   macro avg       0.45      0.32      0.35       495\n",
      "weighted avg       0.42      0.42      0.41       495\n",
      "\n",
      "--------------------------------------------------\n",
      "accuracy: 43.27% (+/- 1.17%)\n",
      "precision: 46.91% (+/- 2.37%)\n",
      "recall: 33.80% (+/- 1.26%)\n",
      "f1 score: 37.13% (+/- 1.22%)\n"
     ]
    }
   ],
   "source": [
    "logreg = Pipeline([('vect', CountVectorizer()),\n",
    "                ('tfidf', TfidfTransformer()),\n",
    "                ('clf', LogisticRegression(n_jobs=1, C=1e5)),\n",
    "               ])\n",
    "lr_cv(split, df['cleantext'].values.astype(str), df['label'].values.astype(str), logreg, avg_method)\n",
    "\n",
    "#logreg.fit(X_train, y_train)"
   ]
  },
  {
   "cell_type": "code",
   "execution_count": 164,
   "metadata": {
    "collapsed": true,
    "jupyter": {
     "outputs_hidden": true
    }
   },
   "outputs": [
    {
     "name": "stdout",
     "output_type": "stream",
     "text": [
      "accuracy 0.4578313253012048\n",
      "              precision    recall  f1-score   support\n",
      "\n",
      "           0       0.52      0.57      0.54       185\n",
      "           1       0.44      0.49      0.46       188\n",
      "          10       0.23      0.31      0.26        32\n",
      "           2       0.38      0.22      0.28        27\n",
      "           3       0.20      0.05      0.08        20\n",
      "           4       0.67      0.35      0.46        17\n",
      "           6       0.45      0.31      0.37        32\n",
      "           7       0.49      0.54      0.51       174\n",
      "           8       1.00      0.12      0.22         8\n",
      "           9       0.37      0.27      0.31        64\n",
      "\n",
      "    accuracy                           0.46       747\n",
      "   macro avg       0.47      0.32      0.35       747\n",
      "weighted avg       0.46      0.46      0.45       747\n",
      "\n",
      "Wall time: 58 ms\n"
     ]
    }
   ],
   "source": [
    "# %%time\n",
    "\n",
    "# y_pred = logreg.predict(X_test)\n",
    "\n",
    "# print('accuracy %s' % accuracy_score(y_pred, y_test))\n",
    "# print(classification_report(y_test, y_pred))"
   ]
  },
  {
   "cell_type": "markdown",
   "metadata": {},
   "source": [
    "## Word2vec and Logistic Regression\n",
    "\n",
    "### note:\n",
    "Word2vec is a type of mapping that allows words with similar meaning to have similar vector representation &rarr;\n",
    "\n",
    "use surrounding words to represent the target words with a Neural Network whose hidden layer encodes the word representation."
   ]
  },
  {
   "cell_type": "code",
   "execution_count": 228,
   "metadata": {},
   "outputs": [
    {
     "name": "stdout",
     "output_type": "stream",
     "text": [
      "Wall time: 7min 23s\n"
     ]
    }
   ],
   "source": [
    "%%time\n",
    "import gensim\n",
    "from gensim.models import Word2Vec\n",
    "\n",
    "wv = gensim.models.KeyedVectors.load_word2vec_format(\"https://s3.amazonaws.com/dl4j-distribution/GoogleNews-vectors-negative300.bin.gz\", binary=True)\n",
    "wv.init_sims(replace=True)"
   ]
  },
  {
   "cell_type": "code",
   "execution_count": 229,
   "metadata": {},
   "outputs": [
    {
     "data": {
      "text/plain": [
       "['Memorial_Hospital',\n",
       " 'Seniors',\n",
       " 'memorandum',\n",
       " 'elephant',\n",
       " 'Trump',\n",
       " 'Census',\n",
       " 'pilgrims',\n",
       " 'De',\n",
       " 'Dogs',\n",
       " '###-####_ext',\n",
       " 'chaotic',\n",
       " 'forgive',\n",
       " 'scholar',\n",
       " 'Lottery',\n",
       " 'decreasing',\n",
       " 'Supervisor',\n",
       " 'fundamentally',\n",
       " 'Fitness',\n",
       " 'abundance',\n",
       " 'Hold']"
      ]
     },
     "execution_count": 229,
     "metadata": {},
     "output_type": "execute_result"
    }
   ],
   "source": [
    "from itertools import islice\n",
    "list(islice(wv.vocab, 13030, 13050))"
   ]
  },
  {
   "cell_type": "markdown",
   "metadata": {},
   "source": [
    "## Bag of word averaging\n",
    "https://towardsdatascience.com/multi-class-text-classification-model-comparison-and-selection-5eb066197568"
   ]
  },
  {
   "cell_type": "code",
   "execution_count": 230,
   "metadata": {},
   "outputs": [],
   "source": [
    "def word_averaging(wv, words):\n",
    "    all_words, mean = set(), []\n",
    "    \n",
    "    for word in words:\n",
    "        if isinstance(word, np.ndarray):\n",
    "            mean.append(word)\n",
    "        elif word in wv.vocab:\n",
    "            mean.append(wv.syn0norm[wv.vocab[word].index])\n",
    "            all_words.add(wv.vocab[word].index)\n",
    "\n",
    "    if not mean:\n",
    "        logging.warning(\"cannot compute similarity with no input %s\", words)\n",
    "        # FIXME: remove these examples in pre-processing\n",
    "        return np.zeros(wv.vector_size,)\n",
    "\n",
    "    mean = gensim.matutils.unitvec(np.array(mean).mean(axis=0)).astype(np.float32)\n",
    "    return mean\n",
    "\n",
    "def  word_averaging_list(wv, text_list):\n",
    "    return np.vstack([word_averaging(wv, post) for post in text_list ])\n",
    "\n",
    "def w2v_tokenize_text(text):\n",
    "    tokens = []\n",
    "    for sent in nltk.sent_tokenize(text, language='english'):\n",
    "        for word in nltk.word_tokenize(sent, language='english'):\n",
    "            if len(word) < 2:\n",
    "                continue\n",
    "            tokens.append(word)\n",
    "    return tokens"
   ]
  },
  {
   "cell_type": "code",
   "execution_count": 231,
   "metadata": {},
   "outputs": [],
   "source": [
    "\n",
    "train, test = train_test_split(df, test_size=0.3, random_state = 42)\n",
    "\n",
    "test_tokenized = test.apply(lambda r: w2v_tokenize_text(r['cleantext']), axis=1).values\n",
    "train_tokenized = train.apply(lambda r: w2v_tokenize_text(r['cleantext']), axis=1).values\n"
   ]
  },
  {
   "cell_type": "code",
   "execution_count": 232,
   "metadata": {},
   "outputs": [
    {
     "name": "stderr",
     "output_type": "stream",
     "text": [
      "c:\\users\\amand\\appdata\\local\\programs\\python\\python36\\lib\\site-packages\\ipykernel_launcher.py:8: DeprecationWarning: Call to deprecated `syn0norm` (Attribute will be removed in 4.0.0, use self.vectors_norm instead).\n",
      "  \n",
      "W0812 01:16:17.230739 15920 <ipython-input-230-63760c81b177>:12] cannot compute similarity with no input []\n",
      "W0812 01:16:17.636733 15920 <ipython-input-230-63760c81b177>:12] cannot compute similarity with no input ['getmodern']\n",
      "W0812 01:16:17.721738 15920 <ipython-input-230-63760c81b177>:12] cannot compute similarity with no input []\n",
      "W0812 01:16:18.054777 15920 <ipython-input-230-63760c81b177>:12] cannot compute similarity with no input []\n"
     ]
    }
   ],
   "source": [
    "X_train_word_average = word_averaging_list(wv,train_tokenized)\n",
    "X_test_word_average = word_averaging_list(wv,test_tokenized)"
   ]
  },
  {
   "cell_type": "markdown",
   "metadata": {},
   "source": [
    "## logistic regression classifiers performs on these word-averaging document features"
   ]
  },
  {
   "cell_type": "code",
   "execution_count": 233,
   "metadata": {
    "scrolled": true
   },
   "outputs": [
    {
     "name": "stderr",
     "output_type": "stream",
     "text": [
      "c:\\users\\amand\\appdata\\local\\programs\\python\\python36\\lib\\site-packages\\sklearn\\linear_model\\logistic.py:432: FutureWarning: Default solver will be changed to 'lbfgs' in 0.22. Specify a solver to silence this warning.\n",
      "  FutureWarning)\n",
      "c:\\users\\amand\\appdata\\local\\programs\\python\\python36\\lib\\site-packages\\sklearn\\linear_model\\logistic.py:469: FutureWarning: Default multi_class will be changed to 'auto' in 0.22. Specify the multi_class option to silence this warning.\n",
      "  \"this warning.\", FutureWarning)\n"
     ]
    }
   ],
   "source": [
    "logreg = LogisticRegression(n_jobs=1, C=1e5)\n",
    "\n",
    "#can't work\n",
    "# lr_cv(split, X_train_word_average, X_test_word_average, logreg, avg_method)\n",
    "\n",
    "logreg = logreg.fit(X_train_word_average, train['label'])\n",
    "y_pred = logreg.predict(X_test_word_average)"
   ]
  },
  {
   "cell_type": "code",
   "execution_count": 236,
   "metadata": {},
   "outputs": [
    {
     "name": "stdout",
     "output_type": "stream",
     "text": [
      "accuracy 0.42971887550200805\n",
      "              precision    recall  f1-score   support\n",
      "\n",
      "           0       0.51      0.47      0.49       192\n",
      "           1       0.42      0.34      0.38       202\n",
      "          10       0.13      0.27      0.18        26\n",
      "           2       0.39      0.41      0.40        27\n",
      "           3       0.11      0.18      0.13        11\n",
      "           4       0.67      0.30      0.41        20\n",
      "           6       0.46      0.46      0.46        28\n",
      "           7       0.49      0.60      0.54       164\n",
      "           8       0.33      0.25      0.29         8\n",
      "           9       0.36      0.30      0.33        69\n",
      "\n",
      "    accuracy                           0.43       747\n",
      "   macro avg       0.39      0.36      0.36       747\n",
      "weighted avg       0.45      0.43      0.43       747\n",
      "\n"
     ]
    }
   ],
   "source": [
    "\n",
    "print('accuracy %s' % accuracy_score(y_pred, test.label))\n",
    "print(classification_report(test.label, y_pred))"
   ]
  },
  {
   "cell_type": "markdown",
   "metadata": {},
   "source": [
    "## Doc2vec and Logistic Regression¶\n",
    "\n",
    "## reference:\n",
    "### -what is Doc2vec\n",
    "https://medium.com/scaleabout/a-gentle-introduction-to-doc2vec-db3e8c0cce5e"
   ]
  },
  {
   "cell_type": "code",
   "execution_count": 145,
   "metadata": {},
   "outputs": [],
   "source": [
    "from gensim.models import Doc2Vec\n",
    "from sklearn import utils\n",
    "from gensim.models.doc2vec import TaggedDocument\n",
    "from tqdm import tqdm\n",
    "\n",
    "tqdm.pandas(desc=\"progress-bar\")\n"
   ]
  },
  {
   "cell_type": "code",
   "execution_count": 146,
   "metadata": {},
   "outputs": [],
   "source": [
    "def label_sentences(corpus, label_type):\n",
    "    \"\"\"\n",
    "    Gensim's Doc2Vec implementation requires each document/paragraph to have a label associated with it.\n",
    "    We do this by using the TaggedDocument method. The format will be \"TRAIN_i\" or \"TEST_i\" where \"i\" is\n",
    "    a dummy index of the post.\n",
    "    \"\"\"\n",
    "    labeled = []\n",
    "    for i, v in enumerate(corpus):\n",
    "        label = label_type + '_' + str(i)\n",
    "        labeled.append(TaggedDocument(v.split(), [label]))\n",
    "    return labeled"
   ]
  },
  {
   "cell_type": "code",
   "execution_count": 149,
   "metadata": {},
   "outputs": [],
   "source": [
    "X_train = label_sentences(X_train, 'Train')\n",
    "X_test = label_sentences(X_test, 'Test')\n",
    "all_data = X_train + X_test"
   ]
  },
  {
   "cell_type": "code",
   "execution_count": 150,
   "metadata": {},
   "outputs": [
    {
     "data": {
      "text/plain": [
       "[TaggedDocument(words=['love', 'see', 'how', 'our', 'tech', 'help', 'customer', 'like', 'the', 'boston', 'aim', 'for', 'the', 'fence'], tags=['Train_0']),\n",
       " TaggedDocument(words=['meet', 'the', 'inspiron', 'series', 'in', 'special', 'edition'], tags=['Train_1'])]"
      ]
     },
     "execution_count": 150,
     "metadata": {},
     "output_type": "execute_result"
    }
   ],
   "source": [
    "all_data[:2]\n"
   ]
  },
  {
   "cell_type": "code",
   "execution_count": 151,
   "metadata": {},
   "outputs": [
    {
     "name": "stderr",
     "output_type": "stream",
     "text": [
      "c:\\users\\amand\\appdata\\local\\programs\\python\\python36\\lib\\site-packages\\gensim\\models\\base_any2vec.py:743: UserWarning: C extension not loaded, training will be slow. Install a C compiler and reinstall gensim for fast training.\n",
      "  \"C extension not loaded, training will be slow. \"\n",
      "100%|█████████████████████████████████████████████████████████████████████████| 2489/2489 [00:00<00:00, 1242812.22it/s]\n"
     ]
    }
   ],
   "source": [
    "model_dbow = Doc2Vec(dm=0, vector_size=300, negative=5, min_count=1, alpha=0.065, min_alpha=0.065)\n",
    "model_dbow.build_vocab([x for x in tqdm(all_data)])"
   ]
  },
  {
   "cell_type": "code",
   "execution_count": 152,
   "metadata": {
    "collapsed": true,
    "jupyter": {
     "outputs_hidden": true
    }
   },
   "outputs": [
    {
     "name": "stderr",
     "output_type": "stream",
     "text": [
      "100%|██████████████████████████████████████████████████████████████████████████| 2489/2489 [00:00<00:00, 828541.48it/s]\n",
      "WARNING: Logging before flag parsing goes to stderr.\n",
      "W0811 23:05:24.536418 15920 base_any2vec.py:1386] under 10 jobs per worker: consider setting a smaller `batch_words' for smoother alpha decay\n",
      "100%|██████████████████████████████████████████████████████████████████████████| 2489/2489 [00:00<00:00, 497432.82it/s]\n",
      "W0811 23:05:45.475617 15920 base_any2vec.py:1386] under 10 jobs per worker: consider setting a smaller `batch_words' for smoother alpha decay\n",
      "100%|██████████████████████████████████████████████████████████████████████████| 2489/2489 [00:00<00:00, 830717.17it/s]\n",
      "W0811 23:06:06.144796 15920 base_any2vec.py:1386] under 10 jobs per worker: consider setting a smaller `batch_words' for smoother alpha decay\n",
      "100%|█████████████████████████████████████████████████████████████████████████| 2489/2489 [00:00<00:00, 2495129.70it/s]\n",
      "W0811 23:06:25.971814 15920 base_any2vec.py:1386] under 10 jobs per worker: consider setting a smaller `batch_words' for smoother alpha decay\n",
      "100%|██████████████████████████████████████████████████████████████████████████| 2489/2489 [00:00<00:00, 500173.57it/s]\n",
      "W0811 23:06:47.698160 15920 base_any2vec.py:1386] under 10 jobs per worker: consider setting a smaller `batch_words' for smoother alpha decay\n",
      "100%|█████████████████████████████████████████████████████████████████████████| 2489/2489 [00:00<00:00, 2473844.23it/s]\n",
      "W0811 23:07:09.301450 15920 base_any2vec.py:1386] under 10 jobs per worker: consider setting a smaller `batch_words' for smoother alpha decay\n",
      "100%|██████████████████████████████████████████████████████████████████████████| 2489/2489 [00:00<00:00, 829397.21it/s]\n",
      "W0811 23:07:30.371706 15920 base_any2vec.py:1386] under 10 jobs per worker: consider setting a smaller `batch_words' for smoother alpha decay\n",
      "100%|█████████████████████████████████████████████████████████████████████████| 2489/2489 [00:00<00:00, 2490962.22it/s]\n",
      "W0811 23:07:51.621932 15920 base_any2vec.py:1386] under 10 jobs per worker: consider setting a smaller `batch_words' for smoother alpha decay\n",
      "100%|██████████████████████████████████████████████████████████████████████████| 2489/2489 [00:00<00:00, 497598.79it/s]\n",
      "W0811 23:08:11.036906 15920 base_any2vec.py:1386] under 10 jobs per worker: consider setting a smaller `batch_words' for smoother alpha decay\n",
      "100%|█████████████████████████████████████████████████████████████████████████| 2489/2489 [00:00<00:00, 1254008.73it/s]\n",
      "W0811 23:08:29.901792 15920 base_any2vec.py:1386] under 10 jobs per worker: consider setting a smaller `batch_words' for smoother alpha decay\n",
      "100%|██████████████████████████████████████████████████████████████████████████| 2489/2489 [00:00<00:00, 830188.68it/s]\n",
      "W0811 23:08:50.698978 15920 base_any2vec.py:1386] under 10 jobs per worker: consider setting a smaller `batch_words' for smoother alpha decay\n",
      "100%|█████████████████████████████████████████████████████████████████████████| 2489/2489 [00:00<00:00, 1221151.32it/s]\n",
      "W0811 23:09:13.006388 15920 base_any2vec.py:1386] under 10 jobs per worker: consider setting a smaller `batch_words' for smoother alpha decay\n",
      "100%|█████████████████████████████████████████████████████████████████████████| 2489/2489 [00:00<00:00, 1247415.78it/s]\n",
      "W0811 23:09:31.287186 15920 base_any2vec.py:1386] under 10 jobs per worker: consider setting a smaller `batch_words' for smoother alpha decay\n",
      "100%|█████████████████████████████████████████████████████████████████████████| 2489/2489 [00:00<00:00, 2484441.37it/s]\n",
      "W0811 23:09:50.566138 15920 base_any2vec.py:1386] under 10 jobs per worker: consider setting a smaller `batch_words' for smoother alpha decay\n",
      "100%|██████████████████████████████████████████████████████████████████████████| 2489/2489 [00:00<00:00, 829529.02it/s]\n",
      "W0811 23:10:09.340018 15920 base_any2vec.py:1386] under 10 jobs per worker: consider setting a smaller `batch_words' for smoother alpha decay\n",
      "100%|██████████████████████████████████████████████████████████████████████████| 2489/2489 [00:00<00:00, 829397.21it/s]\n",
      "W0811 23:10:29.813146 15920 base_any2vec.py:1386] under 10 jobs per worker: consider setting a smaller `batch_words' for smoother alpha decay\n",
      "100%|█████████████████████████████████████████████████████████████████████████| 2489/2489 [00:00<00:00, 2390023.50it/s]\n",
      "W0811 23:10:50.325332 15920 base_any2vec.py:1386] under 10 jobs per worker: consider setting a smaller `batch_words' for smoother alpha decay\n",
      "100%|██████████████████████████████████████████████████████████████████████████| 2489/2489 [00:00<00:00, 622629.13it/s]\n",
      "W0811 23:11:09.767300 15920 base_any2vec.py:1386] under 10 jobs per worker: consider setting a smaller `batch_words' for smoother alpha decay\n",
      "100%|█████████████████████████████████████████████████████████████████████████| 2489/2489 [00:00<00:00, 2493937.57it/s]\n",
      "W0811 23:11:30.297409 15920 base_any2vec.py:1386] under 10 jobs per worker: consider setting a smaller `batch_words' for smoother alpha decay\n",
      "100%|██████████████████████████████████████████████████████████████████████████| 2489/2489 [00:00<00:00, 828212.82it/s]\n",
      "W0811 23:11:48.597214 15920 base_any2vec.py:1386] under 10 jobs per worker: consider setting a smaller `batch_words' for smoother alpha decay\n",
      "100%|█████████████████████████████████████████████████████████████████████████| 2489/2489 [00:00<00:00, 1240449.46it/s]\n",
      "W0811 23:12:07.745637 15920 base_any2vec.py:1386] under 10 jobs per worker: consider setting a smaller `batch_words' for smoother alpha decay\n",
      "100%|██████████████████████████████████████████████████████████████████████████| 2489/2489 [00:00<00:00, 828475.73it/s]\n",
      "W0811 23:12:26.124684 15920 base_any2vec.py:1386] under 10 jobs per worker: consider setting a smaller `batch_words' for smoother alpha decay\n",
      "100%|██████████████████████████████████████████████████████████████████████████| 2489/2489 [00:00<00:00, 819050.89it/s]\n",
      "W0811 23:12:42.970260 15920 base_any2vec.py:1386] under 10 jobs per worker: consider setting a smaller `batch_words' for smoother alpha decay\n",
      "100%|█████████████████████████████████████████████████████████████████████████| 2489/2489 [00:00<00:00, 1243256.24it/s]\n",
      "W0811 23:13:03.030329 15920 base_any2vec.py:1386] under 10 jobs per worker: consider setting a smaller `batch_words' for smoother alpha decay\n",
      "100%|█████████████████████████████████████████████████████████████████████████| 2489/2489 [00:00<00:00, 1242664.28it/s]\n",
      "W0811 23:13:22.427676 15920 base_any2vec.py:1386] under 10 jobs per worker: consider setting a smaller `batch_words' for smoother alpha decay\n",
      "100%|█████████████████████████████████████████████████████████████████████████| 2489/2489 [00:00<00:00, 1241629.72it/s]\n",
      "W0811 23:13:41.409546 15920 base_any2vec.py:1386] under 10 jobs per worker: consider setting a smaller `batch_words' for smoother alpha decay\n",
      "100%|█████████████████████████████████████████████████████████████████████████| 2489/2489 [00:00<00:00, 1253105.59it/s]\n",
      "W0811 23:14:01.700657 15920 base_any2vec.py:1386] under 10 jobs per worker: consider setting a smaller `batch_words' for smoother alpha decay\n",
      "100%|██████████████████████████████████████████████████████████████████████████| 2489/2489 [00:00<00:00, 830518.91it/s]\n",
      "W0811 23:14:22.637857 15920 base_any2vec.py:1386] under 10 jobs per worker: consider setting a smaller `batch_words' for smoother alpha decay\n",
      "100%|██████████████████████████████████████████████████████████████████████████| 2489/2489 [00:00<00:00, 829265.44it/s]\n",
      "W0811 23:14:45.100297 15920 base_any2vec.py:1386] under 10 jobs per worker: consider setting a smaller `batch_words' for smoother alpha decay\n",
      "100%|█████████████████████████████████████████████████████████████████████████| 2489/2489 [00:00<00:00, 2493937.57it/s]\n",
      "W0811 23:15:06.048424 15920 base_any2vec.py:1386] under 10 jobs per worker: consider setting a smaller `batch_words' for smoother alpha decay\n"
     ]
    }
   ],
   "source": [
    "\n",
    "for epoch in range(30):\n",
    "    model_dbow.train(utils.shuffle([x for x in tqdm(all_data)]), total_examples=len(all_data), epochs=1)\n",
    "    model_dbow.alpha -= 0.002\n",
    "    model_dbow.min_alpha = model_dbow.alpha"
   ]
  },
  {
   "cell_type": "code",
   "execution_count": 153,
   "metadata": {},
   "outputs": [],
   "source": [
    "def get_vectors(model, corpus_size, vectors_size, vectors_type):\n",
    "    \"\"\"\n",
    "    Get vectors from trained doc2vec model\n",
    "    :param doc2vec_model: Trained Doc2Vec model\n",
    "    :param corpus_size: Size of the data\n",
    "    :param vectors_size: Size of the embedding vectors\n",
    "    :param vectors_type: Training or Testing vectors\n",
    "    :return: list of vectors\n",
    "    \"\"\"\n",
    "    vectors = np.zeros((corpus_size, vectors_size))\n",
    "    for i in range(0, corpus_size):\n",
    "        prefix = vectors_type + '_' + str(i)\n",
    "        vectors[i] = model.docvecs[prefix]\n",
    "    return vectors"
   ]
  },
  {
   "cell_type": "code",
   "execution_count": 157,
   "metadata": {},
   "outputs": [
    {
     "name": "stderr",
     "output_type": "stream",
     "text": [
      "c:\\users\\amand\\appdata\\local\\programs\\python\\python36\\lib\\site-packages\\sklearn\\linear_model\\logistic.py:432: FutureWarning: Default solver will be changed to 'lbfgs' in 0.22. Specify a solver to silence this warning.\n",
      "  FutureWarning)\n",
      "c:\\users\\amand\\appdata\\local\\programs\\python\\python36\\lib\\site-packages\\sklearn\\linear_model\\logistic.py:469: FutureWarning: Default multi_class will be changed to 'auto' in 0.22. Specify the multi_class option to silence this warning.\n",
      "  \"this warning.\", FutureWarning)\n",
      "c:\\users\\amand\\appdata\\local\\programs\\python\\python36\\lib\\site-packages\\sklearn\\linear_model\\logistic.py:432: FutureWarning: Default solver will be changed to 'lbfgs' in 0.22. Specify a solver to silence this warning.\n",
      "  FutureWarning)\n",
      "c:\\users\\amand\\appdata\\local\\programs\\python\\python36\\lib\\site-packages\\sklearn\\linear_model\\logistic.py:469: FutureWarning: Default multi_class will be changed to 'auto' in 0.22. Specify the multi_class option to silence this warning.\n",
      "  \"this warning.\", FutureWarning)\n"
     ]
    }
   ],
   "source": [
    "train_vectors_dbow = get_vectors(model_dbow, len(X_train), 300, 'Train')\n",
    "test_vectors_dbow = get_vectors(model_dbow, len(X_test), 300, 'Test')\n",
    "\n",
    "logreg = LogisticRegression(n_jobs=1, C=1e5)\n",
    "\n",
    "#\n",
    "logreg.fit(train_vectors_dbow, y_train)\n",
    "\n",
    "logreg = logreg.fit(train_vectors_dbow, y_train)\n",
    "y_pred = logreg.predict(test_vectors_dbow)"
   ]
  },
  {
   "cell_type": "code",
   "execution_count": 159,
   "metadata": {
    "scrolled": true
   },
   "outputs": [
    {
     "name": "stdout",
     "output_type": "stream",
     "text": [
      "accuracy 0.3855421686746988\n",
      "              precision    recall  f1-score   support\n",
      "\n",
      "           0       0.56      0.49      0.52       185\n",
      "           1       0.42      0.36      0.38       188\n",
      "          10       0.08      0.16      0.11        32\n",
      "           2       0.29      0.37      0.33        27\n",
      "           3       0.17      0.25      0.20        20\n",
      "           4       0.12      0.24      0.16        17\n",
      "           6       0.17      0.25      0.20        32\n",
      "           7       0.52      0.49      0.51       174\n",
      "           8       0.14      0.25      0.18         8\n",
      "           9       0.26      0.19      0.22        64\n",
      "\n",
      "    accuracy                           0.39       747\n",
      "   macro avg       0.27      0.30      0.28       747\n",
      "weighted avg       0.42      0.39      0.40       747\n",
      "\n"
     ]
    }
   ],
   "source": [
    "print('accuracy %s' % accuracy_score(y_pred, y_test))\n",
    "print(classification_report(y_test, y_pred))"
   ]
  },
  {
   "cell_type": "markdown",
   "metadata": {},
   "source": [
    "## fixing imbalance with oversampling"
   ]
  },
  {
   "cell_type": "code",
   "execution_count": 234,
   "metadata": {},
   "outputs": [],
   "source": [
    "from imblearn.pipeline import make_pipeline\n",
    "from imblearn.over_sampling import ADASYN, SMOTE, RandomOverSampler\n",
    "\n",
    "ROS_pipeline = make_pipeline(tvec, RandomOverSampler(random_state=777),lr)\n",
    "SMOTE_pipeline = make_pipeline(tvec, SMOTE(random_state=777),lr)\n",
    "ADASYN_pipeline = make_pipeline(tvec, ADASYN(ratio='minority',random_state=777),lr)\n"
   ]
  },
  {
   "cell_type": "markdown",
   "metadata": {},
   "source": [
    "### 1. RandomOverSampler¶\n",
    "Random over-sampling is simply a process of repeating some samples of the minority class and balance the number of samples between classes in the dataset.\n",
    "\n"
   ]
  },
  {
   "cell_type": "code",
   "execution_count": 235,
   "metadata": {},
   "outputs": [
    {
     "name": "stderr",
     "output_type": "stream",
     "text": [
      "c:\\users\\amand\\appdata\\local\\programs\\python\\python36\\lib\\site-packages\\sklearn\\linear_model\\logistic.py:432: FutureWarning: Default solver will be changed to 'lbfgs' in 0.22. Specify a solver to silence this warning.\n",
      "  FutureWarning)\n",
      "c:\\users\\amand\\appdata\\local\\programs\\python\\python36\\lib\\site-packages\\sklearn\\linear_model\\logistic.py:469: FutureWarning: Default multi_class will be changed to 'auto' in 0.22. Specify the multi_class option to silence this warning.\n",
      "  \"this warning.\", FutureWarning)\n"
     ]
    },
    {
     "name": "stdout",
     "output_type": "stream",
     "text": [
      "accuracy 0.5298804780876494\n",
      "              precision    recall  f1-score   support\n",
      "\n",
      "           0       0.67      0.64      0.65       118\n",
      "           1       0.53      0.42      0.47       117\n",
      "          10       0.28      0.40      0.33        25\n",
      "           2       0.33      0.50      0.40        20\n",
      "           3       0.40      0.33      0.36        12\n",
      "           4       0.89      0.62      0.73        13\n",
      "           6       0.67      0.36      0.47        22\n",
      "           7       0.52      0.69      0.59       121\n",
      "           8       0.67      0.33      0.44         6\n",
      "           9       0.46      0.35      0.40        48\n",
      "\n",
      "    accuracy                           0.53       502\n",
      "   macro avg       0.54      0.46      0.48       502\n",
      "weighted avg       0.55      0.53      0.53       502\n",
      "\n",
      "--------------------------------------------------\n"
     ]
    },
    {
     "name": "stderr",
     "output_type": "stream",
     "text": [
      "c:\\users\\amand\\appdata\\local\\programs\\python\\python36\\lib\\site-packages\\sklearn\\linear_model\\logistic.py:432: FutureWarning: Default solver will be changed to 'lbfgs' in 0.22. Specify a solver to silence this warning.\n",
      "  FutureWarning)\n",
      "c:\\users\\amand\\appdata\\local\\programs\\python\\python36\\lib\\site-packages\\sklearn\\linear_model\\logistic.py:469: FutureWarning: Default multi_class will be changed to 'auto' in 0.22. Specify the multi_class option to silence this warning.\n",
      "  \"this warning.\", FutureWarning)\n"
     ]
    },
    {
     "name": "stdout",
     "output_type": "stream",
     "text": [
      "accuracy 0.5130260521042084\n",
      "              precision    recall  f1-score   support\n",
      "\n",
      "           0       0.71      0.58      0.64       118\n",
      "           1       0.53      0.47      0.50       117\n",
      "          10       0.23      0.12      0.16        25\n",
      "           2       0.33      0.50      0.40        20\n",
      "           3       0.10      0.08      0.09        12\n",
      "           4       0.56      0.38      0.45        13\n",
      "           6       0.27      0.19      0.22        21\n",
      "           7       0.52      0.74      0.61       121\n",
      "           8       0.67      0.40      0.50         5\n",
      "           9       0.38      0.36      0.37        47\n",
      "\n",
      "    accuracy                           0.51       499\n",
      "   macro avg       0.43      0.38      0.39       499\n",
      "weighted avg       0.51      0.51      0.50       499\n",
      "\n",
      "--------------------------------------------------\n"
     ]
    },
    {
     "name": "stderr",
     "output_type": "stream",
     "text": [
      "c:\\users\\amand\\appdata\\local\\programs\\python\\python36\\lib\\site-packages\\sklearn\\linear_model\\logistic.py:432: FutureWarning: Default solver will be changed to 'lbfgs' in 0.22. Specify a solver to silence this warning.\n",
      "  FutureWarning)\n",
      "c:\\users\\amand\\appdata\\local\\programs\\python\\python36\\lib\\site-packages\\sklearn\\linear_model\\logistic.py:469: FutureWarning: Default multi_class will be changed to 'auto' in 0.22. Specify the multi_class option to silence this warning.\n",
      "  \"this warning.\", FutureWarning)\n"
     ]
    },
    {
     "name": "stdout",
     "output_type": "stream",
     "text": [
      "accuracy 0.4909456740442656\n",
      "              precision    recall  f1-score   support\n",
      "\n",
      "           0       0.62      0.53      0.57       118\n",
      "           1       0.46      0.40      0.43       117\n",
      "          10       0.09      0.08      0.08        25\n",
      "           2       0.27      0.35      0.30        20\n",
      "           3       0.20      0.18      0.19        11\n",
      "           4       0.56      0.42      0.48        12\n",
      "           6       0.47      0.43      0.45        21\n",
      "           7       0.55      0.81      0.65       121\n",
      "           8       1.00      0.20      0.33         5\n",
      "           9       0.39      0.23      0.29        47\n",
      "\n",
      "    accuracy                           0.49       497\n",
      "   macro avg       0.46      0.36      0.38       497\n",
      "weighted avg       0.49      0.49      0.48       497\n",
      "\n",
      "--------------------------------------------------\n"
     ]
    },
    {
     "name": "stderr",
     "output_type": "stream",
     "text": [
      "c:\\users\\amand\\appdata\\local\\programs\\python\\python36\\lib\\site-packages\\sklearn\\linear_model\\logistic.py:432: FutureWarning: Default solver will be changed to 'lbfgs' in 0.22. Specify a solver to silence this warning.\n",
      "  FutureWarning)\n",
      "c:\\users\\amand\\appdata\\local\\programs\\python\\python36\\lib\\site-packages\\sklearn\\linear_model\\logistic.py:469: FutureWarning: Default multi_class will be changed to 'auto' in 0.22. Specify the multi_class option to silence this warning.\n",
      "  \"this warning.\", FutureWarning)\n"
     ]
    },
    {
     "name": "stdout",
     "output_type": "stream",
     "text": [
      "accuracy 0.5201612903225806\n",
      "              precision    recall  f1-score   support\n",
      "\n",
      "           0       0.59      0.60      0.60       118\n",
      "           1       0.55      0.39      0.45       116\n",
      "          10       0.38      0.48      0.42        25\n",
      "           2       0.45      0.70      0.55        20\n",
      "           3       0.25      0.18      0.21        11\n",
      "           4       0.56      0.42      0.48        12\n",
      "           6       0.50      0.38      0.43        21\n",
      "           7       0.50      0.69      0.58       121\n",
      "           8       0.33      0.20      0.25         5\n",
      "           9       0.57      0.34      0.43        47\n",
      "\n",
      "    accuracy                           0.52       496\n",
      "   macro avg       0.47      0.44      0.44       496\n",
      "weighted avg       0.53      0.52      0.51       496\n",
      "\n",
      "--------------------------------------------------\n"
     ]
    },
    {
     "name": "stderr",
     "output_type": "stream",
     "text": [
      "c:\\users\\amand\\appdata\\local\\programs\\python\\python36\\lib\\site-packages\\sklearn\\linear_model\\logistic.py:432: FutureWarning: Default solver will be changed to 'lbfgs' in 0.22. Specify a solver to silence this warning.\n",
      "  FutureWarning)\n",
      "c:\\users\\amand\\appdata\\local\\programs\\python\\python36\\lib\\site-packages\\sklearn\\linear_model\\logistic.py:469: FutureWarning: Default multi_class will be changed to 'auto' in 0.22. Specify the multi_class option to silence this warning.\n",
      "  \"this warning.\", FutureWarning)\n"
     ]
    },
    {
     "name": "stdout",
     "output_type": "stream",
     "text": [
      "accuracy 0.5070707070707071\n",
      "              precision    recall  f1-score   support\n",
      "\n",
      "           0       0.55      0.62      0.58       117\n",
      "           1       0.55      0.48      0.52       116\n",
      "          10       0.20      0.28      0.23        25\n",
      "           2       0.41      0.45      0.43        20\n",
      "           3       0.18      0.18      0.18        11\n",
      "           4       0.88      0.58      0.70        12\n",
      "           6       0.43      0.14      0.21        21\n",
      "           7       0.54      0.69      0.60       121\n",
      "           8       0.50      0.20      0.29         5\n",
      "           9       0.45      0.21      0.29        47\n",
      "\n",
      "    accuracy                           0.51       495\n",
      "   macro avg       0.47      0.38      0.40       495\n",
      "weighted avg       0.51      0.51      0.50       495\n",
      "\n",
      "--------------------------------------------------\n",
      "accuracy: 51.22% (+/- 1.31%)\n",
      "precision: 47.36% (+/- 3.67%)\n",
      "recall: 40.67% (+/- 3.80%)\n",
      "f1 score: 42.02% (+/- 3.79%)\n"
     ]
    }
   ],
   "source": [
    "lr_cv(split, df['cleantext'].values.astype(str), df['label'].values.astype(str), ROS_pipeline, avg_method)\n"
   ]
  },
  {
   "cell_type": "markdown",
   "metadata": {},
   "source": [
    "### 2. SMOTE (Synthetic Minority Over-Sampling Technique\n",
    "SMOTE is an over-sampling approach in which the minority class is over-sampled by creating “synthetic” examples rather than by over-sampling with replacement.\n",
    "What this means is that when SMOTE creates a new synthetic data, it will choose one data to copy, and look at its k nearest neighbours. Then, on feature space, it will create random values in feature space that is between the original sample and its neighbours.\n",
    "\n"
   ]
  },
  {
   "cell_type": "code",
   "execution_count": 237,
   "metadata": {
    "scrolled": true
   },
   "outputs": [
    {
     "name": "stderr",
     "output_type": "stream",
     "text": [
      "c:\\users\\amand\\appdata\\local\\programs\\python\\python36\\lib\\site-packages\\sklearn\\linear_model\\logistic.py:432: FutureWarning: Default solver will be changed to 'lbfgs' in 0.22. Specify a solver to silence this warning.\n",
      "  FutureWarning)\n",
      "c:\\users\\amand\\appdata\\local\\programs\\python\\python36\\lib\\site-packages\\sklearn\\linear_model\\logistic.py:469: FutureWarning: Default multi_class will be changed to 'auto' in 0.22. Specify the multi_class option to silence this warning.\n",
      "  \"this warning.\", FutureWarning)\n"
     ]
    },
    {
     "name": "stdout",
     "output_type": "stream",
     "text": [
      "accuracy 0.5318725099601593\n",
      "              precision    recall  f1-score   support\n",
      "\n",
      "           0       0.70      0.64      0.67       118\n",
      "           1       0.55      0.43      0.48       117\n",
      "          10       0.29      0.44      0.35        25\n",
      "           2       0.28      0.50      0.36        20\n",
      "           3       0.33      0.25      0.29        12\n",
      "           4       1.00      0.54      0.70        13\n",
      "           6       0.57      0.36      0.44        22\n",
      "           7       0.54      0.69      0.60       121\n",
      "           8       0.67      0.33      0.44         6\n",
      "           9       0.42      0.35      0.39        48\n",
      "\n",
      "    accuracy                           0.53       502\n",
      "   macro avg       0.53      0.45      0.47       502\n",
      "weighted avg       0.55      0.53      0.53       502\n",
      "\n",
      "--------------------------------------------------\n"
     ]
    },
    {
     "name": "stderr",
     "output_type": "stream",
     "text": [
      "c:\\users\\amand\\appdata\\local\\programs\\python\\python36\\lib\\site-packages\\sklearn\\linear_model\\logistic.py:432: FutureWarning: Default solver will be changed to 'lbfgs' in 0.22. Specify a solver to silence this warning.\n",
      "  FutureWarning)\n",
      "c:\\users\\amand\\appdata\\local\\programs\\python\\python36\\lib\\site-packages\\sklearn\\linear_model\\logistic.py:469: FutureWarning: Default multi_class will be changed to 'auto' in 0.22. Specify the multi_class option to silence this warning.\n",
      "  \"this warning.\", FutureWarning)\n"
     ]
    },
    {
     "name": "stdout",
     "output_type": "stream",
     "text": [
      "accuracy 0.5090180360721442\n",
      "              precision    recall  f1-score   support\n",
      "\n",
      "           0       0.65      0.59      0.62       118\n",
      "           1       0.51      0.45      0.48       117\n",
      "          10       0.27      0.16      0.20        25\n",
      "           2       0.29      0.50      0.37        20\n",
      "           3       0.17      0.08      0.11        12\n",
      "           4       0.71      0.38      0.50        13\n",
      "           6       0.28      0.24      0.26        21\n",
      "           7       0.53      0.72      0.61       121\n",
      "           8       0.67      0.40      0.50         5\n",
      "           9       0.40      0.36      0.38        47\n",
      "\n",
      "    accuracy                           0.51       499\n",
      "   macro avg       0.45      0.39      0.40       499\n",
      "weighted avg       0.51      0.51      0.50       499\n",
      "\n",
      "--------------------------------------------------\n"
     ]
    },
    {
     "name": "stderr",
     "output_type": "stream",
     "text": [
      "c:\\users\\amand\\appdata\\local\\programs\\python\\python36\\lib\\site-packages\\sklearn\\linear_model\\logistic.py:432: FutureWarning: Default solver will be changed to 'lbfgs' in 0.22. Specify a solver to silence this warning.\n",
      "  FutureWarning)\n",
      "c:\\users\\amand\\appdata\\local\\programs\\python\\python36\\lib\\site-packages\\sklearn\\linear_model\\logistic.py:469: FutureWarning: Default multi_class will be changed to 'auto' in 0.22. Specify the multi_class option to silence this warning.\n",
      "  \"this warning.\", FutureWarning)\n"
     ]
    },
    {
     "name": "stdout",
     "output_type": "stream",
     "text": [
      "accuracy 0.4909456740442656\n",
      "              precision    recall  f1-score   support\n",
      "\n",
      "           0       0.61      0.50      0.55       118\n",
      "           1       0.46      0.41      0.43       117\n",
      "          10       0.14      0.12      0.13        25\n",
      "           2       0.28      0.35      0.31        20\n",
      "           3       0.22      0.18      0.20        11\n",
      "           4       0.71      0.42      0.53        12\n",
      "           6       0.48      0.48      0.48        21\n",
      "           7       0.54      0.79      0.64       121\n",
      "           8       1.00      0.20      0.33         5\n",
      "           9       0.38      0.28      0.32        47\n",
      "\n",
      "    accuracy                           0.49       497\n",
      "   macro avg       0.48      0.37      0.39       497\n",
      "weighted avg       0.49      0.49      0.48       497\n",
      "\n",
      "--------------------------------------------------\n"
     ]
    },
    {
     "name": "stderr",
     "output_type": "stream",
     "text": [
      "c:\\users\\amand\\appdata\\local\\programs\\python\\python36\\lib\\site-packages\\sklearn\\linear_model\\logistic.py:432: FutureWarning: Default solver will be changed to 'lbfgs' in 0.22. Specify a solver to silence this warning.\n",
      "  FutureWarning)\n",
      "c:\\users\\amand\\appdata\\local\\programs\\python\\python36\\lib\\site-packages\\sklearn\\linear_model\\logistic.py:469: FutureWarning: Default multi_class will be changed to 'auto' in 0.22. Specify the multi_class option to silence this warning.\n",
      "  \"this warning.\", FutureWarning)\n"
     ]
    },
    {
     "name": "stdout",
     "output_type": "stream",
     "text": [
      "accuracy 0.5201612903225806\n",
      "              precision    recall  f1-score   support\n",
      "\n",
      "           0       0.59      0.60      0.59       118\n",
      "           1       0.53      0.39      0.45       116\n",
      "          10       0.30      0.44      0.35        25\n",
      "           2       0.48      0.70      0.57        20\n",
      "           3       0.40      0.18      0.25        11\n",
      "           4       0.56      0.42      0.48        12\n",
      "           6       0.53      0.38      0.44        21\n",
      "           7       0.51      0.69      0.59       121\n",
      "           8       0.33      0.20      0.25         5\n",
      "           9       0.61      0.36      0.45        47\n",
      "\n",
      "    accuracy                           0.52       496\n",
      "   macro avg       0.48      0.44      0.44       496\n",
      "weighted avg       0.53      0.52      0.51       496\n",
      "\n",
      "--------------------------------------------------\n"
     ]
    },
    {
     "name": "stderr",
     "output_type": "stream",
     "text": [
      "c:\\users\\amand\\appdata\\local\\programs\\python\\python36\\lib\\site-packages\\sklearn\\linear_model\\logistic.py:432: FutureWarning: Default solver will be changed to 'lbfgs' in 0.22. Specify a solver to silence this warning.\n",
      "  FutureWarning)\n",
      "c:\\users\\amand\\appdata\\local\\programs\\python\\python36\\lib\\site-packages\\sklearn\\linear_model\\logistic.py:469: FutureWarning: Default multi_class will be changed to 'auto' in 0.22. Specify the multi_class option to silence this warning.\n",
      "  \"this warning.\", FutureWarning)\n"
     ]
    },
    {
     "name": "stdout",
     "output_type": "stream",
     "text": [
      "accuracy 0.5070707070707071\n",
      "              precision    recall  f1-score   support\n",
      "\n",
      "           0       0.56      0.62      0.59       117\n",
      "           1       0.57      0.44      0.50       116\n",
      "          10       0.26      0.36      0.31        25\n",
      "           2       0.32      0.45      0.38        20\n",
      "           3       0.17      0.18      0.17        11\n",
      "           4       0.88      0.58      0.70        12\n",
      "           6       0.57      0.19      0.29        21\n",
      "           7       0.54      0.69      0.61       121\n",
      "           8       0.33      0.20      0.25         5\n",
      "           9       0.41      0.26      0.32        47\n",
      "\n",
      "    accuracy                           0.51       495\n",
      "   macro avg       0.46      0.40      0.41       495\n",
      "weighted avg       0.52      0.51      0.50       495\n",
      "\n",
      "--------------------------------------------------\n",
      "accuracy: 51.18% (+/- 1.37%)\n",
      "precision: 48.23% (+/- 2.93%)\n",
      "recall: 40.98% (+/- 3.04%)\n",
      "f1 score: 42.41% (+/- 2.93%)\n"
     ]
    }
   ],
   "source": [
    "lr_cv(split, df['cleantext'].values.astype(str), df['label'].values.astype(str), SMOTE_pipeline, avg_method)\n"
   ]
  },
  {
   "cell_type": "markdown",
   "metadata": {},
   "source": [
    "## fixing imbalance with downsampling"
   ]
  },
  {
   "cell_type": "code",
   "execution_count": 238,
   "metadata": {},
   "outputs": [],
   "source": [
    "from imblearn.under_sampling import NearMiss, RandomUnderSampler\n",
    "\n",
    "RUS_pipeline = make_pipeline(tvec, RandomUnderSampler(random_state=777),lr)\n",
    "NM1_pipeline = make_pipeline(tvec, NearMiss(ratio='not minority',random_state=777, version = 1),lr)\n",
    "NM2_pipeline = make_pipeline(tvec, NearMiss(ratio='not minority',random_state=777, version = 2),lr)\n",
    "NM3_pipeline = make_pipeline(tvec, NearMiss(ratio='not minority',random_state=777, version = 3, n_neighbors_ver3=4),lr)"
   ]
  },
  {
   "cell_type": "markdown",
   "metadata": {},
   "source": [
    "### 1. RandomUnderSampler¶\n",
    "with downsampling, we try to reduce the data of majority class, so that the data classes are balanced."
   ]
  },
  {
   "cell_type": "code",
   "execution_count": 239,
   "metadata": {},
   "outputs": [
    {
     "name": "stderr",
     "output_type": "stream",
     "text": [
      "c:\\users\\amand\\appdata\\local\\programs\\python\\python36\\lib\\site-packages\\sklearn\\linear_model\\logistic.py:432: FutureWarning: Default solver will be changed to 'lbfgs' in 0.22. Specify a solver to silence this warning.\n",
      "  FutureWarning)\n",
      "c:\\users\\amand\\appdata\\local\\programs\\python\\python36\\lib\\site-packages\\sklearn\\linear_model\\logistic.py:469: FutureWarning: Default multi_class will be changed to 'auto' in 0.22. Specify the multi_class option to silence this warning.\n",
      "  \"this warning.\", FutureWarning)\n"
     ]
    },
    {
     "name": "stdout",
     "output_type": "stream",
     "text": [
      "accuracy 0.26693227091633465\n",
      "              precision    recall  f1-score   support\n",
      "\n",
      "           0       0.54      0.26      0.35       118\n",
      "           1       0.27      0.09      0.13       117\n",
      "          10       0.21      0.36      0.26        25\n",
      "           2       0.23      0.50      0.31        20\n",
      "           3       0.12      0.58      0.19        12\n",
      "           4       0.25      0.69      0.37        13\n",
      "           6       0.17      0.32      0.22        22\n",
      "           7       0.44      0.25      0.32       121\n",
      "           8       0.04      0.50      0.08         6\n",
      "           9       0.38      0.38      0.38        48\n",
      "\n",
      "    accuracy                           0.27       502\n",
      "   macro avg       0.26      0.39      0.26       502\n",
      "weighted avg       0.37      0.27      0.28       502\n",
      "\n",
      "--------------------------------------------------\n"
     ]
    },
    {
     "name": "stderr",
     "output_type": "stream",
     "text": [
      "c:\\users\\amand\\appdata\\local\\programs\\python\\python36\\lib\\site-packages\\sklearn\\linear_model\\logistic.py:432: FutureWarning: Default solver will be changed to 'lbfgs' in 0.22. Specify a solver to silence this warning.\n",
      "  FutureWarning)\n",
      "c:\\users\\amand\\appdata\\local\\programs\\python\\python36\\lib\\site-packages\\sklearn\\linear_model\\logistic.py:469: FutureWarning: Default multi_class will be changed to 'auto' in 0.22. Specify the multi_class option to silence this warning.\n",
      "  \"this warning.\", FutureWarning)\n"
     ]
    },
    {
     "name": "stdout",
     "output_type": "stream",
     "text": [
      "accuracy 0.32665330661322645\n",
      "              precision    recall  f1-score   support\n",
      "\n",
      "           0       0.59      0.34      0.43       118\n",
      "           1       0.47      0.26      0.33       117\n",
      "          10       0.17      0.16      0.17        25\n",
      "           2       0.17      0.35      0.23        20\n",
      "           3       0.09      0.25      0.14        12\n",
      "           4       0.38      0.46      0.41        13\n",
      "           6       0.16      0.33      0.21        21\n",
      "           7       0.49      0.42      0.45       121\n",
      "           8       0.06      0.80      0.12         5\n",
      "           9       0.26      0.23      0.25        47\n",
      "\n",
      "    accuracy                           0.33       499\n",
      "   macro avg       0.28      0.36      0.27       499\n",
      "weighted avg       0.43      0.33      0.35       499\n",
      "\n",
      "--------------------------------------------------\n"
     ]
    },
    {
     "name": "stderr",
     "output_type": "stream",
     "text": [
      "c:\\users\\amand\\appdata\\local\\programs\\python\\python36\\lib\\site-packages\\sklearn\\linear_model\\logistic.py:432: FutureWarning: Default solver will be changed to 'lbfgs' in 0.22. Specify a solver to silence this warning.\n",
      "  FutureWarning)\n",
      "c:\\users\\amand\\appdata\\local\\programs\\python\\python36\\lib\\site-packages\\sklearn\\linear_model\\logistic.py:469: FutureWarning: Default multi_class will be changed to 'auto' in 0.22. Specify the multi_class option to silence this warning.\n",
      "  \"this warning.\", FutureWarning)\n"
     ]
    },
    {
     "name": "stdout",
     "output_type": "stream",
     "text": [
      "accuracy 0.3158953722334004\n",
      "              precision    recall  f1-score   support\n",
      "\n",
      "           0       0.67      0.33      0.44       118\n",
      "           1       0.50      0.23      0.32       117\n",
      "          10       0.11      0.16      0.13        25\n",
      "           2       0.21      0.55      0.31        20\n",
      "           3       0.10      0.45      0.16        11\n",
      "           4       0.55      0.50      0.52        12\n",
      "           6       0.23      0.71      0.34        21\n",
      "           7       0.48      0.34      0.40       121\n",
      "           8       0.06      0.60      0.11         5\n",
      "           9       0.20      0.13      0.16        47\n",
      "\n",
      "    accuracy                           0.32       497\n",
      "   macro avg       0.31      0.40      0.29       497\n",
      "weighted avg       0.45      0.32      0.34       497\n",
      "\n",
      "--------------------------------------------------\n"
     ]
    },
    {
     "name": "stderr",
     "output_type": "stream",
     "text": [
      "c:\\users\\amand\\appdata\\local\\programs\\python\\python36\\lib\\site-packages\\sklearn\\linear_model\\logistic.py:432: FutureWarning: Default solver will be changed to 'lbfgs' in 0.22. Specify a solver to silence this warning.\n",
      "  FutureWarning)\n",
      "c:\\users\\amand\\appdata\\local\\programs\\python\\python36\\lib\\site-packages\\sklearn\\linear_model\\logistic.py:469: FutureWarning: Default multi_class will be changed to 'auto' in 0.22. Specify the multi_class option to silence this warning.\n",
      "  \"this warning.\", FutureWarning)\n"
     ]
    },
    {
     "name": "stdout",
     "output_type": "stream",
     "text": [
      "accuracy 0.26814516129032256\n",
      "              precision    recall  f1-score   support\n",
      "\n",
      "           0       0.53      0.29      0.37       118\n",
      "           1       0.34      0.17      0.23       116\n",
      "          10       0.11      0.24      0.15        25\n",
      "           2       0.19      0.65      0.30        20\n",
      "           3       0.08      0.18      0.11        11\n",
      "           4       0.50      0.42      0.45        12\n",
      "           6       0.17      0.38      0.24        21\n",
      "           7       0.44      0.26      0.32       121\n",
      "           8       0.05      0.60      0.10         5\n",
      "           9       0.26      0.23      0.24        47\n",
      "\n",
      "    accuracy                           0.27       496\n",
      "   macro avg       0.27      0.34      0.25       496\n",
      "weighted avg       0.37      0.27      0.29       496\n",
      "\n",
      "--------------------------------------------------\n"
     ]
    },
    {
     "name": "stderr",
     "output_type": "stream",
     "text": [
      "c:\\users\\amand\\appdata\\local\\programs\\python\\python36\\lib\\site-packages\\sklearn\\linear_model\\logistic.py:432: FutureWarning: Default solver will be changed to 'lbfgs' in 0.22. Specify a solver to silence this warning.\n",
      "  FutureWarning)\n",
      "c:\\users\\amand\\appdata\\local\\programs\\python\\python36\\lib\\site-packages\\sklearn\\linear_model\\logistic.py:469: FutureWarning: Default multi_class will be changed to 'auto' in 0.22. Specify the multi_class option to silence this warning.\n",
      "  \"this warning.\", FutureWarning)\n"
     ]
    },
    {
     "name": "stdout",
     "output_type": "stream",
     "text": [
      "accuracy 0.26464646464646463\n",
      "              precision    recall  f1-score   support\n",
      "\n",
      "           0       0.55      0.31      0.40       117\n",
      "           1       0.33      0.09      0.15       116\n",
      "          10       0.17      0.28      0.22        25\n",
      "           2       0.15      0.40      0.21        20\n",
      "           3       0.10      0.55      0.17        11\n",
      "           4       0.37      0.58      0.45        12\n",
      "           6       0.14      0.33      0.20        21\n",
      "           7       0.47      0.31      0.37       121\n",
      "           8       0.07      0.80      0.12         5\n",
      "           9       0.24      0.17      0.20        47\n",
      "\n",
      "    accuracy                           0.26       495\n",
      "   macro avg       0.26      0.38      0.25       495\n",
      "weighted avg       0.38      0.26      0.28       495\n",
      "\n",
      "--------------------------------------------------\n",
      "accuracy: 28.85% (+/- 2.70%)\n",
      "precision: 27.70% (+/- 1.84%)\n",
      "recall: 37.56% (+/- 2.15%)\n",
      "f1 score: 26.46% (+/- 1.46%)\n"
     ]
    }
   ],
   "source": [
    "lr_cv(split, df['cleantext'].values.astype(str), df['label'].values.astype(str), RUS_pipeline, avg_method)\n"
   ]
  },
  {
   "cell_type": "markdown",
   "metadata": {},
   "source": [
    "### 2. NearMiss\n",
    "NearMiss adds some heuristic rules to select samples. NearMiss implements 3 different types of heuristic which can be selected with the parameter version. NearMiss heuristic rules are based on nearest neighbors algorithm.\" http://contrib.scikit-learn.org/imbalanced-learn/stable/under_sampling.html#controlled-under-sampling\n",
    "\n",
    "##### 1. NearMiss-1\n",
    "In NearMiss-1, those points from majority class are retained whose mean distance to the k nearest points in minority class is lowest. Which means it will keep the points of majority class that's similar to the minority class.\n",
    "\n",
    "##### 2. NearMiss-2\n",
    "In contrast to NearMiss-1, NearMiss-2 keeps those points from the majority class whose mean distance to the k farthest points in minority class is lowest. In other words, it will keep the points of majority class that's most different to the minority class.\n",
    "\n",
    "##### 3. NearMiss-3\n",
    "The final NearMiss variant, NearMiss-3 selects k nearest neighbours in majority class for every point in the minority class. In this case, the undersampling ratio is directly controlled by k. For example, if we set k to be 4, then NearMiss-3 will choose 4 nearest neighbours of every minority class entry.\n",
    "\n",
    "author's doubt: One thing is that what kind of filtering it applies when all the data selected with n_neighbors_ver3 parameter is more than the minority class. After applying NearMiss-3, the dataset is perfectly balanced. However, if the algorithm simply chooses the nearest neighbour according to the n_neighbors_ver3 parameter, why does it end up with the exact same number of entries for each class."
   ]
  },
  {
   "cell_type": "code",
   "execution_count": 240,
   "metadata": {
    "scrolled": true
   },
   "outputs": [
    {
     "name": "stderr",
     "output_type": "stream",
     "text": [
      "c:\\users\\amand\\appdata\\local\\programs\\python\\python36\\lib\\site-packages\\sklearn\\linear_model\\logistic.py:432: FutureWarning: Default solver will be changed to 'lbfgs' in 0.22. Specify a solver to silence this warning.\n",
      "  FutureWarning)\n",
      "c:\\users\\amand\\appdata\\local\\programs\\python\\python36\\lib\\site-packages\\sklearn\\linear_model\\logistic.py:469: FutureWarning: Default multi_class will be changed to 'auto' in 0.22. Specify the multi_class option to silence this warning.\n",
      "  \"this warning.\", FutureWarning)\n"
     ]
    },
    {
     "name": "stdout",
     "output_type": "stream",
     "text": [
      "accuracy 0.1852589641434263\n",
      "              precision    recall  f1-score   support\n",
      "\n",
      "           0       0.23      0.06      0.09       118\n",
      "           1       0.35      0.07      0.11       117\n",
      "          10       0.30      0.32      0.31        25\n",
      "           2       0.19      0.45      0.27        20\n",
      "           3       0.12      0.17      0.14        12\n",
      "           4       0.64      0.54      0.58        13\n",
      "           6       0.09      0.73      0.16        22\n",
      "           7       0.78      0.15      0.25       121\n",
      "           8       0.04      0.33      0.07         6\n",
      "           9       0.16      0.33      0.22        48\n",
      "\n",
      "    accuracy                           0.19       502\n",
      "   macro avg       0.29      0.31      0.22       502\n",
      "weighted avg       0.39      0.19      0.18       502\n",
      "\n",
      "--------------------------------------------------\n"
     ]
    },
    {
     "name": "stderr",
     "output_type": "stream",
     "text": [
      "c:\\users\\amand\\appdata\\local\\programs\\python\\python36\\lib\\site-packages\\sklearn\\linear_model\\logistic.py:432: FutureWarning: Default solver will be changed to 'lbfgs' in 0.22. Specify a solver to silence this warning.\n",
      "  FutureWarning)\n",
      "c:\\users\\amand\\appdata\\local\\programs\\python\\python36\\lib\\site-packages\\sklearn\\linear_model\\logistic.py:469: FutureWarning: Default multi_class will be changed to 'auto' in 0.22. Specify the multi_class option to silence this warning.\n",
      "  \"this warning.\", FutureWarning)\n"
     ]
    },
    {
     "name": "stdout",
     "output_type": "stream",
     "text": [
      "accuracy 0.218436873747495\n",
      "              precision    recall  f1-score   support\n",
      "\n",
      "           0       0.44      0.27      0.34       118\n",
      "           1       0.18      0.02      0.03       117\n",
      "          10       0.27      0.16      0.20        25\n",
      "           2       0.16      0.55      0.25        20\n",
      "           3       0.12      0.25      0.17        12\n",
      "           4       0.35      0.46      0.40        13\n",
      "           6       0.09      0.52      0.15        21\n",
      "           7       0.65      0.17      0.26       121\n",
      "           8       0.08      0.60      0.14         5\n",
      "           9       0.18      0.36      0.24        47\n",
      "\n",
      "    accuracy                           0.22       499\n",
      "   macro avg       0.25      0.34      0.22       499\n",
      "weighted avg       0.36      0.22      0.21       499\n",
      "\n",
      "--------------------------------------------------\n"
     ]
    },
    {
     "name": "stderr",
     "output_type": "stream",
     "text": [
      "c:\\users\\amand\\appdata\\local\\programs\\python\\python36\\lib\\site-packages\\sklearn\\linear_model\\logistic.py:432: FutureWarning: Default solver will be changed to 'lbfgs' in 0.22. Specify a solver to silence this warning.\n",
      "  FutureWarning)\n",
      "c:\\users\\amand\\appdata\\local\\programs\\python\\python36\\lib\\site-packages\\sklearn\\linear_model\\logistic.py:469: FutureWarning: Default multi_class will be changed to 'auto' in 0.22. Specify the multi_class option to silence this warning.\n",
      "  \"this warning.\", FutureWarning)\n"
     ]
    },
    {
     "name": "stdout",
     "output_type": "stream",
     "text": [
      "accuracy 0.2193158953722334\n",
      "              precision    recall  f1-score   support\n",
      "\n",
      "           0       0.41      0.19      0.26       118\n",
      "           1       0.37      0.06      0.10       117\n",
      "          10       0.18      0.12      0.14        25\n",
      "           2       0.15      0.35      0.21        20\n",
      "           3       0.09      0.27      0.13        11\n",
      "           4       0.88      0.58      0.70        12\n",
      "           6       0.06      0.43      0.11        21\n",
      "           7       0.55      0.25      0.34       121\n",
      "           8       0.06      0.40      0.10         5\n",
      "           9       0.21      0.38      0.27        47\n",
      "\n",
      "    accuracy                           0.22       497\n",
      "   macro avg       0.29      0.30      0.24       497\n",
      "weighted avg       0.38      0.22      0.24       497\n",
      "\n",
      "--------------------------------------------------\n"
     ]
    },
    {
     "name": "stderr",
     "output_type": "stream",
     "text": [
      "c:\\users\\amand\\appdata\\local\\programs\\python\\python36\\lib\\site-packages\\sklearn\\linear_model\\logistic.py:432: FutureWarning: Default solver will be changed to 'lbfgs' in 0.22. Specify a solver to silence this warning.\n",
      "  FutureWarning)\n",
      "c:\\users\\amand\\appdata\\local\\programs\\python\\python36\\lib\\site-packages\\sklearn\\linear_model\\logistic.py:469: FutureWarning: Default multi_class will be changed to 'auto' in 0.22. Specify the multi_class option to silence this warning.\n",
      "  \"this warning.\", FutureWarning)\n"
     ]
    },
    {
     "name": "stdout",
     "output_type": "stream",
     "text": [
      "accuracy 0.2399193548387097\n",
      "              precision    recall  f1-score   support\n",
      "\n",
      "           0       0.59      0.23      0.33       118\n",
      "           1       0.38      0.12      0.18       116\n",
      "          10       0.30      0.28      0.29        25\n",
      "           2       0.16      0.55      0.25        20\n",
      "           3       0.17      0.18      0.17        11\n",
      "           4       0.40      0.33      0.36        12\n",
      "           6       0.07      0.52      0.13        21\n",
      "           7       0.62      0.21      0.31       121\n",
      "           8       0.07      0.40      0.12         5\n",
      "           9       0.19      0.34      0.24        47\n",
      "\n",
      "    accuracy                           0.24       496\n",
      "   macro avg       0.30      0.32      0.24       496\n",
      "weighted avg       0.44      0.24      0.26       496\n",
      "\n",
      "--------------------------------------------------\n"
     ]
    },
    {
     "name": "stderr",
     "output_type": "stream",
     "text": [
      "c:\\users\\amand\\appdata\\local\\programs\\python\\python36\\lib\\site-packages\\sklearn\\linear_model\\logistic.py:432: FutureWarning: Default solver will be changed to 'lbfgs' in 0.22. Specify a solver to silence this warning.\n",
      "  FutureWarning)\n",
      "c:\\users\\amand\\appdata\\local\\programs\\python\\python36\\lib\\site-packages\\sklearn\\linear_model\\logistic.py:469: FutureWarning: Default multi_class will be changed to 'auto' in 0.22. Specify the multi_class option to silence this warning.\n",
      "  \"this warning.\", FutureWarning)\n"
     ]
    },
    {
     "name": "stdout",
     "output_type": "stream",
     "text": [
      "accuracy 0.21818181818181817\n",
      "              precision    recall  f1-score   support\n",
      "\n",
      "           0       0.36      0.14      0.20       117\n",
      "           1       0.22      0.06      0.09       116\n",
      "          10       0.23      0.32      0.27        25\n",
      "           2       0.16      0.45      0.24        20\n",
      "           3       0.14      0.27      0.19        11\n",
      "           4       0.60      0.50      0.55        12\n",
      "           6       0.08      0.67      0.14        21\n",
      "           7       0.84      0.22      0.35       121\n",
      "           8       0.08      0.40      0.13         5\n",
      "           9       0.26      0.34      0.29        47\n",
      "\n",
      "    accuracy                           0.22       495\n",
      "   macro avg       0.30      0.34      0.24       495\n",
      "weighted avg       0.41      0.22      0.23       495\n",
      "\n",
      "--------------------------------------------------\n",
      "accuracy: 21.62% (+/- 1.75%)\n",
      "precision: 28.57% (+/- 1.72%)\n",
      "recall: 32.16% (+/- 1.29%)\n",
      "f1 score: 23.21% (+/- 1.08%)\n"
     ]
    }
   ],
   "source": [
    "lr_cv(split, df['cleantext'].values.astype(str), df['label'].values.astype(str), NM1_pipeline, avg_method)\n"
   ]
  },
  {
   "cell_type": "code",
   "execution_count": 241,
   "metadata": {},
   "outputs": [
    {
     "name": "stderr",
     "output_type": "stream",
     "text": [
      "c:\\users\\amand\\appdata\\local\\programs\\python\\python36\\lib\\site-packages\\sklearn\\linear_model\\logistic.py:432: FutureWarning: Default solver will be changed to 'lbfgs' in 0.22. Specify a solver to silence this warning.\n",
      "  FutureWarning)\n",
      "c:\\users\\amand\\appdata\\local\\programs\\python\\python36\\lib\\site-packages\\sklearn\\linear_model\\logistic.py:469: FutureWarning: Default multi_class will be changed to 'auto' in 0.22. Specify the multi_class option to silence this warning.\n",
      "  \"this warning.\", FutureWarning)\n"
     ]
    },
    {
     "name": "stdout",
     "output_type": "stream",
     "text": [
      "accuracy 0.27689243027888444\n",
      "              precision    recall  f1-score   support\n",
      "\n",
      "           0       0.49      0.30      0.37       118\n",
      "           1       0.44      0.19      0.26       117\n",
      "          10       0.15      0.20      0.17        25\n",
      "           2       0.17      0.40      0.24        20\n",
      "           3       0.12      0.58      0.19        12\n",
      "           4       0.23      0.77      0.35        13\n",
      "           6       0.17      0.55      0.26        22\n",
      "           7       0.51      0.23      0.32       121\n",
      "           8       0.10      0.50      0.16         6\n",
      "           9       0.24      0.19      0.21        48\n",
      "\n",
      "    accuracy                           0.28       502\n",
      "   macro avg       0.26      0.39      0.25       502\n",
      "weighted avg       0.39      0.28      0.29       502\n",
      "\n",
      "--------------------------------------------------\n"
     ]
    },
    {
     "name": "stderr",
     "output_type": "stream",
     "text": [
      "c:\\users\\amand\\appdata\\local\\programs\\python\\python36\\lib\\site-packages\\sklearn\\linear_model\\logistic.py:432: FutureWarning: Default solver will be changed to 'lbfgs' in 0.22. Specify a solver to silence this warning.\n",
      "  FutureWarning)\n",
      "c:\\users\\amand\\appdata\\local\\programs\\python\\python36\\lib\\site-packages\\sklearn\\linear_model\\logistic.py:469: FutureWarning: Default multi_class will be changed to 'auto' in 0.22. Specify the multi_class option to silence this warning.\n",
      "  \"this warning.\", FutureWarning)\n"
     ]
    },
    {
     "name": "stdout",
     "output_type": "stream",
     "text": [
      "accuracy 0.23246492985971945\n",
      "              precision    recall  f1-score   support\n",
      "\n",
      "           0       0.64      0.23      0.34       118\n",
      "           1       0.35      0.14      0.20       117\n",
      "          10       0.12      0.20      0.15        25\n",
      "           2       0.24      0.60      0.35        20\n",
      "           3       0.10      0.25      0.14        12\n",
      "           4       0.13      0.62      0.22        13\n",
      "           6       0.08      0.29      0.12        21\n",
      "           7       0.48      0.21      0.29       121\n",
      "           8       0.07      0.80      0.13         5\n",
      "           9       0.23      0.21      0.22        47\n",
      "\n",
      "    accuracy                           0.23       499\n",
      "   macro avg       0.24      0.35      0.22       499\n",
      "weighted avg       0.40      0.23      0.25       499\n",
      "\n",
      "--------------------------------------------------\n"
     ]
    },
    {
     "name": "stderr",
     "output_type": "stream",
     "text": [
      "c:\\users\\amand\\appdata\\local\\programs\\python\\python36\\lib\\site-packages\\sklearn\\linear_model\\logistic.py:432: FutureWarning: Default solver will be changed to 'lbfgs' in 0.22. Specify a solver to silence this warning.\n",
      "  FutureWarning)\n",
      "c:\\users\\amand\\appdata\\local\\programs\\python\\python36\\lib\\site-packages\\sklearn\\linear_model\\logistic.py:469: FutureWarning: Default multi_class will be changed to 'auto' in 0.22. Specify the multi_class option to silence this warning.\n",
      "  \"this warning.\", FutureWarning)\n"
     ]
    },
    {
     "name": "stdout",
     "output_type": "stream",
     "text": [
      "accuracy 0.2676056338028169\n",
      "              precision    recall  f1-score   support\n",
      "\n",
      "           0       0.54      0.16      0.25       118\n",
      "           1       0.42      0.24      0.30       117\n",
      "          10       0.06      0.20      0.09        25\n",
      "           2       0.25      0.50      0.33        20\n",
      "           3       0.17      0.64      0.26        11\n",
      "           4       0.21      0.58      0.31        12\n",
      "           6       0.12      0.38      0.18        21\n",
      "           7       0.54      0.27      0.36       121\n",
      "           8       0.07      0.40      0.12         5\n",
      "           9       0.33      0.30      0.31        47\n",
      "\n",
      "    accuracy                           0.27       497\n",
      "   macro avg       0.27      0.37      0.25       497\n",
      "weighted avg       0.42      0.27      0.29       497\n",
      "\n",
      "--------------------------------------------------\n"
     ]
    },
    {
     "name": "stderr",
     "output_type": "stream",
     "text": [
      "c:\\users\\amand\\appdata\\local\\programs\\python\\python36\\lib\\site-packages\\sklearn\\linear_model\\logistic.py:432: FutureWarning: Default solver will be changed to 'lbfgs' in 0.22. Specify a solver to silence this warning.\n",
      "  FutureWarning)\n",
      "c:\\users\\amand\\appdata\\local\\programs\\python\\python36\\lib\\site-packages\\sklearn\\linear_model\\logistic.py:469: FutureWarning: Default multi_class will be changed to 'auto' in 0.22. Specify the multi_class option to silence this warning.\n",
      "  \"this warning.\", FutureWarning)\n"
     ]
    },
    {
     "name": "stdout",
     "output_type": "stream",
     "text": [
      "accuracy 0.2782258064516129\n",
      "              precision    recall  f1-score   support\n",
      "\n",
      "           0       0.59      0.34      0.43       118\n",
      "           1       0.38      0.19      0.25       116\n",
      "          10       0.06      0.12      0.08        25\n",
      "           2       0.19      0.45      0.27        20\n",
      "           3       0.06      0.27      0.10        11\n",
      "           4       0.16      0.75      0.26        12\n",
      "           6       0.22      0.52      0.31        21\n",
      "           7       0.61      0.28      0.38       121\n",
      "           8       0.03      0.20      0.05         5\n",
      "           9       0.20      0.13      0.16        47\n",
      "\n",
      "    accuracy                           0.28       496\n",
      "   macro avg       0.25      0.33      0.23       496\n",
      "weighted avg       0.42      0.28      0.31       496\n",
      "\n",
      "--------------------------------------------------\n"
     ]
    },
    {
     "name": "stderr",
     "output_type": "stream",
     "text": [
      "c:\\users\\amand\\appdata\\local\\programs\\python\\python36\\lib\\site-packages\\sklearn\\linear_model\\logistic.py:432: FutureWarning: Default solver will be changed to 'lbfgs' in 0.22. Specify a solver to silence this warning.\n",
      "  FutureWarning)\n",
      "c:\\users\\amand\\appdata\\local\\programs\\python\\python36\\lib\\site-packages\\sklearn\\linear_model\\logistic.py:469: FutureWarning: Default multi_class will be changed to 'auto' in 0.22. Specify the multi_class option to silence this warning.\n",
      "  \"this warning.\", FutureWarning)\n"
     ]
    },
    {
     "name": "stdout",
     "output_type": "stream",
     "text": [
      "accuracy 0.2727272727272727\n",
      "              precision    recall  f1-score   support\n",
      "\n",
      "           0       0.53      0.36      0.43       117\n",
      "           1       0.31      0.10      0.15       116\n",
      "          10       0.10      0.28      0.14        25\n",
      "           2       0.23      0.45      0.30        20\n",
      "           3       0.06      0.18      0.09        11\n",
      "           4       0.19      0.67      0.30        12\n",
      "           6       0.12      0.38      0.18        21\n",
      "           7       0.58      0.29      0.39       121\n",
      "           8       0.07      0.40      0.12         5\n",
      "           9       0.33      0.21      0.26        47\n",
      "\n",
      "    accuracy                           0.27       495\n",
      "   macro avg       0.25      0.33      0.24       495\n",
      "weighted avg       0.40      0.27      0.29       495\n",
      "\n",
      "--------------------------------------------------\n",
      "accuracy: 26.56% (+/- 1.70%)\n",
      "precision: 25.54% (+/- 0.96%)\n",
      "recall: 35.37% (+/- 2.35%)\n",
      "f1 score: 23.75% (+/- 1.46%)\n"
     ]
    }
   ],
   "source": [
    "lr_cv(split, df['cleantext'].values.astype(str), df['label'].values.astype(str), NM2_pipeline, avg_method)\n"
   ]
  },
  {
   "cell_type": "code",
   "execution_count": 242,
   "metadata": {},
   "outputs": [
    {
     "name": "stderr",
     "output_type": "stream",
     "text": [
      "c:\\users\\amand\\appdata\\local\\programs\\python\\python36\\lib\\site-packages\\sklearn\\linear_model\\logistic.py:432: FutureWarning: Default solver will be changed to 'lbfgs' in 0.22. Specify a solver to silence this warning.\n",
      "  FutureWarning)\n",
      "c:\\users\\amand\\appdata\\local\\programs\\python\\python36\\lib\\site-packages\\sklearn\\linear_model\\logistic.py:469: FutureWarning: Default multi_class will be changed to 'auto' in 0.22. Specify the multi_class option to silence this warning.\n",
      "  \"this warning.\", FutureWarning)\n"
     ]
    },
    {
     "name": "stdout",
     "output_type": "stream",
     "text": [
      "accuracy 0.300796812749004\n",
      "              precision    recall  f1-score   support\n",
      "\n",
      "           0       0.49      0.25      0.33       118\n",
      "           1       0.42      0.21      0.28       117\n",
      "          10       0.18      0.40      0.24        25\n",
      "           2       0.26      0.50      0.34        20\n",
      "           3       0.12      0.25      0.16        12\n",
      "           4       0.20      0.62      0.30        13\n",
      "           6       0.10      0.18      0.13        22\n",
      "           7       0.57      0.41      0.48       121\n",
      "           8       0.09      0.67      0.15         6\n",
      "           9       0.18      0.19      0.18        48\n",
      "\n",
      "    accuracy                           0.30       502\n",
      "   macro avg       0.26      0.37      0.26       502\n",
      "weighted avg       0.40      0.30      0.32       502\n",
      "\n",
      "--------------------------------------------------\n"
     ]
    },
    {
     "name": "stderr",
     "output_type": "stream",
     "text": [
      "c:\\users\\amand\\appdata\\local\\programs\\python\\python36\\lib\\site-packages\\sklearn\\linear_model\\logistic.py:432: FutureWarning: Default solver will be changed to 'lbfgs' in 0.22. Specify a solver to silence this warning.\n",
      "  FutureWarning)\n",
      "c:\\users\\amand\\appdata\\local\\programs\\python\\python36\\lib\\site-packages\\sklearn\\linear_model\\logistic.py:469: FutureWarning: Default multi_class will be changed to 'auto' in 0.22. Specify the multi_class option to silence this warning.\n",
      "  \"this warning.\", FutureWarning)\n"
     ]
    },
    {
     "name": "stdout",
     "output_type": "stream",
     "text": [
      "accuracy 0.27054108216432865\n",
      "              precision    recall  f1-score   support\n",
      "\n",
      "           0       0.50      0.28      0.36       118\n",
      "           1       0.53      0.15      0.23       117\n",
      "          10       0.07      0.12      0.09        25\n",
      "           2       0.15      0.35      0.21        20\n",
      "           3       0.15      0.58      0.24        12\n",
      "           4       0.19      0.54      0.28        13\n",
      "           6       0.11      0.24      0.15        21\n",
      "           7       0.48      0.38      0.43       121\n",
      "           8       0.10      0.80      0.17         5\n",
      "           9       0.12      0.13      0.12        47\n",
      "\n",
      "    accuracy                           0.27       499\n",
      "   macro avg       0.24      0.36      0.23       499\n",
      "weighted avg       0.40      0.27      0.29       499\n",
      "\n",
      "--------------------------------------------------\n"
     ]
    },
    {
     "name": "stderr",
     "output_type": "stream",
     "text": [
      "c:\\users\\amand\\appdata\\local\\programs\\python\\python36\\lib\\site-packages\\sklearn\\linear_model\\logistic.py:432: FutureWarning: Default solver will be changed to 'lbfgs' in 0.22. Specify a solver to silence this warning.\n",
      "  FutureWarning)\n",
      "c:\\users\\amand\\appdata\\local\\programs\\python\\python36\\lib\\site-packages\\sklearn\\linear_model\\logistic.py:469: FutureWarning: Default multi_class will be changed to 'auto' in 0.22. Specify the multi_class option to silence this warning.\n",
      "  \"this warning.\", FutureWarning)\n"
     ]
    },
    {
     "name": "stdout",
     "output_type": "stream",
     "text": [
      "accuracy 0.26961770623742454\n",
      "              precision    recall  f1-score   support\n",
      "\n",
      "           0       0.47      0.28      0.35       118\n",
      "           1       0.37      0.15      0.22       117\n",
      "          10       0.00      0.00      0.00        25\n",
      "           2       0.11      0.25      0.15        20\n",
      "           3       0.12      0.36      0.18        11\n",
      "           4       0.23      0.67      0.34        12\n",
      "           6       0.17      0.29      0.21        21\n",
      "           7       0.48      0.39      0.43       121\n",
      "           8       0.07      0.60      0.12         5\n",
      "           9       0.22      0.21      0.22        47\n",
      "\n",
      "    accuracy                           0.27       497\n",
      "   macro avg       0.22      0.32      0.22       497\n",
      "weighted avg       0.36      0.27      0.29       497\n",
      "\n",
      "--------------------------------------------------\n"
     ]
    },
    {
     "name": "stderr",
     "output_type": "stream",
     "text": [
      "c:\\users\\amand\\appdata\\local\\programs\\python\\python36\\lib\\site-packages\\sklearn\\linear_model\\logistic.py:432: FutureWarning: Default solver will be changed to 'lbfgs' in 0.22. Specify a solver to silence this warning.\n",
      "  FutureWarning)\n",
      "c:\\users\\amand\\appdata\\local\\programs\\python\\python36\\lib\\site-packages\\sklearn\\linear_model\\logistic.py:469: FutureWarning: Default multi_class will be changed to 'auto' in 0.22. Specify the multi_class option to silence this warning.\n",
      "  \"this warning.\", FutureWarning)\n"
     ]
    },
    {
     "name": "stdout",
     "output_type": "stream",
     "text": [
      "accuracy 0.24798387096774194\n",
      "              precision    recall  f1-score   support\n",
      "\n",
      "           0       0.50      0.20      0.29       118\n",
      "           1       0.43      0.17      0.25       116\n",
      "          10       0.09      0.16      0.11        25\n",
      "           2       0.14      0.30      0.19        20\n",
      "           3       0.12      0.45      0.19        11\n",
      "           4       0.19      0.58      0.29        12\n",
      "           6       0.15      0.29      0.20        21\n",
      "           7       0.43      0.32      0.37       121\n",
      "           8       0.04      0.40      0.08         5\n",
      "           9       0.17      0.21      0.19        47\n",
      "\n",
      "    accuracy                           0.25       496\n",
      "   macro avg       0.23      0.31      0.21       496\n",
      "weighted avg       0.37      0.25      0.27       496\n",
      "\n",
      "--------------------------------------------------\n"
     ]
    },
    {
     "name": "stderr",
     "output_type": "stream",
     "text": [
      "c:\\users\\amand\\appdata\\local\\programs\\python\\python36\\lib\\site-packages\\sklearn\\linear_model\\logistic.py:432: FutureWarning: Default solver will be changed to 'lbfgs' in 0.22. Specify a solver to silence this warning.\n",
      "  FutureWarning)\n",
      "c:\\users\\amand\\appdata\\local\\programs\\python\\python36\\lib\\site-packages\\sklearn\\linear_model\\logistic.py:469: FutureWarning: Default multi_class will be changed to 'auto' in 0.22. Specify the multi_class option to silence this warning.\n",
      "  \"this warning.\", FutureWarning)\n"
     ]
    },
    {
     "name": "stdout",
     "output_type": "stream",
     "text": [
      "accuracy 0.2828282828282828\n",
      "              precision    recall  f1-score   support\n",
      "\n",
      "           0       0.55      0.31      0.40       117\n",
      "           1       0.49      0.17      0.25       116\n",
      "          10       0.09      0.20      0.12        25\n",
      "           2       0.19      0.30      0.24        20\n",
      "           3       0.03      0.09      0.05        11\n",
      "           4       0.19      0.75      0.31        12\n",
      "           6       0.11      0.19      0.14        21\n",
      "           7       0.49      0.42      0.45       121\n",
      "           8       0.06      0.60      0.12         5\n",
      "           9       0.14      0.11      0.12        47\n",
      "\n",
      "    accuracy                           0.28       495\n",
      "   macro avg       0.24      0.31      0.22       495\n",
      "weighted avg       0.40      0.28      0.31       495\n",
      "\n",
      "--------------------------------------------------\n",
      "accuracy: 27.44% (+/- 1.73%)\n",
      "precision: 23.72% (+/- 1.28%)\n",
      "recall: 33.33% (+/- 2.35%)\n",
      "f1 score: 22.86% (+/- 1.59%)\n"
     ]
    }
   ],
   "source": [
    "lr_cv(split, df['cleantext'].values.astype(str), df['label'].values.astype(str), NM3_pipeline, avg_method)\n"
   ]
  },
  {
   "cell_type": "markdown",
   "metadata": {},
   "source": [
    "## the sample number we really use in nm3\n",
    "&rarr; apparently too less"
   ]
  },
  {
   "cell_type": "code",
   "execution_count": 243,
   "metadata": {},
   "outputs": [
    {
     "name": "stdout",
     "output_type": "stream",
     "text": [
      "Distribution before NearMiss-3: Counter({'7': 605, '0': 589, '1': 583, '9': 236, '10': 125, '6': 106, '2': 100, '4': 62, '3': 57, '8': 26})\n",
      "Distribution after NearMiss-3: Counter({'0': 26, '1': 26, '10': 26, '2': 26, '3': 26, '4': 26, '6': 26, '7': 26, '8': 26, '9': 26})\n"
     ]
    }
   ],
   "source": [
    "from collections import Counter\n",
    "\n",
    "nm3 = NearMiss(ratio='not minority',random_state=777, version=3, n_neighbors_ver3=4)\n",
    "tvec = TfidfVectorizer(stop_words=None, max_features=100000, ngram_range=(1, 3))\n",
    "df_tfidf = tvec.fit_transform( df['cleantext'].values.astype(str))\n",
    "X_res, y_res = nm3.fit_sample(df_tfidf, df['label'].values.astype(str))\n",
    "print('Distribution before NearMiss-3: {}'.format(Counter(df['label'].values.astype(str))))\n",
    "print('Distribution after NearMiss-3: {}'.format(Counter(y_res)))"
   ]
  },
  {
   "cell_type": "markdown",
   "metadata": {},
   "source": [
    "## BOW with keras"
   ]
  },
  {
   "cell_type": "code",
   "execution_count": 244,
   "metadata": {},
   "outputs": [
    {
     "name": "stderr",
     "output_type": "stream",
     "text": [
      "W0812 01:21:49.816171 15920 deprecation_wrapper.py:119] From c:\\users\\amand\\appdata\\local\\programs\\python\\python36\\lib\\site-packages\\keras\\backend\\tensorflow_backend.py:74: The name tf.get_default_graph is deprecated. Please use tf.compat.v1.get_default_graph instead.\n",
      "\n",
      "W0812 01:21:50.105169 15920 deprecation_wrapper.py:119] From c:\\users\\amand\\appdata\\local\\programs\\python\\python36\\lib\\site-packages\\keras\\backend\\tensorflow_backend.py:517: The name tf.placeholder is deprecated. Please use tf.compat.v1.placeholder instead.\n",
      "\n",
      "W0812 01:21:50.183171 15920 deprecation_wrapper.py:119] From c:\\users\\amand\\appdata\\local\\programs\\python\\python36\\lib\\site-packages\\keras\\backend\\tensorflow_backend.py:4138: The name tf.random_uniform is deprecated. Please use tf.random.uniform instead.\n",
      "\n",
      "W0812 01:21:50.300170 15920 deprecation_wrapper.py:119] From c:\\users\\amand\\appdata\\local\\programs\\python\\python36\\lib\\site-packages\\keras\\backend\\tensorflow_backend.py:133: The name tf.placeholder_with_default is deprecated. Please use tf.compat.v1.placeholder_with_default instead.\n",
      "\n",
      "W0812 01:21:50.350175 15920 deprecation.py:506] From c:\\users\\amand\\appdata\\local\\programs\\python\\python36\\lib\\site-packages\\keras\\backend\\tensorflow_backend.py:3445: calling dropout (from tensorflow.python.ops.nn_ops) with keep_prob is deprecated and will be removed in a future version.\n",
      "Instructions for updating:\n",
      "Please use `rate` instead of `keep_prob`. Rate should be set to `rate = 1 - keep_prob`.\n",
      "W0812 01:21:50.439172 15920 deprecation_wrapper.py:119] From c:\\users\\amand\\appdata\\local\\programs\\python\\python36\\lib\\site-packages\\keras\\optimizers.py:790: The name tf.train.Optimizer is deprecated. Please use tf.compat.v1.train.Optimizer instead.\n",
      "\n",
      "W0812 01:21:50.512186 15920 deprecation_wrapper.py:119] From c:\\users\\amand\\appdata\\local\\programs\\python\\python36\\lib\\site-packages\\keras\\backend\\tensorflow_backend.py:3295: The name tf.log is deprecated. Please use tf.math.log instead.\n",
      "\n",
      "W0812 01:21:50.765176 15920 deprecation.py:323] From c:\\users\\amand\\appdata\\local\\programs\\python\\python36\\lib\\site-packages\\tensorflow\\python\\ops\\math_grad.py:1250: add_dispatch_support.<locals>.wrapper (from tensorflow.python.ops.array_ops) is deprecated and will be removed in a future version.\n",
      "Instructions for updating:\n",
      "Use tf.where in 2.0, which has the same broadcast rule as np.where\n"
     ]
    },
    {
     "name": "stdout",
     "output_type": "stream",
     "text": [
      "Train on 1567 samples, validate on 175 samples\n",
      "Epoch 1/2\n",
      "1567/1567 [==============================] - ETA: 33s - loss: 2.3209 - acc: 0.06 - ETA: 8s - loss: 2.2649 - acc: 0.1406 - ETA: 5s - loss: 2.2341 - acc: 0.187 - ETA: 4s - loss: 2.2007 - acc: 0.195 - ETA: 3s - loss: 2.1436 - acc: 0.233 - ETA: 2s - loss: 2.0855 - acc: 0.276 - ETA: 2s - loss: 2.0465 - acc: 0.289 - ETA: 1s - loss: 2.0250 - acc: 0.296 - ETA: 1s - loss: 1.9918 - acc: 0.316 - ETA: 1s - loss: 1.9851 - acc: 0.313 - ETA: 1s - loss: 1.9715 - acc: 0.312 - ETA: 0s - loss: 1.9437 - acc: 0.317 - ETA: 0s - loss: 1.9504 - acc: 0.320 - ETA: 0s - loss: 1.9499 - acc: 0.322 - ETA: 0s - loss: 1.9305 - acc: 0.330 - ETA: 0s - loss: 1.9268 - acc: 0.326 - ETA: 0s - loss: 1.9092 - acc: 0.336 - ETA: 0s - loss: 1.8876 - acc: 0.347 - ETA: 0s - loss: 1.8737 - acc: 0.352 - 2s 1ms/step - loss: 1.8744 - acc: 0.3523 - val_loss: 1.6842 - val_acc: 0.4514\n",
      "Epoch 2/2\n",
      "1567/1567 [==============================] - ETA: 1s - loss: 1.4412 - acc: 0.500 - ETA: 1s - loss: 1.5380 - acc: 0.552 - ETA: 1s - loss: 1.5755 - acc: 0.525 - ETA: 0s - loss: 1.5577 - acc: 0.527 - ETA: 0s - loss: 1.5154 - acc: 0.536 - ETA: 0s - loss: 1.5017 - acc: 0.533 - ETA: 0s - loss: 1.5289 - acc: 0.520 - ETA: 0s - loss: 1.5116 - acc: 0.525 - ETA: 0s - loss: 1.5181 - acc: 0.525 - ETA: 0s - loss: 1.4973 - acc: 0.536 - ETA: 0s - loss: 1.4914 - acc: 0.536 - ETA: 0s - loss: 1.4741 - acc: 0.544 - ETA: 0s - loss: 1.4703 - acc: 0.542 - ETA: 0s - loss: 1.4710 - acc: 0.535 - ETA: 0s - loss: 1.4689 - acc: 0.530 - ETA: 0s - loss: 1.4608 - acc: 0.532 - ETA: 0s - loss: 1.4611 - acc: 0.527 - 1s 671us/step - loss: 1.4565 - acc: 0.5303 - val_loss: 1.5218 - val_acc: 0.4971\n"
     ]
    }
   ],
   "source": [
    "import itertools\n",
    "import os\n",
    "\n",
    "%matplotlib inline\n",
    "import matplotlib.pyplot as plt\n",
    "import numpy as np\n",
    "import pandas as pd\n",
    "import tensorflow as tf\n",
    "\n",
    "from sklearn.preprocessing import LabelBinarizer, LabelEncoder\n",
    "from sklearn.metrics import confusion_matrix\n",
    "\n",
    "from tensorflow import keras\n",
    "from keras.models import Sequential\n",
    "from keras.layers import Dense, Activation, Dropout\n",
    "from keras.preprocessing import text, sequence\n",
    "from keras import utils\n",
    "\n",
    "train_size = int(len(df) * .7)\n",
    "train_posts = df['cleantext'][:train_size]\n",
    "train_tags = df['label'][:train_size]\n",
    "\n",
    "test_posts = df['cleantext'][train_size:]\n",
    "test_tags = df['label'][train_size:]\n",
    "\n",
    "max_words = 1000\n",
    "tokenize = text.Tokenizer(num_words=max_words, char_level=False)\n",
    "tokenize.fit_on_texts(train_posts) # only fit on train\n",
    "\n",
    "x_train = tokenize.texts_to_matrix(train_posts)\n",
    "x_test = tokenize.texts_to_matrix(test_posts)\n",
    "\n",
    "encoder = LabelEncoder()\n",
    "encoder.fit(train_tags)\n",
    "y_train = encoder.transform(train_tags)\n",
    "y_test = encoder.transform(test_tags)\n",
    "\n",
    "num_classes = np.max(y_train) + 1\n",
    "y_train = utils.to_categorical(y_train, num_classes)\n",
    "y_test = utils.to_categorical(y_test, num_classes)\n",
    "\n",
    "batch_size = 32\n",
    "epochs = 2\n",
    "\n",
    "# Build the model\n",
    "model = Sequential()\n",
    "model.add(Dense(512, input_shape=(max_words,)))\n",
    "model.add(Activation('relu'))\n",
    "model.add(Dropout(0.5))\n",
    "model.add(Dense(num_classes))\n",
    "model.add(Activation('softmax'))\n",
    "\n",
    "model.compile(loss='categorical_crossentropy',\n",
    "              optimizer='adam',\n",
    "              metrics=['accuracy'])\n",
    "              \n",
    "history = model.fit(x_train, y_train,\n",
    "                    batch_size=batch_size,\n",
    "                    epochs=epochs,\n",
    "                    verbose=1,\n",
    "                    validation_split=0.1)"
   ]
  },
  {
   "cell_type": "code",
   "execution_count": 250,
   "metadata": {},
   "outputs": [
    {
     "name": "stdout",
     "output_type": "stream",
     "text": [
      "747/747 [==============================] - ETA:  - ETA:  - 0s 83us/step\n",
      "Test accuracy: 0.3855421686746988\n"
     ]
    }
   ],
   "source": [
    "score = model.evaluate(x_test, y_test,\n",
    "                       batch_size=batch_size, verbose=1)\n",
    "print('Test accuracy:', score[1])"
   ]
  },
  {
   "cell_type": "markdown",
   "metadata": {},
   "source": [
    "## some more exploring "
   ]
  },
  {
   "cell_type": "code",
   "execution_count": 173,
   "metadata": {},
   "outputs": [],
   "source": [
    "from sklearn.model_selection import train_test_split\n",
    "from sklearn.feature_extraction.text import CountVectorizer\n",
    "from sklearn.feature_extraction.text import TfidfTransformer\n",
    "from sklearn.naive_bayes import MultinomialNB\n",
    "\n",
    "X_train, X_test, y_train, y_test = train_test_split(df['cleantext'].values.astype(str), df['label'].values.astype(str), random_state = 0)\n",
    "count_vect = CountVectorizer()\n",
    "X_train_counts = count_vect.fit_transform(X_train)\n",
    "tfidf_transformer = TfidfTransformer()\n",
    "X_train_tfidf = tfidf_transformer.fit_transform(X_train_counts)\n",
    "\n",
    "clf = MultinomialNB().fit(X_train_tfidf, y_train)"
   ]
  },
  {
   "cell_type": "code",
   "execution_count": 174,
   "metadata": {
    "collapsed": true,
    "jupyter": {
     "outputs_hidden": true
    }
   },
   "outputs": [
    {
     "name": "stderr",
     "output_type": "stream",
     "text": [
      "c:\\users\\amand\\appdata\\local\\programs\\python\\python36\\lib\\site-packages\\sklearn\\linear_model\\logistic.py:432: FutureWarning: Default solver will be changed to 'lbfgs' in 0.22. Specify a solver to silence this warning.\n",
      "  FutureWarning)\n",
      "c:\\users\\amand\\appdata\\local\\programs\\python\\python36\\lib\\site-packages\\sklearn\\linear_model\\logistic.py:469: FutureWarning: Default multi_class will be changed to 'auto' in 0.22. Specify the multi_class option to silence this warning.\n",
      "  \"this warning.\", FutureWarning)\n"
     ]
    },
    {
     "name": "stdout",
     "output_type": "stream",
     "text": [
      "accuracy 0.300796812749004\n",
      "              precision    recall  f1-score   support\n",
      "\n",
      "           0       0.49      0.25      0.33       118\n",
      "           1       0.42      0.21      0.28       117\n",
      "          10       0.18      0.40      0.24        25\n",
      "           2       0.26      0.50      0.34        20\n",
      "           3       0.12      0.25      0.16        12\n",
      "           4       0.20      0.62      0.30        13\n",
      "           6       0.10      0.18      0.13        22\n",
      "           7       0.57      0.41      0.48       121\n",
      "           8       0.09      0.67      0.15         6\n",
      "           9       0.18      0.19      0.18        48\n",
      "\n",
      "    accuracy                           0.30       502\n",
      "   macro avg       0.26      0.37      0.26       502\n",
      "weighted avg       0.40      0.30      0.32       502\n",
      "\n",
      "--------------------------------------------------\n"
     ]
    },
    {
     "name": "stderr",
     "output_type": "stream",
     "text": [
      "c:\\users\\amand\\appdata\\local\\programs\\python\\python36\\lib\\site-packages\\sklearn\\linear_model\\logistic.py:432: FutureWarning: Default solver will be changed to 'lbfgs' in 0.22. Specify a solver to silence this warning.\n",
      "  FutureWarning)\n",
      "c:\\users\\amand\\appdata\\local\\programs\\python\\python36\\lib\\site-packages\\sklearn\\linear_model\\logistic.py:469: FutureWarning: Default multi_class will be changed to 'auto' in 0.22. Specify the multi_class option to silence this warning.\n",
      "  \"this warning.\", FutureWarning)\n"
     ]
    },
    {
     "name": "stdout",
     "output_type": "stream",
     "text": [
      "accuracy 0.27054108216432865\n",
      "              precision    recall  f1-score   support\n",
      "\n",
      "           0       0.50      0.28      0.36       118\n",
      "           1       0.53      0.15      0.23       117\n",
      "          10       0.07      0.12      0.09        25\n",
      "           2       0.15      0.35      0.21        20\n",
      "           3       0.15      0.58      0.24        12\n",
      "           4       0.19      0.54      0.28        13\n",
      "           6       0.11      0.24      0.15        21\n",
      "           7       0.48      0.38      0.43       121\n",
      "           8       0.10      0.80      0.17         5\n",
      "           9       0.12      0.13      0.12        47\n",
      "\n",
      "    accuracy                           0.27       499\n",
      "   macro avg       0.24      0.36      0.23       499\n",
      "weighted avg       0.40      0.27      0.29       499\n",
      "\n",
      "--------------------------------------------------\n"
     ]
    },
    {
     "name": "stderr",
     "output_type": "stream",
     "text": [
      "c:\\users\\amand\\appdata\\local\\programs\\python\\python36\\lib\\site-packages\\sklearn\\linear_model\\logistic.py:432: FutureWarning: Default solver will be changed to 'lbfgs' in 0.22. Specify a solver to silence this warning.\n",
      "  FutureWarning)\n",
      "c:\\users\\amand\\appdata\\local\\programs\\python\\python36\\lib\\site-packages\\sklearn\\linear_model\\logistic.py:469: FutureWarning: Default multi_class will be changed to 'auto' in 0.22. Specify the multi_class option to silence this warning.\n",
      "  \"this warning.\", FutureWarning)\n"
     ]
    },
    {
     "name": "stdout",
     "output_type": "stream",
     "text": [
      "accuracy 0.26961770623742454\n",
      "              precision    recall  f1-score   support\n",
      "\n",
      "           0       0.47      0.28      0.35       118\n",
      "           1       0.37      0.15      0.22       117\n",
      "          10       0.00      0.00      0.00        25\n",
      "           2       0.11      0.25      0.15        20\n",
      "           3       0.12      0.36      0.18        11\n",
      "           4       0.23      0.67      0.34        12\n",
      "           6       0.17      0.29      0.21        21\n",
      "           7       0.48      0.39      0.43       121\n",
      "           8       0.07      0.60      0.12         5\n",
      "           9       0.22      0.21      0.22        47\n",
      "\n",
      "    accuracy                           0.27       497\n",
      "   macro avg       0.22      0.32      0.22       497\n",
      "weighted avg       0.36      0.27      0.29       497\n",
      "\n",
      "--------------------------------------------------\n"
     ]
    },
    {
     "name": "stderr",
     "output_type": "stream",
     "text": [
      "c:\\users\\amand\\appdata\\local\\programs\\python\\python36\\lib\\site-packages\\sklearn\\linear_model\\logistic.py:432: FutureWarning: Default solver will be changed to 'lbfgs' in 0.22. Specify a solver to silence this warning.\n",
      "  FutureWarning)\n",
      "c:\\users\\amand\\appdata\\local\\programs\\python\\python36\\lib\\site-packages\\sklearn\\linear_model\\logistic.py:469: FutureWarning: Default multi_class will be changed to 'auto' in 0.22. Specify the multi_class option to silence this warning.\n",
      "  \"this warning.\", FutureWarning)\n"
     ]
    },
    {
     "name": "stdout",
     "output_type": "stream",
     "text": [
      "accuracy 0.24798387096774194\n",
      "              precision    recall  f1-score   support\n",
      "\n",
      "           0       0.50      0.20      0.29       118\n",
      "           1       0.43      0.17      0.25       116\n",
      "          10       0.09      0.16      0.11        25\n",
      "           2       0.14      0.30      0.19        20\n",
      "           3       0.12      0.45      0.19        11\n",
      "           4       0.19      0.58      0.29        12\n",
      "           6       0.15      0.29      0.20        21\n",
      "           7       0.43      0.32      0.37       121\n",
      "           8       0.04      0.40      0.08         5\n",
      "           9       0.17      0.21      0.19        47\n",
      "\n",
      "    accuracy                           0.25       496\n",
      "   macro avg       0.23      0.31      0.21       496\n",
      "weighted avg       0.37      0.25      0.27       496\n",
      "\n",
      "--------------------------------------------------\n"
     ]
    },
    {
     "name": "stderr",
     "output_type": "stream",
     "text": [
      "c:\\users\\amand\\appdata\\local\\programs\\python\\python36\\lib\\site-packages\\sklearn\\linear_model\\logistic.py:432: FutureWarning: Default solver will be changed to 'lbfgs' in 0.22. Specify a solver to silence this warning.\n",
      "  FutureWarning)\n",
      "c:\\users\\amand\\appdata\\local\\programs\\python\\python36\\lib\\site-packages\\sklearn\\linear_model\\logistic.py:469: FutureWarning: Default multi_class will be changed to 'auto' in 0.22. Specify the multi_class option to silence this warning.\n",
      "  \"this warning.\", FutureWarning)\n"
     ]
    },
    {
     "name": "stdout",
     "output_type": "stream",
     "text": [
      "accuracy 0.2828282828282828\n",
      "              precision    recall  f1-score   support\n",
      "\n",
      "           0       0.55      0.31      0.40       117\n",
      "           1       0.49      0.17      0.25       116\n",
      "          10       0.09      0.20      0.12        25\n",
      "           2       0.19      0.30      0.24        20\n",
      "           3       0.03      0.09      0.05        11\n",
      "           4       0.19      0.75      0.31        12\n",
      "           6       0.11      0.19      0.14        21\n",
      "           7       0.49      0.42      0.45       121\n",
      "           8       0.06      0.60      0.12         5\n",
      "           9       0.14      0.11      0.12        47\n",
      "\n",
      "    accuracy                           0.28       495\n",
      "   macro avg       0.24      0.31      0.22       495\n",
      "weighted avg       0.40      0.28      0.31       495\n",
      "\n",
      "--------------------------------------------------\n",
      "accuracy: 27.44% (+/- 1.73%)\n",
      "precision: 23.72% (+/- 1.28%)\n",
      "recall: 33.33% (+/- 2.35%)\n",
      "f1 score: 22.86% (+/- 1.59%)\n"
     ]
    },
    {
     "name": "stderr",
     "output_type": "stream",
     "text": [
      "c:\\users\\amand\\appdata\\local\\programs\\python\\python36\\lib\\site-packages\\sklearn\\linear_model\\logistic.py:432: FutureWarning: Default solver will be changed to 'lbfgs' in 0.22. Specify a solver to silence this warning.\n",
      "  FutureWarning)\n",
      "c:\\users\\amand\\appdata\\local\\programs\\python\\python36\\lib\\site-packages\\sklearn\\linear_model\\logistic.py:469: FutureWarning: Default multi_class will be changed to 'auto' in 0.22. Specify the multi_class option to silence this warning.\n",
      "  \"this warning.\", FutureWarning)\n",
      "c:\\users\\amand\\appdata\\local\\programs\\python\\python36\\lib\\site-packages\\sklearn\\linear_model\\logistic.py:432: FutureWarning: Default solver will be changed to 'lbfgs' in 0.22. Specify a solver to silence this warning.\n",
      "  FutureWarning)\n",
      "c:\\users\\amand\\appdata\\local\\programs\\python\\python36\\lib\\site-packages\\sklearn\\linear_model\\logistic.py:469: FutureWarning: Default multi_class will be changed to 'auto' in 0.22. Specify the multi_class option to silence this warning.\n",
      "  \"this warning.\", FutureWarning)\n",
      "c:\\users\\amand\\appdata\\local\\programs\\python\\python36\\lib\\site-packages\\sklearn\\linear_model\\logistic.py:432: FutureWarning: Default solver will be changed to 'lbfgs' in 0.22. Specify a solver to silence this warning.\n",
      "  FutureWarning)\n",
      "c:\\users\\amand\\appdata\\local\\programs\\python\\python36\\lib\\site-packages\\sklearn\\linear_model\\logistic.py:469: FutureWarning: Default multi_class will be changed to 'auto' in 0.22. Specify the multi_class option to silence this warning.\n",
      "  \"this warning.\", FutureWarning)\n",
      "c:\\users\\amand\\appdata\\local\\programs\\python\\python36\\lib\\site-packages\\sklearn\\linear_model\\logistic.py:432: FutureWarning: Default solver will be changed to 'lbfgs' in 0.22. Specify a solver to silence this warning.\n",
      "  FutureWarning)\n",
      "c:\\users\\amand\\appdata\\local\\programs\\python\\python36\\lib\\site-packages\\sklearn\\linear_model\\logistic.py:469: FutureWarning: Default multi_class will be changed to 'auto' in 0.22. Specify the multi_class option to silence this warning.\n",
      "  \"this warning.\", FutureWarning)\n",
      "c:\\users\\amand\\appdata\\local\\programs\\python\\python36\\lib\\site-packages\\sklearn\\linear_model\\logistic.py:432: FutureWarning: Default solver will be changed to 'lbfgs' in 0.22. Specify a solver to silence this warning.\n",
      "  FutureWarning)\n",
      "c:\\users\\amand\\appdata\\local\\programs\\python\\python36\\lib\\site-packages\\sklearn\\linear_model\\logistic.py:469: FutureWarning: Default multi_class will be changed to 'auto' in 0.22. Specify the multi_class option to silence this warning.\n",
      "  \"this warning.\", FutureWarning)\n"
     ]
    }
   ],
   "source": [
    "from sklearn.linear_model import LogisticRegression\n",
    "from sklearn.ensemble import RandomForestClassifier\n",
    "from sklearn.naive_bayes import MultinomialNB\n",
    "from sklearn.svm import LinearSVC\n",
    "\n",
    "from sklearn.model_selection import cross_val_score\n",
    "\n",
    "lr_cv(split, df['cleantext'].values.astype(str), df['label'].values.astype(str), NM3_pipeline, avg_method)\n",
    "\n",
    "models = [\n",
    "    RandomForestClassifier(n_estimators=200, max_depth=3, random_state=0),\n",
    "    LinearSVC(),\n",
    "    MultinomialNB(),\n",
    "    LogisticRegression(random_state=0),\n",
    "]\n",
    "CV = split\n",
    "cv_df = pd.DataFrame(index=range(CV * len(models)))\n",
    "entries = []\n",
    "for model in models:\n",
    "  model_name = model.__class__.__name__\n",
    "  accuracies = cross_val_score(model, features, labels, scoring='accuracy', cv=CV)\n",
    "  for fold_idx, accuracy in enumerate(accuracies):\n",
    "    entries.append((model_name, fold_idx, accuracy))\n",
    "cv_df = pd.DataFrame(entries, columns=['model_name', 'fold_idx', 'accuracy'])"
   ]
  },
  {
   "cell_type": "code",
   "execution_count": 177,
   "metadata": {},
   "outputs": [
    {
     "data": {
      "image/png": "[encoded data removed]",
      "text/plain": [
       "<Figure size 432x288 with 1 Axes>"
      ]
     },
     "metadata": {
      "needs_background": "light"
     },
     "output_type": "display_data"
    }
   ],
   "source": [
    "import seaborn as sns\n",
    "\n",
    "sns.boxplot(x='model_name', y='accuracy', data=cv_df)\n",
    "sns.stripplot(x='model_name', y='accuracy', data=cv_df, \n",
    "              size=8, jitter=True, edgecolor=\"gray\", linewidth=2)\n",
    "plt.show()\n"
   ]
  },
  {
   "cell_type": "code",
   "execution_count": 253,
   "metadata": {},
   "outputs": [
    {
     "data": {
      "text/plain": [
       "model_name\n",
       "LinearSVC                 0.494638\n",
       "LogisticRegression        0.474123\n",
       "MultinomialNB             0.444368\n",
       "RandomForestClassifier    0.372468\n",
       "Name: accuracy, dtype: float64"
      ]
     },
     "execution_count": 253,
     "metadata": {},
     "output_type": "execute_result"
    }
   ],
   "source": [
    "cv_df.groupby('model_name').accuracy.mean()\n",
    "\n"
   ]
  },
  {
   "cell_type": "code",
   "execution_count": 179,
   "metadata": {},
   "outputs": [],
   "source": [
    "from sklearn.model_selection import train_test_split\n",
    "\n",
    "model = LinearSVC()\n",
    "\n",
    "X_train, X_test, y_train, y_test, indices_train, indices_test = train_test_split(features, labels, df.index, test_size=0.33, random_state=0)\n",
    "model.fit(X_train, y_train)\n",
    "y_pred = model.predict(X_test)"
   ]
  },
  {
   "cell_type": "code",
   "execution_count": 185,
   "metadata": {},
   "outputs": [],
   "source": [
    "label_list = df.label.unique()\n"
   ]
  },
  {
   "cell_type": "code",
   "execution_count": 187,
   "metadata": {
    "scrolled": true
   },
   "outputs": [
    {
     "data": {
      "image/png": "[encoded data removed]",
      "text/plain": [
       "<Figure size 576x432 with 2 Axes>"
      ]
     },
     "metadata": {
      "needs_background": "light"
     },
     "output_type": "display_data"
    }
   ],
   "source": [
    "from sklearn.metrics import confusion_matrix\n",
    "\n",
    "conf_mat = confusion_matrix(y_test, y_pred)\n",
    "fig, ax = plt.subplots(figsize=(8,6))\n",
    "sns.heatmap(conf_mat, annot=True, fmt='d',\n",
    "            xticklabels=label_list, yticklabels=label_list)\n",
    "plt.ylabel('Actual')\n",
    "plt.xlabel('Predicted')\n",
    "plt.show()"
   ]
  },
  {
   "cell_type": "code",
   "execution_count": 191,
   "metadata": {},
   "outputs": [
    {
     "name": "stdout",
     "output_type": "stream",
     "text": [
      "              precision    recall  f1-score   support\n",
      "\n",
      "           0       0.50      0.67      0.57       173\n",
      "           6       0.44      0.48      0.46       193\n",
      "           8       0.24      0.17      0.20        40\n",
      "           4       0.53      0.21      0.30        38\n",
      "           7       0.25      0.21      0.23        14\n",
      "           1       0.75      0.50      0.60        24\n",
      "           2       0.73      0.65      0.69        37\n",
      "          10       0.61      0.64      0.63       214\n",
      "           9       1.00      0.14      0.25         7\n",
      "           3       0.43      0.27      0.33        82\n",
      "\n",
      "    accuracy                           0.51       822\n",
      "   macro avg       0.55      0.40      0.43       822\n",
      "weighted avg       0.52      0.51      0.50       822\n",
      "\n"
     ]
    }
   ],
   "source": [
    "from sklearn import metrics\n",
    "print(metrics.classification_report(y_test, y_pred, \n",
    "                                    target_names=df['label'].unique()))"
   ]
  },
  {
   "cell_type": "code",
   "execution_count": 11,
   "metadata": {},
   "outputs": [
    {
     "data": {
      "text/plain": [
       "(2489, 1235)"
      ]
     },
     "execution_count": 11,
     "metadata": {},
     "output_type": "execute_result"
    }
   ],
   "source": [
    "##failed attemp with using chi2 on imbalanced data\n",
    "\n",
    "# tfidf = TfidfVectorizer(sublinear_tf=True, min_df=5, norm='l2', encoding='latin-1', ngram_range=(1, 2), stop_words='english')\n",
    "# features = tfidf.fit_transform(df.cleantext).toarray()\n",
    "# labels = df.label\n",
    "# features.shape\n",
    "\n",
    "# label_list = df[['label']].drop_duplicates().sort_values('label')\n",
    "\n",
    "\n",
    "# from sklearn.feature_selection import chi2\n",
    "# N = 2\n",
    "# for i in sorted(label_list.values):\n",
    "#   features_chi2 = chi2(features, labels == i)\n",
    "#   indices = np.argsort(features_chi2[0])\n",
    "#   feature_names = np.array(tfidf.get_feature_names())[indices]\n",
    "#   unigrams = [v for v in feature_names if len(v.split(' ')) == 1]\n",
    "#   bigrams = [v for v in feature_names if len(v.split(' ')) == 2]\n",
    "#   print(\"  . Most correlated unigrams:\\n. {}\".format('\\n. '.join(unigrams[-N:])))\n",
    "#   print(\"  . Most correlated bigrams:\\n. {}\".format('\\n. '.join(bigrams[-N:])))"
   ]
  }
 ],
 "metadata": {
  "kernelspec": {
   "display_name": "Python 3",
   "language": "python",
   "name": "python3"
  },
  "language_info": {
   "codemirror_mode": {
    "name": "ipython",
    "version": 3
   },
   "file_extension": ".py",
   "mimetype": "text/x-python",
   "name": "python",
   "nbconvert_exporter": "python",
   "pygments_lexer": "ipython3",
   "version": "3.8.5"
  }
 },
 "nbformat": 4,
 "nbformat_minor": 4
}
