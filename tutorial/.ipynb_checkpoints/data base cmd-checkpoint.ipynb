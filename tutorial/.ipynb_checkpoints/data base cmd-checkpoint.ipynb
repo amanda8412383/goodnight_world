{
 "cells": [
  {
   "cell_type": "markdown",
   "metadata": {},
   "source": [
    "\n",
    "\n",
    "## start mySQL\n",
    "\n",
    "services.msc (start -> run)\n",
    "\n",
    "## COPY TABLE BETWEEN PROJECT IN BQ\n",
    "\n",
    "bq cp projectid1:dataset1.table1 projectid2:dataset2.table2"
   ]
  },
  {
   "cell_type": "code",
   "execution_count": null,
   "metadata": {},
   "outputs": [],
   "source": [
    "bq cp ra-work-content:ceo_tweet_streaming.reply_to_description ntue-data-sci:ceo_tweet_streaming.reply_to_description\n",
    "        \n"
   ]
  }
 ],
 "metadata": {
  "kernelspec": {
   "display_name": "Python 3",
   "language": "python",
   "name": "python3"
  },
  "language_info": {
   "codemirror_mode": {
    "name": "ipython",
    "version": 3
   },
   "file_extension": ".py",
   "mimetype": "text/x-python",
   "name": "python",
   "nbconvert_exporter": "python",
   "pygments_lexer": "ipython3",
   "version": "3.6.8"
  }
 },
 "nbformat": 4,
 "nbformat_minor": 2
}
